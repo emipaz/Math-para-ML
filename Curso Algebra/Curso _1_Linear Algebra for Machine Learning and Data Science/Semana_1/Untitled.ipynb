{
 "cells": [
  {
   "cell_type": "markdown",
   "id": "a8a33cc2-30ec-4f8a-83ea-3b670323a1e1",
   "metadata": {},
   "source": [
    "# Preguntas Videos Semana 1"
   ]
  },
  {
   "cell_type": "markdown",
   "id": "677a962a-b996-4102-8e5b-53925107ef9d",
   "metadata": {},
   "source": [
    "## Dado este sistema:\n",
    "\n",
    "\n",
    "- Entre el perro, el gato y el pájaro, uno es rojo.\n",
    "- Entre el perro y el gato, uno es naranja.\n",
    "- El perro es negro.\n",
    "\n",
    "¿De qué color es el pájaro?"
   ]
  },
  {
   "cell_type": "code",
   "execution_count": 1,
   "id": "0aea09fc-4a5e-4151-a03f-4a105102d5af",
   "metadata": {
    "tags": []
   },
   "outputs": [
    {
     "data": {
      "text/html": [
       "\n",
       "<fieldset>\n",
       "    <label><input type = \"radio\" value = \"rojo\"    name = \"size\"> ROJO</label>\n",
       "    <label><input type = \"radio\" value = \"negro\"   name = \"size\"> NEGRO</label>\n",
       "    <label><input type = \"radio\" value = \"naranja\" name = \"size\"> NARANJA</label>\n",
       "</fieldset>\n"
      ],
      "text/plain": [
       "<IPython.core.display.HTML object>"
      ]
     },
     "metadata": {},
     "output_type": "display_data"
    }
   ],
   "source": [
    "%%HTML\n",
    "\n",
    "<fieldset>\n",
    "    <label><input type = \"radio\" value = \"rojo\"    name = \"size\"> ROJO</label>\n",
    "    <label><input type = \"radio\" value = \"negro\"   name = \"size\"> NEGRO</label>\n",
    "    <label><input type = \"radio\" value = \"naranja\" name = \"size\"> NARANJA</label>\n",
    "</fieldset>\n"
   ]
  },
  {
   "cell_type": "code",
   "execution_count": 2,
   "id": "35d3e45d-08b1-4484-b8a6-4d100c68b8e0",
   "metadata": {},
   "outputs": [],
   "source": [
    "import base64"
   ]
  },
  {
   "cell_type": "code",
   "execution_count": 10,
   "id": "3183e767-6335-4496-9cd5-aff8ecc38cfd",
   "metadata": {},
   "outputs": [
    {
     "data": {
      "text/plain": [
       "b'cm9qbw=='"
      ]
     },
     "execution_count": 10,
     "metadata": {},
     "output_type": "execute_result"
    }
   ],
   "source": [
    "base64.b64encode(b\"rojo\")"
   ]
  },
  {
   "cell_type": "code",
   "execution_count": 15,
   "id": "04d0e0ac-3a57-46f6-a57b-37910faf57f2",
   "metadata": {},
   "outputs": [
    {
     "data": {
      "text/plain": [
       "b'cm9qbw=='"
      ]
     },
     "execution_count": 15,
     "metadata": {},
     "output_type": "execute_result"
    }
   ],
   "source": [
    "encoded = base64.b64encode(b\"rojo\")\n",
    "encoded"
   ]
  },
  {
   "cell_type": "code",
   "execution_count": 11,
   "id": "588ffa76-a7a4-473d-91d4-1f25b7710b42",
   "metadata": {},
   "outputs": [],
   "source": [
    "result = b'cm9qbw=='"
   ]
  },
  {
   "cell_type": "code",
   "execution_count": 19,
   "id": "a04a5ee2-d92b-4091-a2ae-31b1ceea2eac",
   "metadata": {},
   "outputs": [
    {
     "name": "stdout",
     "output_type": "stream",
     "text": [
      "¿De qué color es el pájaro? rojo\n"
     ]
    },
    {
     "data": {
      "text/plain": [
       "True"
      ]
     },
     "execution_count": 19,
     "metadata": {},
     "output_type": "execute_result"
    }
   ],
   "source": [
    "input(\"¿De qué color es el pájaro?\").lower().strip() == base64.b64decode(encoded).decode()"
   ]
  },
  {
   "cell_type": "code",
   "execution_count": 18,
   "id": "271fbb41-f2d4-48dd-b6a3-f5798664a89e",
   "metadata": {},
   "outputs": [
    {
     "data": {
      "text/plain": [
       "'rojo'"
      ]
     },
     "execution_count": 18,
     "metadata": {},
     "output_type": "execute_result"
    }
   ],
   "source": [
    "base64.b64decode(encoded).decode()"
   ]
  },
  {
   "cell_type": "markdown",
   "id": "c4cbb0b3-81dc-495e-9187-6314d5fd80af",
   "metadata": {},
   "source": [
    "El sistema lleva tantos datos como oraciones, lo que significa que es un sistema completo, lo que se denomina no singular"
   ]
  },
  {
   "cell_type": "code",
   "execution_count": null,
   "id": "6c603a62-b363-4573-a272-808a5aab6da6",
   "metadata": {},
   "outputs": [],
   "source": []
  }
 ],
 "metadata": {
  "kernelspec": {
   "display_name": "anaconda",
   "language": "python",
   "name": "anaconda"
  },
  "language_info": {
   "codemirror_mode": {
    "name": "ipython",
    "version": 3
   },
   "file_extension": ".py",
   "mimetype": "text/x-python",
   "name": "python",
   "nbconvert_exporter": "python",
   "pygments_lexer": "ipython3",
   "version": "3.9.13"
  }
 },
 "nbformat": 4,
 "nbformat_minor": 5
}
