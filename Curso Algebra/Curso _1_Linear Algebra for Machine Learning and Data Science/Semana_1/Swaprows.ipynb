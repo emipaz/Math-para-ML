{
 "cells": [
  {
   "cell_type": "code",
   "execution_count": 2,
   "metadata": {},
   "outputs": [],
   "source": [
    "import numpy as np"
   ]
  },
  {
   "cell_type": "code",
   "execution_count": 6,
   "metadata": {},
   "outputs": [],
   "source": [
    "def SwapRows(M, row_num_1, row_num_2):\n",
    "    M_new = M.copy()     \n",
    "    # exchange row_num_1 and row_num_2 of the matrix M_new\n",
    "    M_new[row_num_1], M_new[row_num_2] = M[row_num_2], M[row_num_1]\n",
    "\n",
    "    return M_new"
   ]
  },
  {
   "cell_type": "code",
   "execution_count": 7,
   "metadata": {},
   "outputs": [],
   "source": [
    "A_test = np.array([\n",
    "        [1, -2, 3, -4],\n",
    "        [-5, 6, -7, 8],\n",
    "        [-4, 3, -2, 1], \n",
    "        [8, -7, 6, -5]\n",
    "    ], dtype=np.dtype(float))"
   ]
  },
  {
   "cell_type": "code",
   "execution_count": 8,
   "metadata": {},
   "outputs": [
    {
     "name": "stdout",
     "output_type": "stream",
     "text": [
      "[[-4.  3. -2.  1.]\n",
      " [-5.  6. -7.  8.]\n",
      " [ 1. -2.  3. -4.]\n",
      " [ 8. -7.  6. -5.]]\n"
     ]
    }
   ],
   "source": [
    "a_test =  SwapRows(A_test, 0,2)\n",
    "print(a_test)"
   ]
  },
  {
   "cell_type": "code",
   "execution_count": 9,
   "metadata": {},
   "outputs": [
    {
     "name": "stdout",
     "output_type": "stream",
     "text": [
      "\u001b[0;31mSignature:\u001b[0m \u001b[0mnp\u001b[0m\u001b[0;34m.\u001b[0m\u001b[0mlinalg\u001b[0m\u001b[0;34m.\u001b[0m\u001b[0msvd\u001b[0m\u001b[0;34m(\u001b[0m\u001b[0ma\u001b[0m\u001b[0;34m,\u001b[0m \u001b[0mfull_matrices\u001b[0m\u001b[0;34m=\u001b[0m\u001b[0;32mTrue\u001b[0m\u001b[0;34m,\u001b[0m \u001b[0mcompute_uv\u001b[0m\u001b[0;34m=\u001b[0m\u001b[0;32mTrue\u001b[0m\u001b[0;34m,\u001b[0m \u001b[0mhermitian\u001b[0m\u001b[0;34m=\u001b[0m\u001b[0;32mFalse\u001b[0m\u001b[0;34m)\u001b[0m\u001b[0;34m\u001b[0m\u001b[0;34m\u001b[0m\u001b[0m\n",
      "\u001b[0;31mDocstring:\u001b[0m\n",
      "Singular Value Decomposition.\n",
      "\n",
      "When `a` is a 2D array, it is factorized as ``u @ np.diag(s) @ vh\n",
      "= (u * s) @ vh``, where `u` and `vh` are 2D unitary arrays and `s` is a 1D\n",
      "array of `a`'s singular values. When `a` is higher-dimensional, SVD is\n",
      "applied in stacked mode as explained below.\n",
      "\n",
      "Parameters\n",
      "----------\n",
      "a : (..., M, N) array_like\n",
      "    A real or complex array with ``a.ndim >= 2``.\n",
      "full_matrices : bool, optional\n",
      "    If True (default), `u` and `vh` have the shapes ``(..., M, M)`` and\n",
      "    ``(..., N, N)``, respectively.  Otherwise, the shapes are\n",
      "    ``(..., M, K)`` and ``(..., K, N)``, respectively, where\n",
      "    ``K = min(M, N)``.\n",
      "compute_uv : bool, optional\n",
      "    Whether or not to compute `u` and `vh` in addition to `s`.  True\n",
      "    by default.\n",
      "hermitian : bool, optional\n",
      "    If True, `a` is assumed to be Hermitian (symmetric if real-valued),\n",
      "    enabling a more efficient method for finding singular values.\n",
      "    Defaults to False.\n",
      "\n",
      "    .. versionadded:: 1.17.0\n",
      "\n",
      "Returns\n",
      "-------\n",
      "u : { (..., M, M), (..., M, K) } array\n",
      "    Unitary array(s). The first ``a.ndim - 2`` dimensions have the same\n",
      "    size as those of the input `a`. The size of the last two dimensions\n",
      "    depends on the value of `full_matrices`. Only returned when\n",
      "    `compute_uv` is True.\n",
      "s : (..., K) array\n",
      "    Vector(s) with the singular values, within each vector sorted in\n",
      "    descending order. The first ``a.ndim - 2`` dimensions have the same\n",
      "    size as those of the input `a`.\n",
      "vh : { (..., N, N), (..., K, N) } array\n",
      "    Unitary array(s). The first ``a.ndim - 2`` dimensions have the same\n",
      "    size as those of the input `a`. The size of the last two dimensions\n",
      "    depends on the value of `full_matrices`. Only returned when\n",
      "    `compute_uv` is True.\n",
      "\n",
      "Raises\n",
      "------\n",
      "LinAlgError\n",
      "    If SVD computation does not converge.\n",
      "\n",
      "See Also\n",
      "--------\n",
      "scipy.linalg.svd : Similar function in SciPy.\n",
      "scipy.linalg.svdvals : Compute singular values of a matrix.\n",
      "\n",
      "Notes\n",
      "-----\n",
      "\n",
      ".. versionchanged:: 1.8.0\n",
      "   Broadcasting rules apply, see the `numpy.linalg` documentation for\n",
      "   details.\n",
      "\n",
      "The decomposition is performed using LAPACK routine ``_gesdd``.\n",
      "\n",
      "SVD is usually described for the factorization of a 2D matrix :math:`A`.\n",
      "The higher-dimensional case will be discussed below. In the 2D case, SVD is\n",
      "written as :math:`A = U S V^H`, where :math:`A = a`, :math:`U= u`,\n",
      ":math:`S= \\mathtt{np.diag}(s)` and :math:`V^H = vh`. The 1D array `s`\n",
      "contains the singular values of `a` and `u` and `vh` are unitary. The rows\n",
      "of `vh` are the eigenvectors of :math:`A^H A` and the columns of `u` are\n",
      "the eigenvectors of :math:`A A^H`. In both cases the corresponding\n",
      "(possibly non-zero) eigenvalues are given by ``s**2``.\n",
      "\n",
      "If `a` has more than two dimensions, then broadcasting rules apply, as\n",
      "explained in :ref:`routines.linalg-broadcasting`. This means that SVD is\n",
      "working in \"stacked\" mode: it iterates over all indices of the first\n",
      "``a.ndim - 2`` dimensions and for each combination SVD is applied to the\n",
      "last two indices. The matrix `a` can be reconstructed from the\n",
      "decomposition with either ``(u * s[..., None, :]) @ vh`` or\n",
      "``u @ (s[..., None] * vh)``. (The ``@`` operator can be replaced by the\n",
      "function ``np.matmul`` for python versions below 3.5.)\n",
      "\n",
      "If `a` is a ``matrix`` object (as opposed to an ``ndarray``), then so are\n",
      "all the return values.\n",
      "\n",
      "Examples\n",
      "--------\n",
      ">>> a = np.random.randn(9, 6) + 1j*np.random.randn(9, 6)\n",
      ">>> b = np.random.randn(2, 7, 8, 3) + 1j*np.random.randn(2, 7, 8, 3)\n",
      "\n",
      "Reconstruction based on full SVD, 2D case:\n",
      "\n",
      ">>> u, s, vh = np.linalg.svd(a, full_matrices=True)\n",
      ">>> u.shape, s.shape, vh.shape\n",
      "((9, 9), (6,), (6, 6))\n",
      ">>> np.allclose(a, np.dot(u[:, :6] * s, vh))\n",
      "True\n",
      ">>> smat = np.zeros((9, 6), dtype=complex)\n",
      ">>> smat[:6, :6] = np.diag(s)\n",
      ">>> np.allclose(a, np.dot(u, np.dot(smat, vh)))\n",
      "True\n",
      "\n",
      "Reconstruction based on reduced SVD, 2D case:\n",
      "\n",
      ">>> u, s, vh = np.linalg.svd(a, full_matrices=False)\n",
      ">>> u.shape, s.shape, vh.shape\n",
      "((9, 6), (6,), (6, 6))\n",
      ">>> np.allclose(a, np.dot(u * s, vh))\n",
      "True\n",
      ">>> smat = np.diag(s)\n",
      ">>> np.allclose(a, np.dot(u, np.dot(smat, vh)))\n",
      "True\n",
      "\n",
      "Reconstruction based on full SVD, 4D case:\n",
      "\n",
      ">>> u, s, vh = np.linalg.svd(b, full_matrices=True)\n",
      ">>> u.shape, s.shape, vh.shape\n",
      "((2, 7, 8, 8), (2, 7, 3), (2, 7, 3, 3))\n",
      ">>> np.allclose(b, np.matmul(u[..., :3] * s[..., None, :], vh))\n",
      "True\n",
      ">>> np.allclose(b, np.matmul(u[..., :3], s[..., None] * vh))\n",
      "True\n",
      "\n",
      "Reconstruction based on reduced SVD, 4D case:\n",
      "\n",
      ">>> u, s, vh = np.linalg.svd(b, full_matrices=False)\n",
      ">>> u.shape, s.shape, vh.shape\n",
      "((2, 7, 8, 3), (2, 7, 3), (2, 7, 3, 3))\n",
      ">>> np.allclose(b, np.matmul(u * s[..., None, :], vh))\n",
      "True\n",
      ">>> np.allclose(b, np.matmul(u, s[..., None] * vh))\n",
      "True\n",
      "\u001b[0;31mFile:\u001b[0m      ~/anaconda3/lib/python3.9/site-packages/numpy/linalg/linalg.py\n",
      "\u001b[0;31mType:\u001b[0m      function\n"
     ]
    }
   ],
   "source": [
    "np.linalg.svd?"
   ]
  },
  {
   "cell_type": "code",
   "execution_count": null,
   "metadata": {},
   "outputs": [],
   "source": []
  }
 ],
 "metadata": {
  "kernelspec": {
   "display_name": "base",
   "language": "python",
   "name": "python3"
  },
  "language_info": {
   "codemirror_mode": {
    "name": "ipython",
    "version": 3
   },
   "file_extension": ".py",
   "mimetype": "text/x-python",
   "name": "python",
   "nbconvert_exporter": "python",
   "pygments_lexer": "ipython3",
   "version": "3.9.13"
  },
  "orig_nbformat": 4,
  "vscode": {
   "interpreter": {
    "hash": "8a32cce1f9b3e4570ca846caf6903fa722a4c567520840cb717f6823875f1f99"
   }
  }
 },
 "nbformat": 4,
 "nbformat_minor": 2
}
