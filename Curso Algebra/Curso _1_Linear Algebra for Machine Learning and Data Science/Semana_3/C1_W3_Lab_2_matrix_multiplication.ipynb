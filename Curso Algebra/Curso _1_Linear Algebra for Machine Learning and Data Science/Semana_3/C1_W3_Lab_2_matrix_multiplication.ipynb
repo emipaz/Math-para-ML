{
 "cells": [
  {
   "cell_type": "markdown",
   "id": "48446b1e",
   "metadata": {},
   "source": [
    "# Matrix Multiplication"
   ]
  },
  {
   "cell_type": "markdown",
   "id": "4b6934ea",
   "metadata": {},
   "source": [
    "En este laboratorio utilizarás las funciones de `NumPy` para realizar multiplicaciones de matrices y ver cómo se puede utilizar en aplicaciones de aprendizaje automático.\n"
   ]
  },
  {
   "cell_type": "markdown",
   "id": "4439a0e9",
   "metadata": {},
   "source": [
    "# Table of Contents\n",
    "\n",
    "- [ 1 - Definition of Matrix Multiplication](#1)\n",
    "- [ 2 - Matrix Multiplication using Python](#2)\n",
    "- [ 3 - Matrix Convention and Broadcasting](#3)"
   ]
  },
  {
   "cell_type": "markdown",
   "id": "c2743d75",
   "metadata": {},
   "source": [
    "## Packages\n",
    "\n",
    "Load the `NumPy` package to access its functions."
   ]
  },
  {
   "cell_type": "code",
   "execution_count": 1,
   "id": "b463e5b7",
   "metadata": {},
   "outputs": [],
   "source": [
    "import numpy as np"
   ]
  },
  {
   "cell_type": "markdown",
   "id": "5f9be5bb",
   "metadata": {},
   "source": [
    "<a name='1'></a>\n",
    "## 1 - Definition of Matrix Multiplication\n",
    "\n",
    "If $A$ is an $m \\times n$ matrix and $B$ is an $n \\times p$ matrix, the matrix product $C = AB$ (denoted without multiplication signs or dots) is defined to be the $m \\times p$ matrix such that \n",
    "$c_{ij}=a_{i1}b_{1j}+a_{i2}b_{2j}+\\ldots+a_{in}b_{nj}=\\sum_{k=1}^{n} a_{ik}b_{kj}, \\tag{4}$\n",
    "\n",
    "where $a_{ik}$ are the elements of matrix $A$, $b_{kj}$ are the elements of matrix $B$, and $i = 1, \\ldots, m$, $k=1, \\ldots, n$, $j = 1, \\ldots, p$. In other words, $c_{ij}$ is the dot product of the $i$-th row of $A$ and the $j$-th column of $B$.\n",
    "\n",
    "Definición de multiplicación de matrices\n",
    "\n",
    "Si $A$ es una matriz de tamaño $m \\times n$ y $B$ es una matriz de tamaño $n \\times p$, el producto matricial $C = AB$ (representado sin signos de multiplicación o puntos) se define como la matriz de tamaño $m \\times p$ tal que\n",
    "$c_{ij}=a_{i1}b_{1j}+a_{i2}b_{2j}+\\ldots+a_{in}b_{nj}=\\sum_{k=1}^{n} a_{ik}b_{kj}, \\tag{4}$\n",
    "\n",
    "donde $a_{ik}$ son los elementos de la matriz $A$, $b_{kj}$ son los elementos de la matriz $B$, e $i = 1, \\ldots, m$, $k=1, \\ldots, n$, $j = 1, \\ldots, p$. En otras palabras, $c_{ij}$ es el producto punto de la fila $i$-ésima de $A$ y la columna $j$-ésima de $B$.\n"
   ]
  },
  {
   "cell_type": "markdown",
   "id": "ecd63af9",
   "metadata": {},
   "source": [
    "<a name='2'></a>\n",
    "## 2 - Matrix Multiplication using Python\n",
    "\n",
    "Like with the dot product, there are a few ways to perform matrix multiplication in Python. As discussed in the previous lab, the calculations are more efficient in the vectorized form. Let's discuss the most commonly used functions in the vectorized form. First, define two matrices:\n",
    "\n",
    "Multiplicación de matrices usando Python\n",
    "\n",
    "Al igual que con el producto punto, hay varias formas de realizar la multiplicación de matrices en Python. Como se discutió en el laboratorio anterior, los cálculos son más eficientes en la forma vectorizada. Examinemos las funciones más comúnmente utilizadas en la forma vectorizada. Primero, definamos dos matrices:"
   ]
  },
  {
   "cell_type": "code",
   "execution_count": 2,
   "id": "8b0f59f5",
   "metadata": {},
   "outputs": [
    {
     "name": "stdout",
     "output_type": "stream",
     "text": [
      "Matrix A (3 by 3):\n",
      " [[4 9 9]\n",
      " [9 1 6]\n",
      " [9 2 3]]\n",
      "Matrix B (3 by 2):\n",
      " [[2 2]\n",
      " [5 7]\n",
      " [4 4]]\n"
     ]
    }
   ],
   "source": [
    "A = np.array([[4, 9, 9], [9, 1, 6], [9, 2, 3]])\n",
    "print(\"Matrix A (3 by 3):\\n\", A)\n",
    "\n",
    "B = np.array([[2, 2], [5, 7], [4, 4]])\n",
    "print(\"Matrix B (3 by 2):\\n\", B)"
   ]
  },
  {
   "cell_type": "markdown",
   "id": "cdf047c9",
   "metadata": {},
   "source": [
    "You can multiply matrices $A$ and $B$ using `NumPy` package function `np.matmul()`:\n",
    "\n",
    "Se pueden multiplicar las matrices $A$ y $B$ usando la función `np.matmul()` del paquete `NumPy`:"
   ]
  },
  {
   "cell_type": "code",
   "execution_count": 3,
   "id": "43452598",
   "metadata": {},
   "outputs": [
    {
     "data": {
      "text/plain": [
       "array([[ 89, 107],\n",
       "       [ 47,  49],\n",
       "       [ 40,  44]])"
      ]
     },
     "execution_count": 3,
     "metadata": {},
     "output_type": "execute_result"
    }
   ],
   "source": [
    "np.matmul(A, B)"
   ]
  },
  {
   "cell_type": "markdown",
   "id": "7be5d42a",
   "metadata": {},
   "source": [
    "Which will output $3 \\times 2$ matrix as a `np.array`. Python operator `@` will also work here giving the same result:\n",
    "\n",
    "Lo que producirá una matriz de tamaño $3 \\times 2$ como un `np.array`. El operador `@` de Python también funcionará aquí dando el mismo resultado:"
   ]
  },
  {
   "cell_type": "code",
   "execution_count": 4,
   "id": "bb36ba42",
   "metadata": {},
   "outputs": [
    {
     "data": {
      "text/plain": [
       "array([[ 89, 107],\n",
       "       [ 47,  49],\n",
       "       [ 40,  44]])"
      ]
     },
     "execution_count": 4,
     "metadata": {},
     "output_type": "execute_result"
    }
   ],
   "source": [
    "A @ B"
   ]
  },
  {
   "cell_type": "markdown",
   "id": "0186638b",
   "metadata": {},
   "source": [
    "<a name='3'></a>\n",
    "## 3 - Matrix Convention and Broadcasting\n",
    "\n",
    "Mathematically, matrix multiplication is defined only if number of the columns of matrix $A$ is equal to the number of the rows of matrix $B$ (you can check again the definition in the secition [1](#1) and see that otherwise the dot products between rows and columns will not be defined). \n",
    "\n",
    "Thus, in the example above ([2](#2)), changing the order of matrices when performing the multiplication $BA$ will not work as the above rule does not hold anymore. You can check it by running the cells below - both of them will give errors.\n",
    "\n",
    "Convención de matrices y transmisión (broadcasting)\n",
    "\n",
    "Matemáticamente, la multiplicación de matrices solo está definida si el número de columnas de la matriz $A$ es igual al número de filas de la matriz $B$ (puedes verificar nuevamente la definición en la sección [1](#1) y ver que de otra manera el producto punto entre filas y columnas no estaría definido).\n",
    "\n",
    "Por lo tanto, en el ejemplo anterior ([2](#2)), cambiar el orden de las matrices al realizar la multiplicación $BA$ no funcionará ya que la regla anterior ya no se cumple. Puedes comprobarlo ejecutando las celdas a continuación: ambas darán errores.\n"
   ]
  },
  {
   "cell_type": "code",
   "execution_count": 5,
   "id": "3ecc05e5",
   "metadata": {},
   "outputs": [
    {
     "name": "stdout",
     "output_type": "stream",
     "text": [
      "matmul: Input operand 1 has a mismatch in its core dimension 0, with gufunc signature (n?,k),(k,m?)->(n?,m?) (size 3 is different from 2)\n"
     ]
    }
   ],
   "source": [
    "try:\n",
    "    np.matmul(B, A)\n",
    "except ValueError as err:\n",
    "    print(err)"
   ]
  },
  {
   "cell_type": "code",
   "execution_count": 6,
   "id": "ea9c6d13",
   "metadata": {},
   "outputs": [
    {
     "name": "stdout",
     "output_type": "stream",
     "text": [
      "matmul: Input operand 1 has a mismatch in its core dimension 0, with gufunc signature (n?,k),(k,m?)->(n?,m?) (size 3 is different from 2)\n"
     ]
    }
   ],
   "source": [
    "try:\n",
    "    B @ A\n",
    "except ValueError as err:\n",
    "    print(err)"
   ]
  },
  {
   "cell_type": "markdown",
   "id": "05d9a674",
   "metadata": {},
   "source": [
    "So when using matrix multiplication you will need to be very careful about the dimensions - the number of the columns in the first matrix should match the number of the rows in the second matrix. This is very important for your future understanding of Neural Networks and how they work. \n",
    "\n",
    "However, for multiplying of the vectors, `NumPy` has a shortcut. You can define two vectors $x$ and $y$ of the same size (which one can understand as two $3 \\times 1$ matrices). If you check the shape of the vector $x$, you can see that :\n",
    "\n",
    "Por lo tanto, al usar la multiplicación de matrices, deberás tener mucho cuidado con las dimensiones: el número de columnas en la primera matriz debe coincidir con el número de filas en la segunda matriz. Esto es muy importante para tu comprensión futura de las Redes Neuronales y cómo funcionan.\n",
    "\n",
    "Sin embargo, para multiplicar vectores, `NumPy` tiene un atajo. Puedes definir dos vectores $x$ e $y$ del mismo tamaño (que se puede entender como dos matrices $3 \\times 1$). Si verificas la forma del vector $x$, puedes ver que:\n"
   ]
  },
  {
   "cell_type": "code",
   "execution_count": 7,
   "id": "fab77ce6",
   "metadata": {},
   "outputs": [
    {
     "name": "stdout",
     "output_type": "stream",
     "text": [
      "Shape of vector x: (3,)\n",
      "Number of dimensions of vector x: 1\n",
      "Shape of vector x, reshaped to a matrix: (3, 1)\n",
      "Number of dimensions of vector x, reshaped to a matrix: 2\n"
     ]
    }
   ],
   "source": [
    "x = np.array([1, -2, -5])\n",
    "y = np.array([4, 3, -1])\n",
    "\n",
    "print(\"Shape of vector x:\", x.shape)\n",
    "print(\"Number of dimensions of vector x:\", x.ndim)\n",
    "print(\"Shape of vector x, reshaped to a matrix:\", x.reshape((3, 1)).shape)\n",
    "print(\"Number of dimensions of vector x, reshaped to a matrix:\", x.reshape((3, 1)).ndim)"
   ]
  },
  {
   "cell_type": "markdown",
   "id": "5bd337df",
   "metadata": {},
   "source": [
    "Following the matrix convention, multiplication of matrices $3 \\times 1$ and $3 \\times 1$ is not defined. For matrix multiplication you would expect an error in the following cell, but let's check the output:\n",
    "\n",
    "Siguiendo la convención de matrices, no está definida la multiplicación de matrices $3 \\times 1$ y $3 \\times 1$. Para la multiplicación de matrices, esperarías un error en la siguiente celda, pero verifiquemos la salida:\n"
   ]
  },
  {
   "cell_type": "code",
   "execution_count": 8,
   "id": "f655677c",
   "metadata": {},
   "outputs": [
    {
     "data": {
      "text/plain": [
       "3"
      ]
     },
     "execution_count": 8,
     "metadata": {},
     "output_type": "execute_result"
    }
   ],
   "source": [
    "np.matmul(x,y)"
   ]
  },
  {
   "cell_type": "markdown",
   "id": "2fc01d74",
   "metadata": {},
   "source": [
    "You can see that there is no error and that the result is actually a dot product $x \\cdot y\\,$! So, vector $x$ was automatically transposed into the vector $1 \\times 3$ and matrix multiplication $x^Ty$ was calculated. While this is very convenient, you need to keep in mind such functionality in Python and pay attention to not use it in a wrong way. The following cell will return an error:\n",
    "\n",
    "Puedes ver que no hay error y que el resultado es en realidad un producto punto $x \\cdot y\\,$. Por lo tanto, el vector $x$ se transpuso automáticamente en el vector $1 \\times 3$ y se calculó la multiplicación de matrices $x^Ty$. Si bien esto es muy conveniente, debes tener en cuenta dicha funcionalidad en Python y prestar atención para no usarla de manera incorrecta. La siguiente celda devolverá un error:"
   ]
  },
  {
   "cell_type": "code",
   "execution_count": 9,
   "id": "d92006f1",
   "metadata": {},
   "outputs": [
    {
     "name": "stdout",
     "output_type": "stream",
     "text": [
      "matmul: Input operand 1 has a mismatch in its core dimension 0, with gufunc signature (n?,k),(k,m?)->(n?,m?) (size 3 is different from 1)\n"
     ]
    }
   ],
   "source": [
    "try:\n",
    "    np.matmul(x.reshape((3, 1)), y.reshape((3, 1)))\n",
    "except ValueError as err:\n",
    "    print(err)"
   ]
  },
  {
   "cell_type": "markdown",
   "id": "ace12c7d",
   "metadata": {},
   "source": [
    "You might have a question in you mind: does `np.dot()` function also work for matrix multiplication? Let's try it:\n",
    "\n",
    "Podrías tener una pregunta en tu mente: ¿la función `np.dot()` también funciona para la multiplicación de matrices? Probémoslo:"
   ]
  },
  {
   "cell_type": "code",
   "execution_count": 10,
   "id": "f296e528",
   "metadata": {},
   "outputs": [
    {
     "data": {
      "text/plain": [
       "array([[ 89, 107],\n",
       "       [ 47,  49],\n",
       "       [ 40,  44]])"
      ]
     },
     "execution_count": 10,
     "metadata": {},
     "output_type": "execute_result"
    }
   ],
   "source": [
    "np.dot(A, B)"
   ]
  },
  {
   "cell_type": "markdown",
   "id": "8dbbdc0f",
   "metadata": {},
   "source": [
    "Yes, it works! What actually happens is what is called **broadcasting** in Python: `NumPy` broadcasts this dot product operation to all rows and all columns, you get the resultant product matrix. Broadcasting also works in other cases, for example:\n",
    "\n",
    "¡Sí, funciona! Lo que sucede en realidad es lo que se llama **broadcasting** en Python: `NumPy` difunde esta operación de producto punto a todas las filas y columnas, y obtienes la matriz de producto resultante. El broadcasting también funciona en otros casos, por ejemplo:\n"
   ]
  },
  {
   "cell_type": "code",
   "execution_count": 11,
   "id": "68ded501",
   "metadata": {},
   "outputs": [
    {
     "data": {
      "text/plain": [
       "array([[ 2,  7,  7],\n",
       "       [ 7, -1,  4],\n",
       "       [ 7,  0,  1]])"
      ]
     },
     "execution_count": 11,
     "metadata": {},
     "output_type": "execute_result"
    }
   ],
   "source": [
    "A - 2"
   ]
  },
  {
   "cell_type": "markdown",
   "id": "eec1d0d2",
   "metadata": {},
   "source": [
    "Mathematically, subtraction of the $3 \\times 3$ matrix $A$ and a scalar is not defined, but Python broadcasts the scalar, creating a $3 \\times 3$ `np.array` and performing subtraction element by element. A practical example of matrix multiplication can be seen in a linear regression model. You will implement it in this week's assignment!\n",
    "\n",
    "Matemáticamente, la resta de la matriz  𝐴  de tamaño 3×3 y un escalar no está definida, pero Python difunde el escalar, creando un `np.array` de tamaño 3×3, y realiza la resta elemento por elemento. Un ejemplo práctico de multiplicación de matrices se puede ver en un modelo de regresión lineal. ¡Lo implementarás en la tarea de esta semana!"
   ]
  },
  {
   "cell_type": "markdown",
   "id": "86605d6f",
   "metadata": {},
   "source": [
    "Congratulations on finishing this lab!"
   ]
  },
  {
   "cell_type": "code",
   "execution_count": null,
   "id": "76db64ac",
   "metadata": {},
   "outputs": [],
   "source": []
  }
 ],
 "metadata": {
  "kernelspec": {
   "display_name": "Python 3",
   "language": "python",
   "name": "python3"
  },
  "language_info": {
   "codemirror_mode": {
    "name": "ipython",
    "version": 3
   },
   "file_extension": ".py",
   "mimetype": "text/x-python",
   "name": "python",
   "nbconvert_exporter": "python",
   "pygments_lexer": "ipython3",
   "version": "3.8.8"
  }
 },
 "nbformat": 4,
 "nbformat_minor": 5
}
