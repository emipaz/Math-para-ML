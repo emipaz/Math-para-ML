{
 "cells": [
  {
   "cell_type": "markdown",
   "id": "35bd8503-3ed0-4df9-a0be-1e182139d5be",
   "metadata": {},
   "source": [
    "Cuestionario de jacobianos\n",
    "___"
   ]
  },
  {
   "cell_type": "markdown",
   "id": "99a82cbb-d959-4d6e-bd02-237af9ec399f",
   "metadata": {},
   "source": [
    "In this quiz, you will calculate the Jacobian matrix for some vector valued functions. \n",
    "\n",
    "\n",
    "For the function $u(x,y) = x^2 - y^2$\n",
    "  and $ v(x,y) = 2xy $ , calculate the Jacobian matrix $J = \\begin{bmatrix} \\frac{\\partial u}{\\partial x} & \\frac{\\partial u}{\\partial y} \\\\ \\frac{\\partial v}{\\partial x} & \\frac{\\partial v}{\\partial y} \\end{bmatrix}$"
   ]
  },
  {
   "cell_type": "code",
   "execution_count": 6,
   "id": "fe2fd612-8863-4da7-a3c2-4f49b0cb9f08",
   "metadata": {},
   "outputs": [],
   "source": [
    "from sympy import symbols, sin, cos, exp, pi, diff ,sqrt\n",
    "from sympy import Rational\n",
    "from sympy.matrices import Matrix"
   ]
  },
  {
   "cell_type": "code",
   "execution_count": 9,
   "id": "63f33b1a-2c87-40df-8e0f-3e102efb9a3e",
   "metadata": {},
   "outputs": [],
   "source": [
    "x,y,z = symbols(\"x,y,z\")"
   ]
  },
  {
   "cell_type": "code",
   "execution_count": 10,
   "id": "72ac3b50-fd94-40ee-bb85-8ae0de7bb2f3",
   "metadata": {},
   "outputs": [
    {
     "data": {
      "text/latex": [
       "$\\displaystyle x^{2} - y^{2}$"
      ],
      "text/plain": [
       "x**2 - y**2"
      ]
     },
     "metadata": {},
     "output_type": "display_data"
    },
    {
     "data": {
      "text/latex": [
       "$\\displaystyle 2 x y$"
      ],
      "text/plain": [
       "2*x*y"
      ]
     },
     "execution_count": 10,
     "metadata": {},
     "output_type": "execute_result"
    }
   ],
   "source": [
    "u_xy = x**2 - y**2\n",
    "v_xy = 2*x*y\n",
    "display(u_xy)\n",
    "v_xy"
   ]
  },
  {
   "cell_type": "code",
   "execution_count": 11,
   "id": "3099f802-a3b9-41df-a7db-ba8fed0b722c",
   "metadata": {},
   "outputs": [
    {
     "data": {
      "text/latex": [
       "$\\displaystyle \\left[\\begin{matrix}2 x & - 2 y\\\\2 y & 2 x\\end{matrix}\\right]$"
      ],
      "text/plain": [
       "Matrix([\n",
       "[2*x, -2*y],\n",
       "[2*y,  2*x]])"
      ]
     },
     "execution_count": 11,
     "metadata": {},
     "output_type": "execute_result"
    }
   ],
   "source": [
    "jac1 = Matrix([[diff(u_xy,x),diff(u_xy,y)],\n",
    "               [diff(v_xy,x),diff(v_xy,y)]])\n",
    "jac1"
   ]
  },
  {
   "cell_type": "code",
   "execution_count": 13,
   "id": "ed663043-4a44-4d72-86eb-f4f9aabf7fd1",
   "metadata": {},
   "outputs": [
    {
     "data": {
      "text/latex": [
       "$\\displaystyle 2 x + 3 y$"
      ],
      "text/plain": [
       "2*x + 3*y"
      ]
     },
     "metadata": {},
     "output_type": "display_data"
    },
    {
     "data": {
      "text/latex": [
       "$\\displaystyle \\sin{\\left(z \\right)} \\cos{\\left(x \\right)}$"
      ],
      "text/plain": [
       "sin(z)*cos(x)"
      ]
     },
     "metadata": {},
     "output_type": "display_data"
    },
    {
     "data": {
      "text/latex": [
       "$\\displaystyle e^{x} e^{y} e^{z}$"
      ],
      "text/plain": [
       "exp(x)*exp(y)*exp(z)"
      ]
     },
     "metadata": {},
     "output_type": "display_data"
    }
   ],
   "source": [
    "u_xyz = x*2 + y*3\n",
    "v_xyz = cos(x)*sin(z)\n",
    "w_xyz = exp(x)*exp(y)*exp(z)\n",
    "display(u_xyz)\n",
    "display(v_xyz)\n",
    "display(w_xyz)"
   ]
  },
  {
   "cell_type": "code",
   "execution_count": 14,
   "id": "823e087f-4eda-4401-a9f6-3210aa57ddcb",
   "metadata": {},
   "outputs": [
    {
     "data": {
      "text/latex": [
       "$\\displaystyle \\left[\\begin{matrix}2 & 3 & 0\\\\- \\sin{\\left(x \\right)} \\sin{\\left(z \\right)} & 0 & \\cos{\\left(x \\right)} \\cos{\\left(z \\right)}\\\\e^{x} e^{y} e^{z} & e^{x} e^{y} e^{z} & e^{x} e^{y} e^{z}\\end{matrix}\\right]$"
      ],
      "text/plain": [
       "Matrix([\n",
       "[                   2,                    3,                    0],\n",
       "[      -sin(x)*sin(z),                    0,        cos(x)*cos(z)],\n",
       "[exp(x)*exp(y)*exp(z), exp(x)*exp(y)*exp(z), exp(x)*exp(y)*exp(z)]])"
      ]
     },
     "execution_count": 14,
     "metadata": {},
     "output_type": "execute_result"
    }
   ],
   "source": [
    "jac2 = Matrix([[diff(u_xyz,x),diff(u_xyz,y),diff(u_xyz,z)],\n",
    "               [diff(v_xyz,x),diff(v_xyz,y),diff(v_xyz,z)],\n",
    "               [diff(w_xyz,x),diff(w_xyz,y),diff(w_xyz,z)]\n",
    "              ])\n",
    "jac2"
   ]
  },
  {
   "cell_type": "code",
   "execution_count": 16,
   "id": "5f67e329-7b99-44cd-8237-5fc375490a61",
   "metadata": {},
   "outputs": [
    {
     "data": {
      "text/latex": [
       "$\\displaystyle a x + b y$"
      ],
      "text/plain": [
       "a*x + b*y"
      ]
     },
     "metadata": {},
     "output_type": "display_data"
    },
    {
     "data": {
      "text/latex": [
       "$\\displaystyle c x + d y$"
      ],
      "text/plain": [
       "c*x + d*y"
      ]
     },
     "metadata": {},
     "output_type": "display_data"
    },
    {
     "data": {
      "text/latex": [
       "$\\displaystyle \\left[\\begin{matrix}a & b\\\\c & d\\end{matrix}\\right]$"
      ],
      "text/plain": [
       "Matrix([\n",
       "[a, b],\n",
       "[c, d]])"
      ]
     },
     "execution_count": 16,
     "metadata": {},
     "output_type": "execute_result"
    }
   ],
   "source": [
    "x,y,a,b,c,d = symbols(\"x,y,a,b,c,d\")\n",
    "u_xy = a*x + b*y\n",
    "v_xy = c*x + d*y\n",
    "display(u_xy)\n",
    "display(v_xy)\n",
    "jac3 = Matrix([[diff(u_xy,x),diff(u_xy,y)],\n",
    "               [diff(v_xy,x),diff(v_xy,y)]])\n",
    "jac3"
   ]
  },
  {
   "cell_type": "code",
   "execution_count": 21,
   "id": "2d997fd9-cad3-4e4b-b98b-69dc9706b24a",
   "metadata": {},
   "outputs": [
    {
     "data": {
      "text/latex": [
       "$\\displaystyle 9 x^{2} y^{2} + z e^{x}$"
      ],
      "text/plain": [
       "9*x**2*y**2 + z*exp(x)"
      ]
     },
     "metadata": {},
     "output_type": "display_data"
    },
    {
     "data": {
      "text/latex": [
       "$\\displaystyle x^{2} y^{3} + x y + 2 z$"
      ],
      "text/plain": [
       "x**2*y**3 + x*y + 2*z"
      ]
     },
     "metadata": {},
     "output_type": "display_data"
    },
    {
     "data": {
      "text/latex": [
       "$\\displaystyle e^{y} \\sin{\\left(z \\right)} \\cos{\\left(x \\right)}$"
      ],
      "text/plain": [
       "exp(y)*sin(z)*cos(x)"
      ]
     },
     "metadata": {},
     "output_type": "display_data"
    }
   ],
   "source": [
    "x,y,z = symbols(\"x,y,z\")\n",
    "u_xyz = x**2*y**2*9 + z*exp(x) \n",
    "v_xyz = x*y + x**2*y**3 + 2*z\n",
    "w_xyz = cos(x)*sin(z)*exp(y)\n",
    "display(u_xyz)\n",
    "display(v_xyz)\n",
    "display(w_xyz)"
   ]
  },
  {
   "cell_type": "code",
   "execution_count": 22,
   "id": "3e7892a5-6d06-4a64-8488-3cb181db0f92",
   "metadata": {},
   "outputs": [
    {
     "data": {
      "text/latex": [
       "$\\displaystyle \\left[\\begin{matrix}18 x y^{2} + z e^{x} & 18 x^{2} y & e^{x}\\\\2 x y^{3} + y & 3 x^{2} y^{2} + x & 2\\\\- e^{y} \\sin{\\left(x \\right)} \\sin{\\left(z \\right)} & e^{y} \\sin{\\left(z \\right)} \\cos{\\left(x \\right)} & e^{y} \\cos{\\left(x \\right)} \\cos{\\left(z \\right)}\\end{matrix}\\right]$"
      ],
      "text/plain": [
       "Matrix([\n",
       "[ 18*x*y**2 + z*exp(x),            18*x**2*y,               exp(x)],\n",
       "[         2*x*y**3 + y,      3*x**2*y**2 + x,                    2],\n",
       "[-exp(y)*sin(x)*sin(z), exp(y)*sin(z)*cos(x), exp(y)*cos(x)*cos(z)]])"
      ]
     },
     "execution_count": 22,
     "metadata": {},
     "output_type": "execute_result"
    }
   ],
   "source": [
    "jac4 = Matrix([[diff(u_xyz,x),diff(u_xyz,y),diff(u_xyz,z)],\n",
    "               [diff(v_xyz,x),diff(v_xyz,y),diff(v_xyz,z)],\n",
    "               [diff(w_xyz,x),diff(w_xyz,y),diff(w_xyz,z)]\n",
    "              ])\n",
    "jac4"
   ]
  },
  {
   "cell_type": "code",
   "execution_count": 23,
   "id": "ca8b4563-5675-4816-9882-f91cba4917b2",
   "metadata": {},
   "outputs": [
    {
     "data": {
      "text/latex": [
       "$\\displaystyle \\left[\\begin{matrix}0 & 0 & 1.0\\\\0 & 0 & 2.0\\\\0 & 0 & 1.0\\end{matrix}\\right]$"
      ],
      "text/plain": [
       "Matrix([\n",
       "[0, 0, 1.0],\n",
       "[0, 0, 2.0],\n",
       "[0, 0, 1.0]])"
      ]
     },
     "execution_count": 23,
     "metadata": {},
     "output_type": "execute_result"
    }
   ],
   "source": [
    "jac4.evalf(subs={x:0,y:0,z:0})"
   ]
  },
  {
   "cell_type": "markdown",
   "id": "76f059e3-2e84-4e44-81a5-f4a91c89fcec",
   "metadata": {},
   "source": [
    "En la lección, calculamos el jacobiano de la transformación de coordenadas polares a coordenadas cartesianas en 2D. En esta pregunta, haremos lo mismo, pero con coordenadas esféricas a 3D.\n",
    "\n",
    "$x(r,\\theta,\\phi)=r\\cos(\\theta)\\sin(\\phi)$  \n",
    "$y(r,\\theta,\\phi)=r\\sin(\\theta)\\sin(\\phi)$     \n",
    "$z(r, \\theta, \\phi) = rcos(\\phi)$, \n",
    "\n",
    "calculate the Jacobian matrix. "
   ]
  },
  {
   "cell_type": "markdown",
   "id": "a2764adb-96c3-4985-b0f0-496576d462f0",
   "metadata": {},
   "source": [
    "from sympy.abc import "
   ]
  },
  {
   "cell_type": "code",
   "execution_count": 29,
   "id": "4c07f146-5722-4747-87c2-525bf7175e2c",
   "metadata": {},
   "outputs": [],
   "source": [
    "from sympy.abc import phi , theta"
   ]
  },
  {
   "cell_type": "code",
   "execution_count": 58,
   "id": "adb48539-93da-4fe2-b3a1-c0bec9a3248a",
   "metadata": {},
   "outputs": [],
   "source": [
    "r = symbols(\"r\")"
   ]
  },
  {
   "cell_type": "code",
   "execution_count": 65,
   "id": "8273cb7b-6ae5-465d-9453-f112da3c53cf",
   "metadata": {},
   "outputs": [
    {
     "data": {
      "text/latex": [
       "$\\displaystyle r \\sin{\\left(\\phi \\right)} \\cos{\\left(\\theta \\right)}$"
      ],
      "text/plain": [
       "r*sin(phi)*cos(theta)"
      ]
     },
     "metadata": {},
     "output_type": "display_data"
    },
    {
     "data": {
      "text/latex": [
       "$\\displaystyle r \\sin{\\left(\\phi \\right)} \\sin{\\left(\\theta \\right)}$"
      ],
      "text/plain": [
       "r*sin(phi)*sin(theta)"
      ]
     },
     "metadata": {},
     "output_type": "display_data"
    },
    {
     "data": {
      "text/latex": [
       "$\\displaystyle r \\cos{\\left(\\phi \\right)}$"
      ],
      "text/plain": [
       "r*cos(phi)"
      ]
     },
     "metadata": {},
     "output_type": "display_data"
    }
   ],
   "source": [
    "x = r*cos(theta)*sin(phi)\n",
    "y = r*sin(theta)*sin(phi)\n",
    "z = r*cos(phi)\n",
    "display(x)\n",
    "display(y)\n",
    "display(z)"
   ]
  },
  {
   "cell_type": "code",
   "execution_count": 66,
   "id": "4609bf53-3452-4de1-8da7-242ccec8526f",
   "metadata": {},
   "outputs": [
    {
     "data": {
      "text/latex": [
       "$\\displaystyle \\left[\\begin{matrix}\\sin{\\left(\\phi \\right)} \\cos{\\left(\\theta \\right)} & - r \\sin{\\left(\\phi \\right)} \\sin{\\left(\\theta \\right)} & r \\cos{\\left(\\phi \\right)} \\cos{\\left(\\theta \\right)}\\\\\\sin{\\left(\\phi \\right)} \\sin{\\left(\\theta \\right)} & r \\sin{\\left(\\phi \\right)} \\cos{\\left(\\theta \\right)} & r \\sin{\\left(\\theta \\right)} \\cos{\\left(\\phi \\right)}\\\\\\cos{\\left(\\phi \\right)} & 0 & - r \\sin{\\left(\\phi \\right)}\\end{matrix}\\right]$"
      ],
      "text/plain": [
       "Matrix([\n",
       "[sin(phi)*cos(theta), -r*sin(phi)*sin(theta), r*cos(phi)*cos(theta)],\n",
       "[sin(phi)*sin(theta),  r*sin(phi)*cos(theta), r*sin(theta)*cos(phi)],\n",
       "[           cos(phi),                      0,           -r*sin(phi)]])"
      ]
     },
     "execution_count": 66,
     "metadata": {},
     "output_type": "execute_result"
    }
   ],
   "source": [
    "jac5 = Matrix([[diff(x,r),  diff(x,theta), diff(x,phi)],\n",
    "               [diff(y,r),  diff(y,theta), diff(y,phi)],\n",
    "               [diff(z,r),  diff(z,theta), diff(z,phi)]\n",
    "              ])\n",
    "jac5"
   ]
  },
  {
   "cell_type": "code",
   "execution_count": null,
   "id": "54f83777-0dab-48d9-8d7d-06deaa83824a",
   "metadata": {},
   "outputs": [],
   "source": []
  }
 ],
 "metadata": {
  "kernelspec": {
   "display_name": "anaconda",
   "language": "python",
   "name": "anaconda"
  },
  "language_info": {
   "codemirror_mode": {
    "name": "ipython",
    "version": 3
   },
   "file_extension": ".py",
   "mimetype": "text/x-python",
   "name": "python",
   "nbconvert_exporter": "python",
   "pygments_lexer": "ipython3",
   "version": "3.9.13"
  }
 },
 "nbformat": 4,
 "nbformat_minor": 5
}
