{
 "cells": [
  {
   "cell_type": "code",
   "execution_count": 55,
   "id": "a96972a5-bfa0-485e-9ae6-8a6f253e5385",
   "metadata": {},
   "outputs": [],
   "source": [
    "import sympy\n",
    "from sympy import sin, cos, exp, pi"
   ]
  },
  {
   "cell_type": "code",
   "execution_count": 64,
   "id": "f3144116-879e-402a-84d4-ff0d5fe3674d",
   "metadata": {},
   "outputs": [],
   "source": [
    "x,y,z, m  = sympy.symbols(\"x,y,z, m\")"
   ]
  },
  {
   "cell_type": "code",
   "execution_count": 65,
   "id": "2fd4ca75-afb0-4228-aade-8ab0d19f2fe5",
   "metadata": {},
   "outputs": [
    {
     "data": {
      "text/plain": [
       "(x, y, z, m)"
      ]
     },
     "execution_count": 65,
     "metadata": {},
     "output_type": "execute_result"
    }
   ],
   "source": [
    "x,y,z, m"
   ]
  },
  {
   "cell_type": "code",
   "execution_count": 66,
   "id": "3484b671-db02-4aab-9370-602bd5c4b77f",
   "metadata": {},
   "outputs": [
    {
     "data": {
      "text/latex": [
       "$\\displaystyle m y^{4} + \\pi x^{3} + x y^{2}$"
      ],
      "text/plain": [
       "m*y**4 + pi*x**3 + x*y**2"
      ]
     },
     "execution_count": 66,
     "metadata": {},
     "output_type": "execute_result"
    }
   ],
   "source": [
    "exp1 = pi * (x ** 3) + x * (y ** 2) + m * (y**4)\n",
    "exp1"
   ]
  },
  {
   "cell_type": "code",
   "execution_count": 67,
   "id": "13540479-86c5-4fc2-9d8c-64450ad45592",
   "metadata": {},
   "outputs": [],
   "source": [
    "df_x = sympy.diff(exp1,x)\n",
    "df_y = sympy.diff(exp1,y)\n",
    "df_m = sympy.diff(exp1,m)"
   ]
  },
  {
   "cell_type": "code",
   "execution_count": 68,
   "id": "b1640191-ee48-42ee-900e-f8e5e344085a",
   "metadata": {},
   "outputs": [
    {
     "data": {
      "text/latex": [
       "$\\displaystyle 3 \\pi x^{2} + y^{2}$"
      ],
      "text/plain": [
       "3*pi*x**2 + y**2"
      ]
     },
     "execution_count": 68,
     "metadata": {},
     "output_type": "execute_result"
    }
   ],
   "source": [
    "df_x"
   ]
  },
  {
   "cell_type": "code",
   "execution_count": 69,
   "id": "830fa9fc-4de8-4123-8ffe-0d1599a763d3",
   "metadata": {},
   "outputs": [
    {
     "data": {
      "text/latex": [
       "$\\displaystyle 4 m y^{3} + 2 x y$"
      ],
      "text/plain": [
       "4*m*y**3 + 2*x*y"
      ]
     },
     "execution_count": 69,
     "metadata": {},
     "output_type": "execute_result"
    }
   ],
   "source": [
    "df_y"
   ]
  },
  {
   "cell_type": "code",
   "execution_count": 70,
   "id": "9cec6638-7c80-4bf3-a41e-92e80231bf14",
   "metadata": {},
   "outputs": [
    {
     "data": {
      "text/latex": [
       "$\\displaystyle y^{4}$"
      ],
      "text/plain": [
       "y**4"
      ]
     },
     "execution_count": 70,
     "metadata": {},
     "output_type": "execute_result"
    }
   ],
   "source": [
    "df_m"
   ]
  },
  {
   "cell_type": "code",
   "execution_count": 71,
   "id": "f492f083-3add-4c17-918c-41f5dce82b72",
   "metadata": {},
   "outputs": [
    {
     "data": {
      "text/latex": [
       "$\\displaystyle z$"
      ],
      "text/plain": [
       "z"
      ]
     },
     "execution_count": 71,
     "metadata": {},
     "output_type": "execute_result"
    }
   ],
   "source": [
    "z"
   ]
  },
  {
   "cell_type": "code",
   "execution_count": 74,
   "id": "a6558903-99ec-47e3-a9a8-72c66528f6f5",
   "metadata": {},
   "outputs": [
    {
     "data": {
      "text/latex": [
       "$\\displaystyle x^{2} y + x z^{2} + y^{2} z$"
      ],
      "text/plain": [
       "x**2*y + x*z**2 + y**2*z"
      ]
     },
     "execution_count": 74,
     "metadata": {},
     "output_type": "execute_result"
    }
   ],
   "source": [
    "exp2 = ((x**2) * y)  + ((y**2)*z) + ((z**2)*x)\n",
    "exp2"
   ]
  },
  {
   "cell_type": "code",
   "execution_count": 75,
   "id": "c41d5dd3-973b-410c-87b5-2d69391c3427",
   "metadata": {},
   "outputs": [],
   "source": [
    "df_x = sympy.diff(exp2,x,1)\n",
    "df_y = sympy.diff(exp2,y,1)\n",
    "df_z = sympy.diff(exp2,z,1)"
   ]
  },
  {
   "cell_type": "code",
   "execution_count": 76,
   "id": "3c30e73f-5268-48fd-99ef-d228da51e0d0",
   "metadata": {},
   "outputs": [
    {
     "data": {
      "text/latex": [
       "$\\displaystyle 2 x y + z^{2}$"
      ],
      "text/plain": [
       "2*x*y + z**2"
      ]
     },
     "execution_count": 76,
     "metadata": {},
     "output_type": "execute_result"
    }
   ],
   "source": [
    "df_x"
   ]
  },
  {
   "cell_type": "code",
   "execution_count": 77,
   "id": "50b7d224-8e4a-4d00-aa8f-2015dcde17e3",
   "metadata": {},
   "outputs": [
    {
     "data": {
      "text/latex": [
       "$\\displaystyle x^{2} + 2 y z$"
      ],
      "text/plain": [
       "x**2 + 2*y*z"
      ]
     },
     "execution_count": 77,
     "metadata": {},
     "output_type": "execute_result"
    }
   ],
   "source": [
    "df_y"
   ]
  },
  {
   "cell_type": "code",
   "execution_count": 79,
   "id": "a4ccf6f8-eed1-41ea-80a7-dfc274a60204",
   "metadata": {},
   "outputs": [
    {
     "data": {
      "text/latex": [
       "$\\displaystyle 2 x z + y^{2}$"
      ],
      "text/plain": [
       "2*x*z + y**2"
      ]
     },
     "execution_count": 79,
     "metadata": {},
     "output_type": "execute_result"
    }
   ],
   "source": [
    "df_z"
   ]
  },
  {
   "cell_type": "code",
   "execution_count": 83,
   "id": "ec2b0bec-1717-4f35-a9ed-db47c1f9efe1",
   "metadata": {},
   "outputs": [
    {
     "data": {
      "text/latex": [
       "$\\displaystyle z^{2} e^{2 x} \\sin{\\left(y \\right)} + e^{x} e^{y} \\cos{\\left(z \\right)}$"
      ],
      "text/plain": [
       "z**2*exp(2*x)*sin(y) + exp(x)*exp(y)*cos(z)"
      ]
     },
     "execution_count": 83,
     "metadata": {},
     "output_type": "execute_result"
    }
   ],
   "source": [
    "exp3 = exp(x*2)*sin(y)*z**2 + cos(z)*exp(x)*exp(y)\n",
    "exp3"
   ]
  },
  {
   "cell_type": "code",
   "execution_count": 84,
   "id": "0d1bee9c-9ee9-426c-966b-00648fa8766f",
   "metadata": {},
   "outputs": [],
   "source": [
    "df_x = sympy.diff(exp3,x,1)\n",
    "df_y = sympy.diff(exp3,y,1)\n",
    "df_z = sympy.diff(exp3,z,1)\n"
   ]
  },
  {
   "cell_type": "code",
   "execution_count": 86,
   "id": "29987448-d6d8-45b5-837b-dec2bca3a595",
   "metadata": {},
   "outputs": [
    {
     "data": {
      "text/plain": [
       "'df/dx'"
      ]
     },
     "metadata": {},
     "output_type": "display_data"
    },
    {
     "data": {
      "text/latex": [
       "$\\displaystyle 2 z^{2} e^{2 x} \\sin{\\left(y \\right)} + e^{x} e^{y} \\cos{\\left(z \\right)}$"
      ],
      "text/plain": [
       "2*z**2*exp(2*x)*sin(y) + exp(x)*exp(y)*cos(z)"
      ]
     },
     "metadata": {},
     "output_type": "display_data"
    },
    {
     "data": {
      "text/plain": [
       "'df/dy'"
      ]
     },
     "metadata": {},
     "output_type": "display_data"
    },
    {
     "data": {
      "text/latex": [
       "$\\displaystyle z^{2} e^{2 x} \\cos{\\left(y \\right)} + e^{x} e^{y} \\cos{\\left(z \\right)}$"
      ],
      "text/plain": [
       "z**2*exp(2*x)*cos(y) + exp(x)*exp(y)*cos(z)"
      ]
     },
     "metadata": {},
     "output_type": "display_data"
    },
    {
     "data": {
      "text/plain": [
       "'df/dz'"
      ]
     },
     "metadata": {},
     "output_type": "display_data"
    },
    {
     "data": {
      "text/latex": [
       "$\\displaystyle 2 z e^{2 x} \\sin{\\left(y \\right)} - e^{x} e^{y} \\sin{\\left(z \\right)}$"
      ],
      "text/plain": [
       "2*z*exp(2*x)*sin(y) - exp(x)*exp(y)*sin(z)"
      ]
     },
     "metadata": {},
     "output_type": "display_data"
    }
   ],
   "source": [
    "display(\"df/dx\",df_x)\n",
    "display(\"df/dy\",df_y)\n",
    "display(\"df/dz\",df_z)"
   ]
  },
  {
   "cell_type": "code",
   "execution_count": 88,
   "id": "56e9f434-8aca-4fc8-bea9-6afe932a5ad6",
   "metadata": {},
   "outputs": [],
   "source": [
    "from sympy import sqrt"
   ]
  },
  {
   "cell_type": "code",
   "execution_count": 89,
   "id": "e5a8422b-9328-41b5-80c0-e3bbee97185f",
   "metadata": {},
   "outputs": [
    {
     "data": {
      "text/latex": [
       "$\\displaystyle \\frac{\\sqrt{m}}{\\sin{\\left(m \\right)}}$"
      ],
      "text/plain": [
       "sqrt(m)/sin(m)"
      ]
     },
     "execution_count": 89,
     "metadata": {},
     "output_type": "execute_result"
    }
   ],
   "source": [
    "exp4 = sqrt(m)/sin(m)\n",
    "exp4"
   ]
  },
  {
   "cell_type": "code",
   "execution_count": 90,
   "id": "c191277c-34c2-4624-822e-28d7d665b2ba",
   "metadata": {},
   "outputs": [
    {
     "data": {
      "text/latex": [
       "$\\displaystyle - \\frac{\\sqrt{m} \\cos{\\left(m \\right)}}{\\sin^{2}{\\left(m \\right)}} + \\frac{1}{2 \\sqrt{m} \\sin{\\left(m \\right)}}$"
      ],
      "text/plain": [
       "-sqrt(m)*cos(m)/sin(m)**2 + 1/(2*sqrt(m)*sin(m))"
      ]
     },
     "execution_count": 90,
     "metadata": {},
     "output_type": "execute_result"
    }
   ],
   "source": [
    "sympy.diff(exp4,m,1)"
   ]
  },
  {
   "cell_type": "code",
   "execution_count": 91,
   "id": "dc5b614f-ccaf-4b4c-808b-dad57b5d942c",
   "metadata": {},
   "outputs": [],
   "source": [
    "fx = m\n",
    "fy = sin(m)"
   ]
  },
  {
   "cell_type": "code",
   "execution_count": 92,
   "id": "fddb3bdf-c211-465d-98da-4f534c3d036b",
   "metadata": {},
   "outputs": [
    {
     "data": {
      "text/latex": [
       "$\\displaystyle m$"
      ],
      "text/plain": [
       "m"
      ]
     },
     "execution_count": 92,
     "metadata": {},
     "output_type": "execute_result"
    }
   ],
   "source": [
    "fx"
   ]
  },
  {
   "cell_type": "code",
   "execution_count": 93,
   "id": "436c9a89-3014-4f49-9d72-f452b4c8924b",
   "metadata": {},
   "outputs": [
    {
     "data": {
      "text/latex": [
       "$\\displaystyle \\sin{\\left(m \\right)}$"
      ],
      "text/plain": [
       "sin(m)"
      ]
     },
     "execution_count": 93,
     "metadata": {},
     "output_type": "execute_result"
    }
   ],
   "source": [
    "fy"
   ]
  },
  {
   "cell_type": "code",
   "execution_count": 94,
   "id": "8f439c58-9236-4f16-880b-5ce638801589",
   "metadata": {},
   "outputs": [
    {
     "data": {
      "text/latex": [
       "$\\displaystyle \\frac{\\sqrt{m}}{\\sin{\\left(m \\right)}}$"
      ],
      "text/plain": [
       "sqrt(m)/sin(m)"
      ]
     },
     "execution_count": 94,
     "metadata": {},
     "output_type": "execute_result"
    }
   ],
   "source": [
    "exp5 = sqrt(fx)/fy\n",
    "exp5"
   ]
  },
  {
   "cell_type": "code",
   "execution_count": 95,
   "id": "e246043b-3c19-45d5-bb6e-a93140e15d53",
   "metadata": {},
   "outputs": [
    {
     "data": {
      "text/latex": [
       "$\\displaystyle - \\frac{\\sqrt{m} \\cos{\\left(m \\right)}}{\\sin^{2}{\\left(m \\right)}} + \\frac{1}{2 \\sqrt{m} \\sin{\\left(m \\right)}}$"
      ],
      "text/plain": [
       "-sqrt(m)*cos(m)/sin(m)**2 + 1/(2*sqrt(m)*sin(m))"
      ]
     },
     "execution_count": 95,
     "metadata": {},
     "output_type": "execute_result"
    }
   ],
   "source": [
    "sympy.diff(exp5,m,1)"
   ]
  },
  {
   "cell_type": "code",
   "execution_count": 97,
   "id": "2de32485-d5c7-4a1e-b9d5-b2e9cf3f6ddd",
   "metadata": {},
   "outputs": [
    {
     "data": {
      "text/latex": [
       "$\\displaystyle e^{2 m^{2}} \\sin{\\left(m - 1 \\right)} \\cos{\\left(m + 1 \\right)}$"
      ],
      "text/plain": [
       "exp(2*m**2)*sin(m - 1)*cos(m + 1)"
      ]
     },
     "execution_count": 97,
     "metadata": {},
     "output_type": "execute_result"
    }
   ],
   "source": [
    "fx = m + 1\n",
    "fy = m - 1\n",
    "fz = m ** 2\n",
    "exp6 = cos(fx)*sin(fy)*exp(2*fz)\n",
    "exp6"
   ]
  },
  {
   "cell_type": "code",
   "execution_count": 99,
   "id": "0cd742cb-ee80-484d-babd-0cf89bd86401",
   "metadata": {},
   "outputs": [
    {
     "data": {
      "text/latex": [
       "$\\displaystyle 4 m e^{2 m^{2}} \\sin{\\left(m - 1 \\right)} \\cos{\\left(m + 1 \\right)} - e^{2 m^{2}} \\sin{\\left(m - 1 \\right)} \\sin{\\left(m + 1 \\right)} + e^{2 m^{2}} \\cos{\\left(m - 1 \\right)} \\cos{\\left(m + 1 \\right)}$"
      ],
      "text/plain": [
       "4*m*exp(2*m**2)*sin(m - 1)*cos(m + 1) - exp(2*m**2)*sin(m - 1)*sin(m + 1) + exp(2*m**2)*cos(m - 1)*cos(m + 1)"
      ]
     },
     "execution_count": 99,
     "metadata": {},
     "output_type": "execute_result"
    }
   ],
   "source": [
    "df_m = sympy.diff(exp6,m,1)\n",
    "df_m"
   ]
  },
  {
   "cell_type": "code",
   "execution_count": 102,
   "id": "77d586e2-6f34-419b-be4e-e058ca401683",
   "metadata": {},
   "outputs": [
    {
     "data": {
      "text/latex": [
       "$\\displaystyle \\left(2 m \\sin{\\left(2 m \\right)} - 2 m \\sin{\\left(2 \\right)} + \\cos{\\left(2 m \\right)}\\right) e^{2 m^{2}}$"
      ],
      "text/plain": [
       "(2*m*sin(2*m) - 2*m*sin(2) + cos(2*m))*exp(2*m**2)"
      ]
     },
     "execution_count": 102,
     "metadata": {},
     "output_type": "execute_result"
    }
   ],
   "source": [
    "sympy.simplify(df_m,rational=True)"
   ]
  },
  {
   "cell_type": "markdown",
   "id": "f108234e-3966-4c4a-baf2-b7fcb5719c86",
   "metadata": {},
   "source": [
    "# jacobianos"
   ]
  },
  {
   "cell_type": "markdown",
   "id": "f518b619-55fe-41c8-93ae-e820c3dbeab7",
   "metadata": {},
   "source": [
    "n this quiz you will put into practice how to calculate the Jacobian from the lecture video.\n",
    "\n",
    "\n",
    "For $f(x,y) = x^2y + \\frac{3}{4}xy + 10$, calculate the Jacobian row vector JJ."
   ]
  },
  {
   "cell_type": "code",
   "execution_count": 130,
   "id": "2a56ecca-c9d7-4030-9572-7b7fbb546cab",
   "metadata": {},
   "outputs": [],
   "source": [
    "from sympy import Rational\n",
    "from sympy import sin, cos, exp, pi\n",
    "from sympy import diff\n",
    "from sympy.matrices import Matrix"
   ]
  },
  {
   "cell_type": "code",
   "execution_count": 131,
   "id": "fed2a125-62a6-43ec-8a5a-1a5f8412ac82",
   "metadata": {},
   "outputs": [],
   "source": [
    "x,y = sympy.symbols(\"x,y\")"
   ]
  },
  {
   "cell_type": "code",
   "execution_count": 132,
   "id": "67dc3dd4-7c44-4451-8a93-56a99770cb66",
   "metadata": {},
   "outputs": [
    {
     "data": {
      "text/latex": [
       "$\\displaystyle \\frac{3}{4}$"
      ],
      "text/plain": [
       "3/4"
      ]
     },
     "execution_count": 132,
     "metadata": {},
     "output_type": "execute_result"
    }
   ],
   "source": [
    "Rational(3,4)"
   ]
  },
  {
   "cell_type": "code",
   "execution_count": 134,
   "id": "37c0690b-d865-4cff-a0e0-764b004dcf04",
   "metadata": {},
   "outputs": [
    {
     "data": {
      "text/latex": [
       "$\\displaystyle x^{2} y + \\frac{3 x y}{4} + 10$"
      ],
      "text/plain": [
       "x**2*y + 3*x*y/4 + 10"
      ]
     },
     "execution_count": 134,
     "metadata": {},
     "output_type": "execute_result"
    }
   ],
   "source": [
    "ex1 = x**2 * y + (Rational(3,4))*x*y +10\n",
    "ex1"
   ]
  },
  {
   "cell_type": "code",
   "execution_count": 135,
   "id": "f6f4242f-dbd1-4151-bf5d-875c179c2be4",
   "metadata": {},
   "outputs": [],
   "source": [
    "jac = Matrix([diff(ex1,x),diff(ex1,y)])"
   ]
  },
  {
   "cell_type": "code",
   "execution_count": 136,
   "id": "6b0e3f8a-a502-4775-8b8d-295c84109507",
   "metadata": {},
   "outputs": [
    {
     "data": {
      "text/latex": [
       "$\\displaystyle \\left[\\begin{matrix}2 x y + \\frac{3 y}{4} & x^{2} + \\frac{3 x}{4}\\end{matrix}\\right]$"
      ],
      "text/plain": [
       "Matrix([[2*x*y + 3*y/4, x**2 + 3*x/4]])"
      ]
     },
     "execution_count": 136,
     "metadata": {},
     "output_type": "execute_result"
    }
   ],
   "source": [
    "jac.T"
   ]
  },
  {
   "cell_type": "code",
   "execution_count": 138,
   "id": "1ec52447-a170-4dc3-9b41-80908192d42a",
   "metadata": {},
   "outputs": [
    {
     "data": {
      "text/latex": [
       "$\\displaystyle x e^{3 y} + e^{x} \\cos{\\left(y \\right)}$"
      ],
      "text/plain": [
       "x*exp(3*y) + exp(x)*cos(y)"
      ]
     },
     "execution_count": 138,
     "metadata": {},
     "output_type": "execute_result"
    }
   ],
   "source": [
    "ex2 = exp(x)*cos(y) + x*exp(3*y)\n",
    "ex2"
   ]
  },
  {
   "cell_type": "code",
   "execution_count": 139,
   "id": "43dc3242-f978-4b21-8431-c1575bd605e1",
   "metadata": {},
   "outputs": [
    {
     "data": {
      "text/latex": [
       "$\\displaystyle \\left[\\begin{matrix}e^{x} \\cos{\\left(y \\right)} + e^{3 y}\\\\3 x e^{3 y} - e^{x} \\sin{\\left(y \\right)}\\end{matrix}\\right]$"
      ],
      "text/plain": [
       "Matrix([\n",
       "[    exp(x)*cos(y) + exp(3*y)],\n",
       "[3*x*exp(3*y) - exp(x)*sin(y)]])"
      ]
     },
     "execution_count": 139,
     "metadata": {},
     "output_type": "execute_result"
    }
   ],
   "source": [
    "jac2 = Matrix([diff(ex2,x),diff(ex2,y)])\n",
    "jac2"
   ]
  },
  {
   "cell_type": "code",
   "execution_count": 140,
   "id": "60214635-4db6-4220-808f-b52f5f0e5e1b",
   "metadata": {},
   "outputs": [
    {
     "data": {
      "text/latex": [
       "$\\displaystyle \\left[\\begin{matrix}e^{x} \\cos{\\left(y \\right)} + e^{3 y} & 3 x e^{3 y} - e^{x} \\sin{\\left(y \\right)}\\end{matrix}\\right]$"
      ],
      "text/plain": [
       "Matrix([[exp(x)*cos(y) + exp(3*y), 3*x*exp(3*y) - exp(x)*sin(y)]])"
      ]
     },
     "execution_count": 140,
     "metadata": {},
     "output_type": "execute_result"
    }
   ],
   "source": [
    "jac2.T"
   ]
  },
  {
   "cell_type": "code",
   "execution_count": 149,
   "id": "3e039b6a-afa6-4c54-9833-be11dfbad057",
   "metadata": {},
   "outputs": [
    {
     "data": {
      "text/latex": [
       "$\\displaystyle x^{2} y^{2} z^{2} + e^{x} \\cos{\\left(y \\right)}$"
      ],
      "text/plain": [
       "x**2*y**2*z**2 + exp(x)*cos(y)"
      ]
     },
     "execution_count": 149,
     "metadata": {},
     "output_type": "execute_result"
    }
   ],
   "source": [
    "ex3 = exp(x)*cos(y)+x**2*y**2*z**2 \n",
    "ex3"
   ]
  },
  {
   "cell_type": "code",
   "execution_count": 150,
   "id": "854b9864-e67b-475d-94e4-6160b9774883",
   "metadata": {},
   "outputs": [
    {
     "data": {
      "text/latex": [
       "$\\displaystyle \\left[\\begin{matrix}2 x y^{2} z^{2} + e^{x} \\cos{\\left(y \\right)}\\\\2 x^{2} y z^{2} - e^{x} \\sin{\\left(y \\right)}\\\\2 x^{2} y^{2} z\\end{matrix}\\right]$"
      ],
      "text/plain": [
       "Matrix([\n",
       "[2*x*y**2*z**2 + exp(x)*cos(y)],\n",
       "[2*x**2*y*z**2 - exp(x)*sin(y)],\n",
       "[                2*x**2*y**2*z]])"
      ]
     },
     "execution_count": 150,
     "metadata": {},
     "output_type": "execute_result"
    }
   ],
   "source": [
    "jac3 = Matrix([diff(ex3,x),diff(ex3,y),diff(ex3,z)])\n",
    "jac3"
   ]
  },
  {
   "cell_type": "code",
   "execution_count": 151,
   "id": "7e7aaf2b-c872-47b4-b5cd-c4e4e86929aa",
   "metadata": {},
   "outputs": [
    {
     "data": {
      "text/latex": [
       "$\\displaystyle \\left[\\begin{matrix}2 x y^{2} z^{2} + e^{x} \\cos{\\left(y \\right)} & 2 x^{2} y z^{2} - e^{x} \\sin{\\left(y \\right)} & 2 x^{2} y^{2} z\\end{matrix}\\right]$"
      ],
      "text/plain": [
       "Matrix([[2*x*y**2*z**2 + exp(x)*cos(y), 2*x**2*y*z**2 - exp(x)*sin(y), 2*x**2*y**2*z]])"
      ]
     },
     "execution_count": 151,
     "metadata": {},
     "output_type": "execute_result"
    }
   ],
   "source": [
    "jac3.T"
   ]
  },
  {
   "cell_type": "code",
   "execution_count": 156,
   "id": "5cf4e33f-31f1-4d35-8735-42c2047f3937",
   "metadata": {},
   "outputs": [
    {
     "data": {
      "text/latex": [
       "$\\displaystyle x^{2} + 3 e^{y} e^{z} + \\sin{\\left(z \\right)} \\cos{\\left(x \\right)}$"
      ],
      "text/plain": [
       "x**2 + 3*exp(y)*exp(z) + sin(z)*cos(x)"
      ]
     },
     "execution_count": 156,
     "metadata": {},
     "output_type": "execute_result"
    }
   ],
   "source": [
    "ex4 = x**2 + 3* exp(y)*exp(z) + cos(x)*sin(z)\n",
    "ex4"
   ]
  },
  {
   "cell_type": "code",
   "execution_count": 157,
   "id": "906480ff-97cc-4d19-8eff-bd0fb62eb28f",
   "metadata": {},
   "outputs": [
    {
     "data": {
      "text/latex": [
       "$\\displaystyle \\left[\\begin{matrix}2 x - \\sin{\\left(x \\right)} \\sin{\\left(z \\right)}\\\\3 e^{y} e^{z}\\\\3 e^{y} e^{z} + \\cos{\\left(x \\right)} \\cos{\\left(z \\right)}\\end{matrix}\\right]$"
      ],
      "text/plain": [
       "Matrix([\n",
       "[            2*x - sin(x)*sin(z)],\n",
       "[                3*exp(y)*exp(z)],\n",
       "[3*exp(y)*exp(z) + cos(x)*cos(z)]])"
      ]
     },
     "execution_count": 157,
     "metadata": {},
     "output_type": "execute_result"
    }
   ],
   "source": [
    "jac4 = Matrix([diff(ex4,x),diff(ex4,y),diff(ex4,z)])\n",
    "jac4"
   ]
  },
  {
   "cell_type": "code",
   "execution_count": 158,
   "id": "211a1041-c4ca-4c4c-b4fa-2380384bd784",
   "metadata": {},
   "outputs": [
    {
     "data": {
      "text/latex": [
       "$\\displaystyle \\left[\\begin{matrix}2 x - \\sin{\\left(x \\right)} \\sin{\\left(z \\right)} & 3 e^{y} e^{z} & 3 e^{y} e^{z} + \\cos{\\left(x \\right)} \\cos{\\left(z \\right)}\\end{matrix}\\right]$"
      ],
      "text/plain": [
       "Matrix([[2*x - sin(x)*sin(z), 3*exp(y)*exp(z), 3*exp(y)*exp(z) + cos(x)*cos(z)]])"
      ]
     },
     "execution_count": 158,
     "metadata": {},
     "output_type": "execute_result"
    }
   ],
   "source": [
    "jac4.T"
   ]
  },
  {
   "cell_type": "code",
   "execution_count": 160,
   "id": "f8b3e1bc-2173-42d6-a1fe-23d72eadb54d",
   "metadata": {},
   "outputs": [
    {
     "data": {
      "text/latex": [
       "$\\displaystyle \\left[\\begin{matrix}0 & 3.0 & 4.0\\end{matrix}\\right]$"
      ],
      "text/plain": [
       "Matrix([[0, 3.0, 4.0]])"
      ]
     },
     "execution_count": 160,
     "metadata": {},
     "output_type": "execute_result"
    }
   ],
   "source": [
    "jac4.T.evalf(subs={x:0,y:0,z:0})"
   ]
  },
  {
   "cell_type": "code",
   "execution_count": 167,
   "id": "4d91ea0f-f885-4b48-998a-dadd49488fce",
   "metadata": {},
   "outputs": [
    {
     "data": {
      "text/latex": [
       "$\\displaystyle 5 x^{2} e^{z} \\sin{\\left(y \\right)} + x e^{x} \\cos{\\left(z \\right)}$"
      ],
      "text/plain": [
       "5*x**2*exp(z)*sin(y) + x*exp(x)*cos(z)"
      ]
     },
     "execution_count": 167,
     "metadata": {},
     "output_type": "execute_result"
    }
   ],
   "source": [
    "ex5 = x*exp(x)*cos(z) + 5*x**2*sin(y)*exp(z)\n",
    "ex5"
   ]
  },
  {
   "cell_type": "code",
   "execution_count": 170,
   "id": "1f394c04-8686-4eb3-ad8e-47787cbe2c33",
   "metadata": {},
   "outputs": [
    {
     "data": {
      "text/latex": [
       "$\\displaystyle \\left[\\begin{matrix}x e^{x} \\cos{\\left(z \\right)} + 10 x e^{z} \\sin{\\left(y \\right)} + e^{x} \\cos{\\left(z \\right)}\\\\5 x^{2} e^{z} \\cos{\\left(y \\right)}\\\\5 x^{2} e^{z} \\sin{\\left(y \\right)} - x e^{x} \\sin{\\left(z \\right)}\\end{matrix}\\right]$"
      ],
      "text/plain": [
       "Matrix([\n",
       "[x*exp(x)*cos(z) + 10*x*exp(z)*sin(y) + exp(x)*cos(z)],\n",
       "[                                5*x**2*exp(z)*cos(y)],\n",
       "[              5*x**2*exp(z)*sin(y) - x*exp(x)*sin(z)]])"
      ]
     },
     "execution_count": 170,
     "metadata": {},
     "output_type": "execute_result"
    }
   ],
   "source": [
    "Matrix([diff(ex5,x),diff(ex5,y),diff(ex5,z)])"
   ]
  },
  {
   "cell_type": "code",
   "execution_count": 168,
   "id": "072906a8-6c65-4a9b-a915-d5c97f0816a3",
   "metadata": {},
   "outputs": [
    {
     "data": {
      "text/latex": [
       "$\\displaystyle \\left[\\begin{matrix}1.0 & 0 & 0\\end{matrix}\\right]$"
      ],
      "text/plain": [
       "Matrix([[1.0, 0, 0]])"
      ]
     },
     "execution_count": 168,
     "metadata": {},
     "output_type": "execute_result"
    }
   ],
   "source": [
    "Matrix([diff(ex5,x),diff(ex5,y),diff(ex5,z)]).T.evalf(subs={x:0,y:0,z:0})"
   ]
  },
  {
   "cell_type": "code",
   "execution_count": 166,
   "id": "70b4a747-90b0-4dc9-bdf3-71ebf1295846",
   "metadata": {},
   "outputs": [
    {
     "data": {
      "text/plain": [
       "sympy.core.add.Add"
      ]
     },
     "execution_count": 166,
     "metadata": {},
     "output_type": "execute_result"
    }
   ],
   "source": [
    "type(ex5)"
   ]
  },
  {
   "cell_type": "code",
   "execution_count": 164,
   "id": "6afd509f-3794-4bfb-a419-33057066c83d",
   "metadata": {},
   "outputs": [
    {
     "data": {
      "text/plain": [
       "sympy.core.symbol.Symbol"
      ]
     },
     "execution_count": 164,
     "metadata": {},
     "output_type": "execute_result"
    }
   ],
   "source": []
  },
  {
   "cell_type": "code",
   "execution_count": null,
   "id": "f55d1af2-c4c6-4573-9851-314b709a8aac",
   "metadata": {},
   "outputs": [],
   "source": []
  }
 ],
 "metadata": {
  "kernelspec": {
   "display_name": "anaconda",
   "language": "python",
   "name": "anaconda"
  },
  "language_info": {
   "codemirror_mode": {
    "name": "ipython",
    "version": 3
   },
   "file_extension": ".py",
   "mimetype": "text/x-python",
   "name": "python",
   "nbconvert_exporter": "python",
   "pygments_lexer": "ipython3",
   "version": "3.9.13"
  }
 },
 "nbformat": 4,
 "nbformat_minor": 5
}
