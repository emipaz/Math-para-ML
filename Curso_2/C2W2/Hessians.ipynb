{
 "cells": [
  {
   "cell_type": "code",
   "execution_count": 1,
   "id": "cb960591-12c7-49cc-bdfa-376f88197562",
   "metadata": {},
   "outputs": [],
   "source": [
    "from sympy import symbols, sin, cos, exp, pi, diff ,sqrt\n",
    "from sympy import Rational\n",
    "from sympy.matrices import Matrix"
   ]
  },
  {
   "cell_type": "markdown",
   "id": "cfb59ae6-974b-4a5c-b35a-ed1b40bc5add",
   "metadata": {},
   "source": [
    "En este cuestionario, calcularás el hessiano de algunas funciones de 2 variables y funciones de 3 variables. \n",
    "\n",
    "\n",
    "Para la función $f(x,y) = x^3y + x + 2y$\n",
    ", calcula la matriz hessiana \n",
    "\n",
    "$ H = \\begin{bmatrix} \\partial_{x,x}f & \\partial_{x,y}f \\\\ \\partial_{y,x}f & \\partial_{y,y}f \\end{bmatrix} $"
   ]
  },
  {
   "cell_type": "code",
   "execution_count": 2,
   "id": "05bff66f-0bcc-4d90-9937-09bc78f696e3",
   "metadata": {},
   "outputs": [],
   "source": [
    "x,y,z = symbols(\"x,y,z\")"
   ]
  },
  {
   "cell_type": "code",
   "execution_count": 3,
   "id": "a3558598-9034-41a8-ad69-03b53bd6edb0",
   "metadata": {},
   "outputs": [
    {
     "data": {
      "text/latex": [
       "$\\displaystyle x^{3} y + x + 2 y$"
      ],
      "text/plain": [
       "x**3*y + x + 2*y"
      ]
     },
     "execution_count": 3,
     "metadata": {},
     "output_type": "execute_result"
    }
   ],
   "source": [
    "f = x**3*y+x+2*y\n",
    "f"
   ]
  },
  {
   "cell_type": "code",
   "execution_count": 4,
   "id": "e2ac3008-a3a9-48ed-b0e2-6f3364ec434d",
   "metadata": {},
   "outputs": [
    {
     "data": {
      "text/latex": [
       "$\\displaystyle \\left[\\begin{matrix}6 x y & 3 x^{2}\\\\3 x^{2} & 0\\end{matrix}\\right]$"
      ],
      "text/plain": [
       "Matrix([\n",
       "[ 6*x*y, 3*x**2],\n",
       "[3*x**2,      0]])"
      ]
     },
     "execution_count": 4,
     "metadata": {},
     "output_type": "execute_result"
    }
   ],
   "source": [
    "hes1 = Matrix([[diff(f,x,2),       diff(diff(f,x),y)],\n",
    "              [diff(diff(f,y),x), diff(f,y,2)]\n",
    "             ])\n",
    "hes1"
   ]
  },
  {
   "cell_type": "code",
   "execution_count": 5,
   "id": "66b0ce9a-20e2-4a26-985f-d006739b961e",
   "metadata": {},
   "outputs": [
    {
     "data": {
      "text/latex": [
       "$\\displaystyle e^{x} \\cos{\\left(y \\right)}$"
      ],
      "text/plain": [
       "exp(x)*cos(y)"
      ]
     },
     "execution_count": 5,
     "metadata": {},
     "output_type": "execute_result"
    }
   ],
   "source": [
    "f = exp(x)*cos(y)\n",
    "f"
   ]
  },
  {
   "cell_type": "code",
   "execution_count": 6,
   "id": "6498812a-3731-4bc2-8b3a-9fbea0f83136",
   "metadata": {},
   "outputs": [
    {
     "data": {
      "text/latex": [
       "$\\displaystyle \\left[\\begin{matrix}e^{x} \\cos{\\left(y \\right)} & - e^{x} \\sin{\\left(y \\right)}\\\\- e^{x} \\sin{\\left(y \\right)} & - e^{x} \\cos{\\left(y \\right)}\\end{matrix}\\right]$"
      ],
      "text/plain": [
       "Matrix([\n",
       "[ exp(x)*cos(y), -exp(x)*sin(y)],\n",
       "[-exp(x)*sin(y), -exp(x)*cos(y)]])"
      ]
     },
     "execution_count": 6,
     "metadata": {},
     "output_type": "execute_result"
    }
   ],
   "source": [
    "hes2 = Matrix([\n",
    "              [ diff(f,x,x),  diff(f,x,y)],\n",
    "              [ diff(f,y,x),  diff(f,y,y)]\n",
    "             ])\n",
    "hes2"
   ]
  },
  {
   "cell_type": "markdown",
   "id": "da6798fb-5861-4c16-b484-03ac6775c5f4",
   "metadata": {},
   "source": [
    "for the function $f(x,y) = \\frac{x^2}{2} + xy + \\frac{y^2}{2}$\n",
    "calculate the Hessian matrix. \n",
    "\n",
    "Notice something interesting when you calculate $\\frac{1}{2} [x, y] H \\begin{bmatrix}x \\\\ y \\end{bmatrix}$"
   ]
  },
  {
   "cell_type": "code",
   "execution_count": 7,
   "id": "bab701fb-8841-47fe-81db-31c15c24d065",
   "metadata": {},
   "outputs": [
    {
     "data": {
      "text/latex": [
       "$\\displaystyle \\frac{x^{2}}{2} + x y + \\frac{y^{2}}{2}$"
      ],
      "text/plain": [
       "x**2/2 + x*y + y**2/2"
      ]
     },
     "execution_count": 7,
     "metadata": {},
     "output_type": "execute_result"
    }
   ],
   "source": [
    "f = Rational(1,2) * x**2 + x*y + Rational(1,2) * y**2\n",
    "f"
   ]
  },
  {
   "cell_type": "code",
   "execution_count": 8,
   "id": "027a7213-fc0b-4295-b4d9-ade5aeec9de6",
   "metadata": {},
   "outputs": [
    {
     "data": {
      "text/latex": [
       "$\\displaystyle \\left[\\begin{matrix}1 & 1\\\\1 & 1\\end{matrix}\\right]$"
      ],
      "text/plain": [
       "Matrix([\n",
       "[1, 1],\n",
       "[1, 1]])"
      ]
     },
     "execution_count": 8,
     "metadata": {},
     "output_type": "execute_result"
    }
   ],
   "source": [
    "hes3 = Matrix([\n",
    "              [ diff(f,x,x),  diff(f,x,y)],\n",
    "              [ diff(f,y,x),  diff(f,y,y)]\n",
    "             ])\n",
    "hes3"
   ]
  },
  {
   "cell_type": "code",
   "execution_count": 9,
   "id": "0baa8eb1-4a76-4a9a-b271-ec9b440449c1",
   "metadata": {},
   "outputs": [
    {
     "data": {
      "text/latex": [
       "$\\displaystyle x^{2} e^{- y} \\cos{\\left(z \\right)}$"
      ],
      "text/plain": [
       "x**2*exp(-y)*cos(z)"
      ]
     },
     "execution_count": 9,
     "metadata": {},
     "output_type": "execute_result"
    }
   ],
   "source": [
    "f = x**2 * cos(z) * exp(-y)\n",
    "f"
   ]
  },
  {
   "cell_type": "code",
   "execution_count": 10,
   "id": "fa5bf35e-7066-4065-9b10-1d089f9be3bd",
   "metadata": {},
   "outputs": [
    {
     "data": {
      "text/latex": [
       "$\\displaystyle \\left[\\begin{matrix}2 e^{- y} \\cos{\\left(z \\right)} & - 2 x e^{- y} \\cos{\\left(z \\right)} & - 2 x e^{- y} \\sin{\\left(z \\right)}\\\\- 2 x e^{- y} \\cos{\\left(z \\right)} & x^{2} e^{- y} \\cos{\\left(z \\right)} & x^{2} e^{- y} \\sin{\\left(z \\right)}\\\\- 2 x e^{- y} \\sin{\\left(z \\right)} & x^{2} e^{- y} \\sin{\\left(z \\right)} & - x^{2} e^{- y} \\cos{\\left(z \\right)}\\end{matrix}\\right]$"
      ],
      "text/plain": [
       "Matrix([\n",
       "[   2*exp(-y)*cos(z), -2*x*exp(-y)*cos(z),  -2*x*exp(-y)*sin(z)],\n",
       "[-2*x*exp(-y)*cos(z), x**2*exp(-y)*cos(z),  x**2*exp(-y)*sin(z)],\n",
       "[-2*x*exp(-y)*sin(z), x**2*exp(-y)*sin(z), -x**2*exp(-y)*cos(z)]])"
      ]
     },
     "execution_count": 10,
     "metadata": {},
     "output_type": "execute_result"
    }
   ],
   "source": [
    "hes3 = Matrix([\n",
    "              [ diff(f,x,x),  diff(f,x,y),diff(f,x,z) ],\n",
    "              [ diff(f,y,x),  diff(f,y,y),diff(f,y,z) ],\n",
    "              [ diff(f,z,x),  diff(f,z,y),diff(f,z,z) ]\n",
    "    \n",
    "             ])\n",
    "hes3"
   ]
  },
  {
   "cell_type": "code",
   "execution_count": 11,
   "id": "6d6e0201-6d79-4b11-8837-b84ccc6bb372",
   "metadata": {},
   "outputs": [
    {
     "data": {
      "text/latex": [
       "$\\displaystyle x e^{y} + y^{2} \\cos{\\left(z \\right)}$"
      ],
      "text/plain": [
       "x*exp(y) + y**2*cos(z)"
      ]
     },
     "execution_count": 11,
     "metadata": {},
     "output_type": "execute_result"
    }
   ],
   "source": [
    "f = x * exp(y) + y**2 *cos(z)\n",
    "f"
   ]
  },
  {
   "cell_type": "code",
   "execution_count": 12,
   "id": "31210eb8-8082-4db6-8ef9-68badc08b132",
   "metadata": {},
   "outputs": [
    {
     "data": {
      "text/latex": [
       "$\\displaystyle \\left[\\begin{matrix}0 & e^{y} & 0\\\\e^{y} & x e^{y} + 2 \\cos{\\left(z \\right)} & - 2 y \\sin{\\left(z \\right)}\\\\0 & - 2 y \\sin{\\left(z \\right)} & - y^{2} \\cos{\\left(z \\right)}\\end{matrix}\\right]$"
      ],
      "text/plain": [
       "Matrix([\n",
       "[     0,              exp(y),            0],\n",
       "[exp(y), x*exp(y) + 2*cos(z),  -2*y*sin(z)],\n",
       "[     0,         -2*y*sin(z), -y**2*cos(z)]])"
      ]
     },
     "execution_count": 12,
     "metadata": {},
     "output_type": "execute_result"
    }
   ],
   "source": [
    "hes4 = Matrix([\n",
    "              [ diff(f,x,x),  diff(f,x,y),diff(f,x,z) ],\n",
    "              [ diff(f,y,x),  diff(f,y,y),diff(f,y,z) ],\n",
    "              [ diff(f,z,x),  diff(f,z,y),diff(f,z,z) ]\n",
    "    \n",
    "             ])\n",
    "hes4"
   ]
  },
  {
   "cell_type": "code",
   "execution_count": null,
   "id": "362fd359-ddd7-4797-8026-c33cfba9359d",
   "metadata": {},
   "outputs": [],
   "source": []
  },
  {
   "cell_type": "markdown",
   "id": "34936832-8424-49ad-bacf-4f95b29a7e4e",
   "metadata": {},
   "source": [
    "Calculate the Jacobian of the function $f(x, y, z) = x^2cos(y) + e^zsin(y)$\n",
    "and evaluate at the point $(x, y, z) = (\\pi, \\pi, 1)$."
   ]
  },
  {
   "cell_type": "code",
   "execution_count": 13,
   "id": "e1773cc3-8f5f-4de3-b790-d322332ed927",
   "metadata": {},
   "outputs": [
    {
     "data": {
      "text/latex": [
       "$\\displaystyle x^{2} \\cos{\\left(y \\right)} + e^{z} \\sin{\\left(y \\right)}$"
      ],
      "text/plain": [
       "x**2*cos(y) + exp(z)*sin(y)"
      ]
     },
     "execution_count": 13,
     "metadata": {},
     "output_type": "execute_result"
    }
   ],
   "source": [
    "f = x**2 *cos(y) + exp(z)*sin(y)\n",
    "f"
   ]
  },
  {
   "cell_type": "code",
   "execution_count": 16,
   "id": "b8d80dba-d3d0-4d76-be3f-954a37a297bc",
   "metadata": {},
   "outputs": [
    {
     "data": {
      "text/latex": [
       "$\\displaystyle \\left[\\begin{matrix}2 x \\cos{\\left(y \\right)} & - x^{2} \\sin{\\left(y \\right)} + e^{z} \\cos{\\left(y \\right)} & e^{z} \\sin{\\left(y \\right)}\\end{matrix}\\right]$"
      ],
      "text/plain": [
       "Matrix([[2*x*cos(y), -x**2*sin(y) + exp(z)*cos(y), exp(z)*sin(y)]])"
      ]
     },
     "execution_count": 16,
     "metadata": {},
     "output_type": "execute_result"
    }
   ],
   "source": [
    "jac =  Matrix([\n",
    "              [ diff(f,x),  diff(f,y), diff(f,z)]])\n",
    "jac"
   ]
  },
  {
   "cell_type": "code",
   "execution_count": 30,
   "id": "7b07a2ea-e28c-4506-99f9-62b4bac91349",
   "metadata": {},
   "outputs": [
    {
     "data": {
      "text/latex": [
       "$\\displaystyle \\left[\\begin{matrix}-6.28318530717959 & -2.71828182845905 & 5.0 \\cdot 10^{-209}\\end{matrix}\\right]$"
      ],
      "text/plain": [
       "Matrix([[-6.28318530717959, -2.71828182845905, 0.e-209]])"
      ]
     },
     "execution_count": 30,
     "metadata": {},
     "output_type": "execute_result"
    }
   ],
   "source": [
    "jac.evalf(subs={x:pi,y:pi,z:1})"
   ]
  },
  {
   "cell_type": "code",
   "execution_count": 31,
   "id": "b40de231-a414-4a68-898b-9730d7104253",
   "metadata": {},
   "outputs": [
    {
     "data": {
      "text/latex": [
       "$\\displaystyle 0$"
      ],
      "text/plain": [
       "0"
      ]
     },
     "execution_count": 31,
     "metadata": {},
     "output_type": "execute_result"
    }
   ],
   "source": [
    "exp(1)*sin(pi)"
   ]
  },
  {
   "cell_type": "code",
   "execution_count": 37,
   "id": "b5e5e054-7ea8-4ff5-a857-fcd3bf4557ac",
   "metadata": {},
   "outputs": [
    {
     "data": {
      "text/latex": [
       "$\\displaystyle x^{2} y - \\sin{\\left(y \\right)} \\cos{\\left(x \\right)}$"
      ],
      "text/plain": [
       "x**2*y - sin(y)*cos(x)"
      ]
     },
     "metadata": {},
     "output_type": "display_data"
    },
    {
     "data": {
      "text/latex": [
       "$\\displaystyle e^{x + y}$"
      ],
      "text/plain": [
       "exp(x + y)"
      ]
     },
     "metadata": {},
     "output_type": "display_data"
    }
   ],
   "source": [
    "u = x**2*y - cos(x)*sin(y)\n",
    "v = exp(x+y)\n",
    "display(u)\n",
    "display(v)"
   ]
  },
  {
   "cell_type": "code",
   "execution_count": 38,
   "id": "17d5eb28-e5b1-4a54-8c09-1abb7077bcdd",
   "metadata": {},
   "outputs": [
    {
     "data": {
      "text/latex": [
       "$\\displaystyle \\left[\\begin{matrix}2 x y + \\sin{\\left(x \\right)} \\sin{\\left(y \\right)} & x^{2} - \\cos{\\left(x \\right)} \\cos{\\left(y \\right)}\\\\e^{x + y} & e^{x + y}\\end{matrix}\\right]$"
      ],
      "text/plain": [
       "Matrix([\n",
       "[2*x*y + sin(x)*sin(y), x**2 - cos(x)*cos(y)],\n",
       "[           exp(x + y),           exp(x + y)]])"
      ]
     },
     "execution_count": 38,
     "metadata": {},
     "output_type": "execute_result"
    }
   ],
   "source": [
    "jac2 = Matrix([[diff(u,x),diff(u,y)],\n",
    "               [diff(v,x),diff(v,y)]])\n",
    "jac2"
   ]
  },
  {
   "cell_type": "code",
   "execution_count": 39,
   "id": "51164d5d-215e-4da0-b2c1-4edd38e45bb2",
   "metadata": {},
   "outputs": [
    {
     "data": {
      "text/latex": [
       "$\\displaystyle \\left[\\begin{matrix}0 & 1.0\\\\23.1406926327793 & 23.1406926327793\\end{matrix}\\right]$"
      ],
      "text/plain": [
       "Matrix([\n",
       "[               0,              1.0],\n",
       "[23.1406926327793, 23.1406926327793]])"
      ]
     },
     "execution_count": 39,
     "metadata": {},
     "output_type": "execute_result"
    }
   ],
   "source": [
    "jac2.evalf(subs={x:0,y:pi})"
   ]
  },
  {
   "cell_type": "code",
   "execution_count": 41,
   "id": "10873236-5add-418d-8c5c-c976569fe51d",
   "metadata": {},
   "outputs": [
    {
     "data": {
      "text/plain": [
       "23.14069263277927"
      ]
     },
     "execution_count": 41,
     "metadata": {},
     "output_type": "execute_result"
    }
   ],
   "source": [
    "float(exp(pi))"
   ]
  },
  {
   "cell_type": "code",
   "execution_count": 44,
   "id": "1daa4044-d66a-4bea-a176-ee741aa55813",
   "metadata": {},
   "outputs": [
    {
     "data": {
      "text/latex": [
       "$\\displaystyle x^{3} \\cos{\\left(y \\right)} - x \\sin{\\left(y \\right)}$"
      ],
      "text/plain": [
       "x**3*cos(y) - x*sin(y)"
      ]
     },
     "metadata": {},
     "output_type": "display_data"
    },
    {
     "data": {
      "text/latex": [
       "$\\displaystyle \\left[\\begin{matrix}6 x \\cos{\\left(y \\right)} & - (3 x^{2} \\sin{\\left(y \\right)} + \\cos{\\left(y \\right)})\\\\- (3 x^{2} \\sin{\\left(y \\right)} + \\cos{\\left(y \\right)}) & x \\left(- x^{2} \\cos{\\left(y \\right)} + \\sin{\\left(y \\right)}\\right)\\end{matrix}\\right]$"
      ],
      "text/plain": [
       "Matrix([\n",
       "[               6*x*cos(y), -(3*x**2*sin(y) + cos(y))],\n",
       "[-(3*x**2*sin(y) + cos(y)), x*(-x**2*cos(y) + sin(y))]])"
      ]
     },
     "execution_count": 44,
     "metadata": {},
     "output_type": "execute_result"
    }
   ],
   "source": [
    "fxy = x**3*cos(y) - x*sin(y)\n",
    "display(fxy)\n",
    "hes_3 = Matrix([\n",
    "              [ diff(fxy,x,x),  diff(fxy,x,y) ],\n",
    "              [ diff(fxy,y,x),  diff(fxy,y,y) ]\n",
    "             ])\n",
    "hes_3"
   ]
  },
  {
   "cell_type": "code",
   "execution_count": 45,
   "id": "ad14865e-f567-4a64-a291-9cb917d5d3a4",
   "metadata": {},
   "outputs": [
    {
     "data": {
      "text/latex": [
       "$\\displaystyle x y + z^{3} e^{x} + \\sin{\\left(y \\right)} \\sin{\\left(z \\right)}$"
      ],
      "text/plain": [
       "x*y + z**3*exp(x) + sin(y)*sin(z)"
      ]
     },
     "metadata": {},
     "output_type": "display_data"
    },
    {
     "data": {
      "text/latex": [
       "$\\displaystyle \\left[\\begin{matrix}z^{3} e^{x} & 1 & 3 z^{2} e^{x}\\\\1 & - \\sin{\\left(y \\right)} \\sin{\\left(z \\right)} & \\cos{\\left(y \\right)} \\cos{\\left(z \\right)}\\\\3 z^{2} e^{x} & \\cos{\\left(y \\right)} \\cos{\\left(z \\right)} & 6 z e^{x} - \\sin{\\left(y \\right)} \\sin{\\left(z \\right)}\\end{matrix}\\right]$"
      ],
      "text/plain": [
       "Matrix([\n",
       "[  z**3*exp(x),              1,              3*z**2*exp(x)],\n",
       "[            1, -sin(y)*sin(z),              cos(y)*cos(z)],\n",
       "[3*z**2*exp(x),  cos(y)*cos(z), 6*z*exp(x) - sin(y)*sin(z)]])"
      ]
     },
     "execution_count": 45,
     "metadata": {},
     "output_type": "execute_result"
    }
   ],
   "source": [
    "fxyz = x*y + sin(y)*sin(z) + z**3*exp(x)\n",
    "display(fxyz)\n",
    "\n",
    "\n",
    "hes_4 = Matrix([\n",
    "              [ diff(fxyz,x,x),  diff(fxyz,x,y),diff(fxyz,x,z) ],\n",
    "              [ diff(fxyz,y,x),  diff(fxyz,y,y),diff(fxyz,y,z) ],\n",
    "              [ diff(fxyz,z,x),  diff(fxyz,z,y),diff(fxyz,z,z) ]\n",
    "    \n",
    "             ])\n",
    "hes_4"
   ]
  },
  {
   "cell_type": "code",
   "execution_count": 46,
   "id": "bf3a64b1-0d76-45c1-bddc-34880efa8c1f",
   "metadata": {},
   "outputs": [
    {
     "data": {
      "text/latex": [
       "$\\displaystyle x y \\cos{\\left(z \\right)} - z^{3} e^{y} \\sin{\\left(x \\right)}$"
      ],
      "text/plain": [
       "x*y*cos(z) - z**3*exp(y)*sin(x)"
      ]
     },
     "metadata": {},
     "output_type": "display_data"
    },
    {
     "data": {
      "text/latex": [
       "$\\displaystyle \\left[\\begin{matrix}z^{3} e^{y} \\sin{\\left(x \\right)} & - z^{3} e^{y} \\cos{\\left(x \\right)} + \\cos{\\left(z \\right)} & - (y \\sin{\\left(z \\right)} + 3 z^{2} e^{y} \\cos{\\left(x \\right)})\\\\- z^{3} e^{y} \\cos{\\left(x \\right)} + \\cos{\\left(z \\right)} & - z^{3} e^{y} \\sin{\\left(x \\right)} & - (x \\sin{\\left(z \\right)} + 3 z^{2} e^{y} \\sin{\\left(x \\right)})\\\\- (y \\sin{\\left(z \\right)} + 3 z^{2} e^{y} \\cos{\\left(x \\right)}) & - (x \\sin{\\left(z \\right)} + 3 z^{2} e^{y} \\sin{\\left(x \\right)}) & - (x y \\cos{\\left(z \\right)} + 6 z e^{y} \\sin{\\left(x \\right)})\\end{matrix}\\right]$"
      ],
      "text/plain": [
       "Matrix([\n",
       "[                z**3*exp(y)*sin(x),       -z**3*exp(y)*cos(x) + cos(z), -(y*sin(z) + 3*z**2*exp(y)*cos(x))],\n",
       "[      -z**3*exp(y)*cos(x) + cos(z),                -z**3*exp(y)*sin(x), -(x*sin(z) + 3*z**2*exp(y)*sin(x))],\n",
       "[-(y*sin(z) + 3*z**2*exp(y)*cos(x)), -(x*sin(z) + 3*z**2*exp(y)*sin(x)),  -(x*y*cos(z) + 6*z*exp(y)*sin(x))]])"
      ]
     },
     "execution_count": 46,
     "metadata": {},
     "output_type": "execute_result"
    }
   ],
   "source": [
    "fxyz = x*y*cos(z) - sin(x)*exp(y)*z**3\n",
    "display(fxyz)\n",
    "\n",
    "\n",
    "hes_5 = Matrix([\n",
    "              [ diff(fxyz,x,x),  diff(fxyz,x,y),diff(fxyz,x,z) ],\n",
    "              [ diff(fxyz,y,x),  diff(fxyz,y,y),diff(fxyz,y,z) ],\n",
    "              [ diff(fxyz,z,x),  diff(fxyz,z,y),diff(fxyz,z,z) ]\n",
    "    \n",
    "             ])\n",
    "hes_5"
   ]
  },
  {
   "cell_type": "code",
   "execution_count": 47,
   "id": "136de79d-240d-49f5-adb5-de27010cf847",
   "metadata": {},
   "outputs": [
    {
     "data": {
      "text/latex": [
       "$\\displaystyle \\left[\\begin{matrix}0 & 1.0 & 0\\\\1.0 & 0 & 0\\\\0 & 0 & 0\\end{matrix}\\right]$"
      ],
      "text/plain": [
       "Matrix([\n",
       "[  0, 1.0, 0],\n",
       "[1.0,   0, 0],\n",
       "[  0,   0, 0]])"
      ]
     },
     "execution_count": 47,
     "metadata": {},
     "output_type": "execute_result"
    }
   ],
   "source": [
    "hes_5.evalf(subs={x:0,y:0,z:0})"
   ]
  },
  {
   "cell_type": "code",
   "execution_count": null,
   "id": "6b30e8e4-d620-4196-b35c-231a8efc67ca",
   "metadata": {},
   "outputs": [],
   "source": []
  }
 ],
 "metadata": {
  "kernelspec": {
   "display_name": "anaconda",
   "language": "python",
   "name": "anaconda"
  },
  "language_info": {
   "codemirror_mode": {
    "name": "ipython",
    "version": 3
   },
   "file_extension": ".py",
   "mimetype": "text/x-python",
   "name": "python",
   "nbconvert_exporter": "python",
   "pygments_lexer": "ipython3",
   "version": "3.9.13"
  }
 },
 "nbformat": 4,
 "nbformat_minor": 5
}
