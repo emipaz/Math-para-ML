{
 "cells": [
  {
   "cell_type": "code",
   "execution_count": 2,
   "id": "d0737265-024b-4c50-af13-a6a66509fed4",
   "metadata": {},
   "outputs": [],
   "source": [
    "import sympy"
   ]
  },
  {
   "cell_type": "code",
   "execution_count": 3,
   "id": "c64f7118-bf16-4a49-956a-90d3cf1a14cd",
   "metadata": {},
   "outputs": [],
   "source": [
    "x = sympy.symbols(\"x\")"
   ]
  },
  {
   "cell_type": "code",
   "execution_count": 5,
   "id": "ef076c37-3eee-4548-a11d-1ab490946e31",
   "metadata": {},
   "outputs": [
    {
     "data": {
      "text/latex": [
       "$\\displaystyle \\left(x + 2\\right) \\left(3 x - 3\\right)$"
      ],
      "text/plain": [
       "(x + 2)*(3*x - 3)"
      ]
     },
     "execution_count": 5,
     "metadata": {},
     "output_type": "execute_result"
    }
   ],
   "source": [
    "expr = (x +2) * (3*x -3)\n",
    "expr"
   ]
  },
  {
   "cell_type": "code",
   "execution_count": 6,
   "id": "ea8afb1d-f2d5-4f9b-916c-f25298ebf0d0",
   "metadata": {},
   "outputs": [
    {
     "data": {
      "text/latex": [
       "$\\displaystyle 3 \\left(x - 1\\right) \\left(x + 2\\right)$"
      ],
      "text/plain": [
       "3*(x - 1)*(x + 2)"
      ]
     },
     "execution_count": 6,
     "metadata": {},
     "output_type": "execute_result"
    }
   ],
   "source": [
    "expr.factor()"
   ]
  },
  {
   "cell_type": "code",
   "execution_count": 6,
   "id": "391b69df-d280-4c18-8c3b-81c47ffd86a2",
   "metadata": {},
   "outputs": [
    {
     "data": {
      "text/latex": [
       "$\\displaystyle 6 x + 3$"
      ],
      "text/plain": [
       "6*x + 3"
      ]
     },
     "execution_count": 6,
     "metadata": {},
     "output_type": "execute_result"
    }
   ],
   "source": [
    "sympy.diff(expr,x)"
   ]
  },
  {
   "cell_type": "code",
   "execution_count": 7,
   "id": "285c3ad8-31d2-4e7f-b6b6-e4b110ba3769",
   "metadata": {},
   "outputs": [],
   "source": [
    "from sympy import sin, exp"
   ]
  },
  {
   "cell_type": "code",
   "execution_count": 8,
   "id": "edb95b74-00dd-4199-8f5c-ff67fa867286",
   "metadata": {},
   "outputs": [],
   "source": [
    "exp2 = (x ** 3) * sin(x) "
   ]
  },
  {
   "cell_type": "code",
   "execution_count": 9,
   "id": "e5add97c-2f37-4fea-a845-d4a1f4190839",
   "metadata": {},
   "outputs": [
    {
     "data": {
      "text/latex": [
       "$\\displaystyle x^{3} \\cos{\\left(x \\right)} + 3 x^{2} \\sin{\\left(x \\right)}$"
      ],
      "text/plain": [
       "x**3*cos(x) + 3*x**2*sin(x)"
      ]
     },
     "execution_count": 9,
     "metadata": {},
     "output_type": "execute_result"
    }
   ],
   "source": [
    "sympy.diff(exp2,x)"
   ]
  },
  {
   "cell_type": "markdown",
   "id": "16e5867f-1372-49d8-9b64-677f41268314",
   "metadata": {},
   "source": [
    "$\\displaystyle x^{3} \\cos{\\left(x \\right)} + 3 x^{2} \\sin{\\left(x \\right)}$"
   ]
  },
  {
   "cell_type": "code",
   "execution_count": 79,
   "id": "d80b9d08-d218-4584-adec-71b80b1eee61",
   "metadata": {},
   "outputs": [],
   "source": [
    "from sympy import exp"
   ]
  },
  {
   "cell_type": "code",
   "execution_count": 12,
   "id": "52904c57-b04b-4209-a03d-6ef47f7d18a2",
   "metadata": {},
   "outputs": [
    {
     "data": {
      "text/latex": [
       "$\\displaystyle e^{x}$"
      ],
      "text/plain": [
       "exp(x)"
      ]
     },
     "execution_count": 12,
     "metadata": {},
     "output_type": "execute_result"
    }
   ],
   "source": [
    "exp(x)"
   ]
  },
  {
   "cell_type": "code",
   "execution_count": 14,
   "id": "837e1dfb-bb68-43cf-9fd8-91c3c0759d3a",
   "metadata": {},
   "outputs": [
    {
     "data": {
      "text/latex": [
       "$\\displaystyle \\frac{e^{x}}{x}$"
      ],
      "text/plain": [
       "exp(x)/x"
      ]
     },
     "execution_count": 14,
     "metadata": {},
     "output_type": "execute_result"
    }
   ],
   "source": [
    "exp3 = exp(x)/x\n",
    "exp3"
   ]
  },
  {
   "cell_type": "code",
   "execution_count": 15,
   "id": "22c96a19-a27a-4bf0-beb0-f01cf5081128",
   "metadata": {},
   "outputs": [
    {
     "data": {
      "text/latex": [
       "$\\displaystyle \\frac{e^{x}}{x} - \\frac{e^{x}}{x^{2}}$"
      ],
      "text/plain": [
       "exp(x)/x - exp(x)/x**2"
      ]
     },
     "execution_count": 15,
     "metadata": {},
     "output_type": "execute_result"
    }
   ],
   "source": [
    "sympy.diff(exp3,x)"
   ]
  },
  {
   "cell_type": "code",
   "execution_count": 10,
   "id": "67ab01d6-ad74-4fa0-9c83-159e7115a0d5",
   "metadata": {},
   "outputs": [],
   "source": [
    "from sympy import cos"
   ]
  },
  {
   "cell_type": "code",
   "execution_count": 11,
   "id": "e7ac93a9-1853-4908-8544-8190d3e88af9",
   "metadata": {},
   "outputs": [
    {
     "data": {
      "text/latex": [
       "$\\displaystyle x e^{x} \\cos{\\left(x \\right)}$"
      ],
      "text/plain": [
       "x*exp(x)*cos(x)"
      ]
     },
     "execution_count": 11,
     "metadata": {},
     "output_type": "execute_result"
    }
   ],
   "source": [
    "exp4 = exp(x) * x * cos(x)\n",
    "exp4"
   ]
  },
  {
   "cell_type": "code",
   "execution_count": 13,
   "id": "8ab6bda2-3f58-44f6-b9b3-8c5100622918",
   "metadata": {},
   "outputs": [],
   "source": [
    "from sympy.plotting import plot"
   ]
  },
  {
   "cell_type": "code",
   "execution_count": 14,
   "id": "af2ce53e-c6f6-4938-8ca3-ba76dd6fcbfc",
   "metadata": {},
   "outputs": [
    {
     "data": {
      "image/png": "[encoded data removed]",
      "text/plain": [
       "<Figure size 640x480 with 1 Axes>"
      ]
     },
     "metadata": {},
     "output_type": "display_data"
    },
    {
     "data": {
      "text/plain": [
       "<sympy.plotting.plot.Plot at 0x7f230f165400>"
      ]
     },
     "execution_count": 14,
     "metadata": {},
     "output_type": "execute_result"
    }
   ],
   "source": [
    "plot(exp4)"
   ]
  },
  {
   "cell_type": "code",
   "execution_count": 16,
   "id": "efc6c3b6-8af5-4023-ad49-9309774387db",
   "metadata": {},
   "outputs": [
    {
     "data": {
      "text/latex": [
       "$\\displaystyle - x e^{x} \\sin{\\left(x \\right)} + x e^{x} \\cos{\\left(x \\right)} + e^{x} \\cos{\\left(x \\right)}$"
      ],
      "text/plain": [
       "-x*exp(x)*sin(x) + x*exp(x)*cos(x) + exp(x)*cos(x)"
      ]
     },
     "execution_count": 16,
     "metadata": {},
     "output_type": "execute_result"
    }
   ],
   "source": [
    "exp5 = sympy.diff(exp4,x)\n",
    "exp5"
   ]
  },
  {
   "cell_type": "code",
   "execution_count": 17,
   "id": "b1e537e5-9d4b-40d4-8d6f-7f5e0e05de97",
   "metadata": {},
   "outputs": [
    {
     "data": {
      "image/png": "[encoded data removed]",
      "text/plain": [
       "<Figure size 640x480 with 1 Axes>"
      ]
     },
     "metadata": {},
     "output_type": "display_data"
    },
    {
     "data": {
      "text/plain": [
       "<sympy.plotting.plot.Plot at 0x7f22ffff09a0>"
      ]
     },
     "execution_count": 17,
     "metadata": {},
     "output_type": "execute_result"
    }
   ],
   "source": [
    "plot(exp5)"
   ]
  },
  {
   "cell_type": "code",
   "execution_count": 18,
   "id": "0e2a04be-661f-4fb2-a159-b7e0c536bea4",
   "metadata": {},
   "outputs": [
    {
     "data": {
      "text/latex": [
       "$\\displaystyle \\left(- x \\sin{\\left(x \\right)} + \\left(x + 1\\right) \\cos{\\left(x \\right)}\\right) e^{x}$"
      ],
      "text/plain": [
       "(-x*sin(x) + (x + 1)*cos(x))*exp(x)"
      ]
     },
     "execution_count": 18,
     "metadata": {},
     "output_type": "execute_result"
    }
   ],
   "source": [
    "exp6 = exp(x)* ( ( ( x + 1 ) * cos(x) ) - (x * sin(x)))\n",
    "exp6"
   ]
  },
  {
   "cell_type": "code",
   "execution_count": 19,
   "id": "8f3693d8-bed1-4c88-8c22-f7bfafe1e278",
   "metadata": {},
   "outputs": [
    {
     "data": {
      "text/latex": [
       "$\\displaystyle \\left(- x \\sin{\\left(x \\right)} + x \\cos{\\left(x \\right)} + \\cos{\\left(x \\right)}\\right) e^{x}$"
      ],
      "text/plain": [
       "(-x*sin(x) + x*cos(x) + cos(x))*exp(x)"
      ]
     },
     "execution_count": 19,
     "metadata": {},
     "output_type": "execute_result"
    }
   ],
   "source": [
    "exp6.factor()"
   ]
  },
  {
   "cell_type": "code",
   "execution_count": 25,
   "id": "6f5a81a5-0fa2-493f-afaf-c0c44ac8db3d",
   "metadata": {},
   "outputs": [
    {
     "data": {
      "text/plain": [
       "False"
      ]
     },
     "execution_count": 25,
     "metadata": {},
     "output_type": "execute_result"
    }
   ],
   "source": [
    "exp5 == exp6"
   ]
  },
  {
   "cell_type": "code",
   "execution_count": 26,
   "id": "2c3a39cb-37c0-4643-9dc0-0b751e421128",
   "metadata": {},
   "outputs": [
    {
     "data": {
      "text/plain": [
       "False"
      ]
     },
     "execution_count": 26,
     "metadata": {},
     "output_type": "execute_result"
    }
   ],
   "source": [
    "exp5 == exp(x) * (x*cos(x)-sin(x))"
   ]
  },
  {
   "cell_type": "code",
   "execution_count": 27,
   "id": "71736799-5b45-4780-8ecc-a75f899e733b",
   "metadata": {},
   "outputs": [
    {
     "data": {
      "text/latex": [
       "$\\displaystyle \\left(x \\cos{\\left(x \\right)} - \\sin{\\left(x \\right)}\\right) e^{x}$"
      ],
      "text/plain": [
       "(x*cos(x) - sin(x))*exp(x)"
      ]
     },
     "execution_count": 27,
     "metadata": {},
     "output_type": "execute_result"
    }
   ],
   "source": [
    "exp(x) * (x*cos(x)-sin(x))"
   ]
  },
  {
   "cell_type": "code",
   "execution_count": 28,
   "id": "3e07f6c2-0e57-4f4f-9b70-a574ee833614",
   "metadata": {},
   "outputs": [
    {
     "data": {
      "text/latex": [
       "$\\displaystyle \\left(x + 1\\right) \\cos{\\left(x \\right)}$"
      ],
      "text/plain": [
       "(x + 1)*cos(x)"
      ]
     },
     "execution_count": 28,
     "metadata": {},
     "output_type": "execute_result"
    }
   ],
   "source": [
    "( x + 1 ) * cos(x)"
   ]
  },
  {
   "cell_type": "code",
   "execution_count": 29,
   "id": "e0f6ef6c-6a79-4c20-b8b3-a5db09815cbe",
   "metadata": {},
   "outputs": [
    {
     "data": {
      "text/latex": [
       "$\\displaystyle \\frac{\\sin{\\left(x \\right)}}{\\cos{\\left(x \\right)}}$"
      ],
      "text/plain": [
       "sin(x)/cos(x)"
      ]
     },
     "execution_count": 29,
     "metadata": {},
     "output_type": "execute_result"
    }
   ],
   "source": [
    "tan = sin(x)/cos(x)\n",
    "tan"
   ]
  },
  {
   "cell_type": "code",
   "execution_count": 30,
   "id": "b73614bf-c475-4a31-9f79-ded2dc366d1f",
   "metadata": {},
   "outputs": [
    {
     "data": {
      "text/latex": [
       "$\\displaystyle \\frac{\\sin{\\left(x \\right)}}{\\cos^{2}{\\left(x \\right)}}$"
      ],
      "text/plain": [
       "sin(x)/cos(x)**2"
      ]
     },
     "execution_count": 30,
     "metadata": {},
     "output_type": "execute_result"
    }
   ],
   "source": [
    "sympy.diff(1/cos(x),x)"
   ]
  },
  {
   "cell_type": "code",
   "execution_count": 31,
   "id": "5988bacb-dcb5-4f3b-be07-96ba2a8e8fac",
   "metadata": {},
   "outputs": [
    {
     "data": {
      "text/latex": [
       "$\\displaystyle \\frac{\\sin^{2}{\\left(x \\right)}}{\\cos^{2}{\\left(x \\right)}} + 1$"
      ],
      "text/plain": [
       "sin(x)**2/cos(x)**2 + 1"
      ]
     },
     "execution_count": 31,
     "metadata": {},
     "output_type": "execute_result"
    }
   ],
   "source": [
    "sympy.diff(tan,x)"
   ]
  },
  {
   "cell_type": "code",
   "execution_count": 33,
   "id": "3bbd6c18-180a-473b-a48e-60bc4e0b6972",
   "metadata": {},
   "outputs": [
    {
     "data": {
      "text/latex": [
       "$\\displaystyle e^{\\sin{\\left(x^{2} \\right)}}$"
      ],
      "text/plain": [
       "exp(sin(x**2))"
      ]
     },
     "execution_count": 33,
     "metadata": {},
     "output_type": "execute_result"
    }
   ],
   "source": [
    "exp6 = exp(sin(x**2))\n",
    "exp6"
   ]
  },
  {
   "cell_type": "code",
   "execution_count": 34,
   "id": "2334c09a-8b72-4dbc-8ad6-439b65434039",
   "metadata": {},
   "outputs": [
    {
     "data": {
      "text/latex": [
       "$\\displaystyle 2 x e^{\\sin{\\left(x^{2} \\right)}} \\cos{\\left(x^{2} \\right)}$"
      ],
      "text/plain": [
       "2*x*exp(sin(x**2))*cos(x**2)"
      ]
     },
     "execution_count": 34,
     "metadata": {},
     "output_type": "execute_result"
    }
   ],
   "source": [
    "sympy.diff(exp6,x)"
   ]
  },
  {
   "cell_type": "code",
   "execution_count": 35,
   "id": "145cd42b-ad74-4d8a-bb56-e6e059e92952",
   "metadata": {},
   "outputs": [],
   "source": [
    "from sympy import pi"
   ]
  },
  {
   "cell_type": "code",
   "execution_count": 47,
   "id": "fabd561a-c2eb-4a77-bd99-19b9648eda9f",
   "metadata": {},
   "outputs": [
    {
     "data": {
      "text/latex": [
       "$\\displaystyle 1.5 x^{0.5} + 2 \\pi x$"
      ],
      "text/plain": [
       "1.5*x**0.5 + 2*pi*x"
      ]
     },
     "execution_count": 47,
     "metadata": {},
     "output_type": "execute_result"
    }
   ],
   "source": [
    "sympy.diff(x**(3/2) + pi * x**2 + 7**(1/2), x)"
   ]
  },
  {
   "cell_type": "code",
   "execution_count": 48,
   "id": "5131e77f-a36c-41fb-95a4-2fdf3a3682cc",
   "metadata": {},
   "outputs": [
    {
     "data": {
      "text/latex": [
       "$\\displaystyle - x^{3} e^{x} \\sin{\\left(x \\right)} + x^{3} e^{x} \\cos{\\left(x \\right)} + 3 x^{2} e^{x} \\cos{\\left(x \\right)}$"
      ],
      "text/plain": [
       "-x**3*exp(x)*sin(x) + x**3*exp(x)*cos(x) + 3*x**2*exp(x)*cos(x)"
      ]
     },
     "execution_count": 48,
     "metadata": {},
     "output_type": "execute_result"
    }
   ],
   "source": [
    "sympy.diff(x**3*cos(x)*exp(x), x)"
   ]
  },
  {
   "cell_type": "code",
   "execution_count": 49,
   "id": "548600b7-630f-4ea1-9c94-bff86bb5807c",
   "metadata": {},
   "outputs": [
    {
     "data": {
      "text/latex": [
       "$\\displaystyle \\left(2 x + 2\\right) e^{\\left(x + 1\\right)^{2}}$"
      ],
      "text/plain": [
       "(2*x + 2)*exp((x + 1)**2)"
      ]
     },
     "execution_count": 49,
     "metadata": {},
     "output_type": "execute_result"
    }
   ],
   "source": [
    "sympy.diff(exp((x+1)**2), x)"
   ]
  },
  {
   "cell_type": "code",
   "execution_count": 50,
   "id": "ccb6d625-d86d-4d95-8caf-3fa44bc72010",
   "metadata": {},
   "outputs": [
    {
     "data": {
      "text/latex": [
       "$\\displaystyle - 3 x^{4} \\sin{\\left(x^{3} \\right)} + 2 x \\cos{\\left(x^{3} \\right)}$"
      ],
      "text/plain": [
       "-3*x**4*sin(x**3) + 2*x*cos(x**3)"
      ]
     },
     "execution_count": 50,
     "metadata": {},
     "output_type": "execute_result"
    }
   ],
   "source": [
    "sympy.diff(x**2*cos(x**3), x)"
   ]
  },
  {
   "cell_type": "code",
   "execution_count": 80,
   "id": "93beb033-3e16-432d-9d86-b11bf2fd2c90",
   "metadata": {},
   "outputs": [
    {
     "data": {
      "text/latex": [
       "$\\displaystyle - e^{\\cos{\\left(x \\right)}} \\sin^{2}{\\left(x \\right)} + e^{\\cos{\\left(x \\right)}} \\cos{\\left(x \\right)}$"
      ],
      "text/plain": [
       "-exp(cos(x))*sin(x)**2 + exp(cos(x))*cos(x)"
      ]
     },
     "execution_count": 80,
     "metadata": {},
     "output_type": "execute_result"
    }
   ],
   "source": [
    "ex=sympy.diff(sin(x)*exp(cos(x)), x)\n",
    "ex"
   ]
  },
  {
   "cell_type": "code",
   "execution_count": 83,
   "id": "52126629-7443-4b1e-a3f0-090737364d82",
   "metadata": {},
   "outputs": [
    {
     "data": {
      "text/latex": [
       "$\\displaystyle - \\frac{1}{e}$"
      ],
      "text/plain": [
       "-exp(-1)"
      ]
     },
     "execution_count": 83,
     "metadata": {},
     "output_type": "execute_result"
    }
   ],
   "source": [
    "-exp(-1)*0 + exp(-1)*(-1)"
   ]
  },
  {
   "cell_type": "code",
   "execution_count": 1,
   "id": "a499c756-a38b-4caf-a83d-75735b8b1404",
   "metadata": {},
   "outputs": [
    {
     "data": {
      "text/latex": [
       "$\\displaystyle - b + \\left(b + 1\\right)^{2} - 2$"
      ],
      "text/plain": [
       "-b + (b + 1)**2 - 2"
      ]
     },
     "execution_count": 1,
     "metadata": {},
     "output_type": "execute_result"
    }
   ],
   "source": [
    "from sympy import *\n",
    "a = symbols('a')\n",
    "expression = a**2 - a - 1\n",
    "# Define the symbol b\n",
    "b = symbols('b')\n",
    "# Use subs specifying to replace a with b + 1\n",
    "expression.subs(a, b + 1)"
   ]
  },
  {
   "cell_type": "code",
   "execution_count": 21,
   "id": "b1ffddfa-3fce-401a-9f57-0963d0eb567b",
   "metadata": {},
   "outputs": [
    {
     "data": {
      "image/png": "[encoded data removed]",
      "text/plain": [
       "<Figure size 640x480 with 1 Axes>"
      ]
     },
     "metadata": {},
     "output_type": "display_data"
    },
    {
     "data": {
      "text/plain": [
       "<sympy.plotting.plot.Plot at 0x7f22fff35580>"
      ]
     },
     "execution_count": 21,
     "metadata": {},
     "output_type": "execute_result"
    }
   ],
   "source": [
    "a = symbols('a')\n",
    "plot(-4/5*a+7)"
   ]
  },
  {
   "cell_type": "code",
   "execution_count": 26,
   "id": "6340bd59-3594-4347-858e-7d9c11fd07c0",
   "metadata": {},
   "outputs": [
    {
     "data": {
      "text/plain": [
       "matrix([[ 0.,  0.,  0.],\n",
       "        [ 1.,  0., -1.],\n",
       "        [ 1.,  1.,  0.],\n",
       "        [ 0.,  0.,  1.]])"
      ]
     },
     "execution_count": 26,
     "metadata": {},
     "output_type": "execute_result"
    }
   ],
   "source": [
    "from numpy import matrix , concatenate , zeros , bmat , r_ , dot\n",
    "A = matrix ( [[1 ,0, -1], [1, 1 ,0], [0 ,0 ,1]] )\n",
    "M = concatenate (( zeros ((1 ,3) ) ,A ) )\n",
    "M"
   ]
  },
  {
   "cell_type": "code",
   "execution_count": 27,
   "id": "323ca632-95c1-4612-bf3f-0d5d9cf5cad5",
   "metadata": {},
   "outputs": [
    {
     "data": {
      "text/plain": [
       "matrix([[ 1.,  0.,  0.,  0.],\n",
       "        [ 1.,  1.,  0., -1.],\n",
       "        [ 1.,  1.,  1.,  0.],\n",
       "        [ 0.,  0.,  0.,  1.]])"
      ]
     },
     "execution_count": 27,
     "metadata": {},
     "output_type": "execute_result"
    }
   ],
   "source": [
    "a = concatenate (( bmat ( r_ [1 ,1 ,1 ,0]) .T , M ) ,1)\n",
    "a"
   ]
  },
  {
   "cell_type": "code",
   "execution_count": 29,
   "id": "16cc086c-6b09-4f6d-b6cd-f7909700324a",
   "metadata": {},
   "outputs": [
    {
     "data": {
      "text/plain": [
       "matrix([[1, 2],\n",
       "        [3, 4]])"
      ]
     },
     "execution_count": 29,
     "metadata": {},
     "output_type": "execute_result"
    }
   ],
   "source": [
    "a = matrix('1 2; 3 4')\n",
    "a"
   ]
  },
  {
   "cell_type": "code",
   "execution_count": 32,
   "id": "b3919c17-4ba2-4e65-9f82-e0ee3052c654",
   "metadata": {},
   "outputs": [
    {
     "data": {
      "text/plain": [
       "numpy.matrix"
      ]
     },
     "execution_count": 32,
     "metadata": {},
     "output_type": "execute_result"
    }
   ],
   "source": [
    "a"
   ]
  },
  {
   "cell_type": "code",
   "execution_count": 2,
   "id": "9b4426f0-dd6e-4c86-b4ae-603fbb2939c6",
   "metadata": {},
   "outputs": [],
   "source": [
    "from sympy import symbols, diff, exp\n",
    "from sympy.plotting import plot \n",
    "from sympy.abc import sigma"
   ]
  },
  {
   "cell_type": "code",
   "execution_count": 5,
   "id": "040ab622-07f5-4a68-98bb-179695bbfb9e",
   "metadata": {},
   "outputs": [],
   "source": [
    "x = symbols(\"x\")"
   ]
  },
  {
   "cell_type": "code",
   "execution_count": 6,
   "id": "9f3f60f0-75fb-41ea-9113-81c6d7e6ebbd",
   "metadata": {},
   "outputs": [
    {
     "data": {
      "text/latex": [
       "$\\displaystyle \\frac{1}{1 + e^{- x}}$"
      ],
      "text/plain": [
       "1/(1 + exp(-x))"
      ]
     },
     "execution_count": 6,
     "metadata": {},
     "output_type": "execute_result"
    }
   ],
   "source": [
    "sig = 1 / (1+exp(-x))\n",
    "sig"
   ]
  },
  {
   "cell_type": "code",
   "execution_count": 7,
   "id": "d9800785-9f51-4f04-b335-0cfae9a5a692",
   "metadata": {},
   "outputs": [
    {
     "data": {
      "text/latex": [
       "$\\displaystyle \\frac{e^{- x}}{\\left(1 + e^{- x}\\right)^{2}}$"
      ],
      "text/plain": [
       "exp(-x)/(1 + exp(-x))**2"
      ]
     },
     "execution_count": 7,
     "metadata": {},
     "output_type": "execute_result"
    }
   ],
   "source": [
    "dev_sig = diff(sig,x)\n",
    "dev_sig"
   ]
  },
  {
   "cell_type": "code",
   "execution_count": 8,
   "id": "3c171c38-4753-447a-89ef-aee25cf5e053",
   "metadata": {},
   "outputs": [
    {
     "data": {
      "image/png": "[encoded data removed]",
      "text/plain": [
       "<Figure size 640x480 with 1 Axes>"
      ]
     },
     "metadata": {},
     "output_type": "display_data"
    },
    {
     "data": {
      "text/plain": [
       "<sympy.plotting.plot.Plot at 0x7fca54c37a00>"
      ]
     },
     "execution_count": 8,
     "metadata": {},
     "output_type": "execute_result"
    }
   ],
   "source": [
    "plot(sig, dev_sig, (x,-5,5))"
   ]
  },
  {
   "cell_type": "code",
   "execution_count": null,
   "id": "64ebbe16-0ae4-4b0c-8ef2-964ea18e65b4",
   "metadata": {},
   "outputs": [],
   "source": []
  }
 ],
 "metadata": {
  "kernelspec": {
   "display_name": "anaconda",
   "language": "python",
   "name": "anaconda"
  },
  "language_info": {
   "codemirror_mode": {
    "name": "ipython",
    "version": 3
   },
   "file_extension": ".py",
   "mimetype": "text/x-python",
   "name": "python",
   "nbconvert_exporter": "python",
   "pygments_lexer": "ipython3",
   "version": "3.9.13"
  }
 },
 "nbformat": 4,
 "nbformat_minor": 5
}
