{
 "cells": [
  {
   "cell_type": "code",
   "execution_count": 2,
   "id": "c7fc3972-b813-4983-b21a-fffc5ac26db5",
   "metadata": {},
   "outputs": [],
   "source": [
    "import numpy as np\n",
    "from sympy import symbols, diff, Rational, Matrix, sin, cos, exp"
   ]
  },
  {
   "cell_type": "code",
   "execution_count": 3,
   "id": "e2139425-e91b-4cac-a892-3bee48493204",
   "metadata": {},
   "outputs": [],
   "source": [
    "def linfit(xdat,ydat):\n",
    "    # Here xbar and ybar are calculated\n",
    "    xbar = np.sum(xdat)/len(xdat)\n",
    "    ybar = np.sum(ydat)/len(ydat)\n",
    "\n",
    "    # Insert calculation of m and c below\n",
    "    x_numerador = np.sum((xdat-xbar)*ydat)\n",
    "    x_denominador = np.sum((xdat-xbar)**2)\n",
    "    m = x_numerador/x_denominador\n",
    "    c = ybar - (m * xbar)\n",
    "\n",
    "    # Return your values as [m, c]\n",
    "    return [m, c]"
   ]
  },
  {
   "cell_type": "code",
   "execution_count": 4,
   "id": "092510e2-701f-47c8-8fc4-603d235f4fc2",
   "metadata": {},
   "outputs": [],
   "source": [
    "x = [0.4,0.5,0.6,0.7,0.8]\n",
    "y = [0.1,0.25,0.55,0.75,0.85]"
   ]
  },
  {
   "cell_type": "code",
   "execution_count": 5,
   "id": "029313ed-d662-4fc3-952d-8bca08753178",
   "metadata": {},
   "outputs": [
    {
     "name": "stdout",
     "output_type": "stream",
     "text": [
      "[0.4, 0.5, 0.6, 0.7, 0.8]\n",
      "[0.1, 0.25, 0.55, 0.75, 0.85]\n"
     ]
    },
    {
     "data": {
      "text/plain": [
       "[2.0000000000000004, -0.7000000000000002]"
      ]
     },
     "execution_count": 5,
     "metadata": {},
     "output_type": "execute_result"
    }
   ],
   "source": [
    "linfit(x,y)"
   ]
  },
  {
   "cell_type": "code",
   "execution_count": 8,
   "id": "aa63f6d2-8b69-4645-a8e0-15dec733fabc",
   "metadata": {},
   "outputs": [],
   "source": [
    "xdat = [ \n",
    "  0.02395765 , 0.06808123 , 0.21722775 ,-0.04796282 , 0.16461666 , 0.1388313,  \n",
    "  0.08261111 , 0.13476152 , 0.11026718 , 0.176696   , 0.21739124 , 0.22877168,\n",
    "  0.32218321 , 0.23227416 , 0.14911559 , 0.28695319 , 0.24678356 , 0.26253269,\n",
    "  0.30737434 , 0.54491455 , 0.44909913 , 0.36103866 , 0.50073513 , 0.35918063,\n",
    "  0.56951526 , 0.53468091 , 0.56150223 , 0.59868779 , 0.55737929 , 0.65668743,\n",
    "  0.68594609 , 0.57205939 , 0.63527804 , 0.67528505 , 0.70652391 , 0.54844315,\n",
    "  0.63962557 , 0.70851607 , 0.66831118 , 0.7186274  , 0.89036376 , 0.87030616,\n",
    "  0.91641088 , 0.86937423 , 0.95455174 , 0.85999217 , 0.91869832 , 1.03048122,\n",
    "  0.89883689 , 1.03903082]\n",
    "ydat =[ 0.33207337 , 0.07868804 , 0.15469029 , 0.25106783 , 0.31322821 , 0.31740059,\n",
    "  0.27172954 , 0.21215777,  0.3051428 ,  0.43300694,  0.38937854,  0.4348776 ,  \n",
    "    0.3972679  , 0.3076569 ,  0.37727347,  0.37216793,  0.3151803 ,  0.30844131,\n",
    "  0.41594053 , 0.44893207,  0.40822669,  0.49887428,  0.3298499 ,  0.50653249,\n",
    "  0.5577728  , 0.52321499,  0.59553422,  0.54304812,  0.6254593 ,  0.49081594,\n",
    "  0.62438597 , 0.55861212,  0.82625079,  0.56604283,  0.57904635,  0.52261561,\n",
    "  0.55158241 , 0.71946197,  0.62371108,  0.67234455,  0.53908114,  0.5210488\n",
    ",  0.67476783 , 0.62396921,  0.75047998,  0.84313307,  0.70782673,  0.75746617,\n",
    "  0.80342992 , 0.74843965]"
   ]
  },
  {
   "cell_type": "code",
   "execution_count": null,
   "id": "dfd864a0-b1dc-4989-9471-7a76c27555a5",
   "metadata": {},
   "outputs": [],
   "source": []
  },
  {
   "cell_type": "code",
   "execution_count": null,
   "id": "9b1b82a3-7069-499f-880e-af56257615d3",
   "metadata": {},
   "outputs": [],
   "source": []
  },
  {
   "cell_type": "code",
   "execution_count": null,
   "id": "fca4b2a7-cc39-4921-a68c-04094b5ef6b4",
   "metadata": {},
   "outputs": [],
   "source": [
    "from scipy import stats"
   ]
  },
  {
   "cell_type": "code",
   "execution_count": null,
   "id": "a4bec724-3b82-4795-9fe0-2b42f06986b7",
   "metadata": {},
   "outputs": [],
   "source": [
    "# Use the stats.linregress() method to evaluate regression\n",
    "regression = stats.linregress()\n",
    "\n",
    "line(regression)"
   ]
  }
 ],
 "metadata": {
  "kernelspec": {
   "display_name": "anaconda",
   "language": "python",
   "name": "anaconda"
  },
  "language_info": {
   "codemirror_mode": {
    "name": "ipython",
    "version": 3
   },
   "file_extension": ".py",
   "mimetype": "text/x-python",
   "name": "python",
   "nbconvert_exporter": "python",
   "pygments_lexer": "ipython3",
   "version": "3.9.13"
  }
 },
 "nbformat": 4,
 "nbformat_minor": 5
}
