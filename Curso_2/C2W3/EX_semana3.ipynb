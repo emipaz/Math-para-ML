{
 "cells": [
  {
   "cell_type": "markdown",
   "id": "7d0743b9-0c53-4fba-a83d-78c3ca890f1b",
   "metadata": {},
   "source": [
    "En este cuestionario practicarás el cálculo de la regla de la cadena multivariante para varias funciones. \n",
    "\n",
    "\n",
    "Para las siguientes funciones, calcula la expresión $\\frac{df}{dt} = \\frac{\\partial f}{\\partial \\mathbf{x}} \\frac{d\\mathbf{x}}{dt}$\n",
    " en forma de matriz, donde\n",
    " \n",
    "- $\\mathbf{x} = (x_1, x_2)$  \n",
    "\n",
    "- $f(\\mathbf{x}) = f(x_1, x_2) =x_1^2x_2^2 + x_1x_2$\n",
    "\n",
    "- $ x_{1}(t)=1-t^{2} $ \n",
    "- $ x_{2}(t)=1+t^{2} $ "
   ]
  },
  {
   "cell_type": "code",
   "execution_count": 33,
   "id": "5e5bdd73-363e-4b21-b94c-6d502c4161ca",
   "metadata": {},
   "outputs": [],
   "source": [
    "from sympy import symbols, sin, cos, exp, pi, diff , sqrt\n",
    "from sympy import Rational\n",
    "from sympy.matrices import Matrix"
   ]
  },
  {
   "cell_type": "code",
   "execution_count": 34,
   "id": "7d142d94-bf21-4984-aec2-95d07f96c7c5",
   "metadata": {},
   "outputs": [],
   "source": [
    "x,t ,x1,x2= symbols(\"x,t,x1,x2\")"
   ]
  },
  {
   "cell_type": "code",
   "execution_count": 28,
   "id": "fed1a8f0-f232-4e44-b64f-1140a9d32a46",
   "metadata": {},
   "outputs": [
    {
     "data": {
      "text/latex": [
       "$\\displaystyle x_{1}$"
      ],
      "text/plain": [
       "x1"
      ]
     },
     "execution_count": 28,
     "metadata": {},
     "output_type": "execute_result"
    }
   ],
   "source": [
    "x1"
   ]
  },
  {
   "cell_type": "code",
   "execution_count": 35,
   "id": "ae55713e-eb7d-4eb5-8230-73714f08132a",
   "metadata": {},
   "outputs": [
    {
     "data": {
      "text/latex": [
       "$\\displaystyle x_{1}^{2} x_{2}^{2} + x_{1} x_{2}$"
      ],
      "text/plain": [
       "x1**2*x2**2 + x1*x2"
      ]
     },
     "execution_count": 35,
     "metadata": {},
     "output_type": "execute_result"
    }
   ],
   "source": [
    "fx = x1**2*x2**2+x1*x2\n",
    "fx"
   ]
  },
  {
   "cell_type": "code",
   "execution_count": 36,
   "id": "cf1c8f18-91c3-4989-8b4d-f31dfcd58f50",
   "metadata": {},
   "outputs": [
    {
     "data": {
      "text/latex": [
       "$\\displaystyle 2 x_{1} x_{2}^{2} + x_{2}$"
      ],
      "text/plain": [
       "2*x1*x2**2 + x2"
      ]
     },
     "execution_count": 36,
     "metadata": {},
     "output_type": "execute_result"
    }
   ],
   "source": [
    "diff(fx,x1)"
   ]
  },
  {
   "cell_type": "code",
   "execution_count": 38,
   "id": "ac85ee72-99a7-4db5-a585-bef21e772be4",
   "metadata": {},
   "outputs": [
    {
     "data": {
      "text/latex": [
       "$\\displaystyle \\left[\\begin{matrix}2 x_{1} x_{2}^{2} + x_{2} & 2 x_{1}^{2} x_{2} + x_{1}\\end{matrix}\\right]$"
      ],
      "text/plain": [
       "Matrix([[2*x1*x2**2 + x2, 2*x1**2*x2 + x1]])"
      ]
     },
     "execution_count": 38,
     "metadata": {},
     "output_type": "execute_result"
    }
   ],
   "source": [
    "df_X = Matrix([[diff(fx,x1),\n",
    "                diff(fx,x2)\n",
    "               ]])\n",
    "df_X"
   ]
  },
  {
   "cell_type": "code",
   "execution_count": 39,
   "id": "83365a25-45cb-4e7b-a767-18bbe93699b6",
   "metadata": {},
   "outputs": [
    {
     "data": {
      "text/latex": [
       "$\\displaystyle 1 - t^{2}$"
      ],
      "text/plain": [
       "1 - t**2"
      ]
     },
     "metadata": {},
     "output_type": "display_data"
    },
    {
     "data": {
      "text/latex": [
       "$\\displaystyle t^{2} + 1$"
      ],
      "text/plain": [
       "t**2 + 1"
      ]
     },
     "metadata": {},
     "output_type": "display_data"
    }
   ],
   "source": [
    "x1 = 1 - t**2\n",
    "x2 = 1 + t**2 \n",
    "display(x1)\n",
    "display(x2)"
   ]
  },
  {
   "cell_type": "code",
   "execution_count": 40,
   "id": "f791bddf-f994-4a57-9d64-924b5a4770ee",
   "metadata": {},
   "outputs": [
    {
     "data": {
      "text/latex": [
       "$\\displaystyle \\left[\\begin{matrix}- 2 t\\\\2 t\\end{matrix}\\right]$"
      ],
      "text/plain": [
       "Matrix([\n",
       "[-2*t],\n",
       "[ 2*t]])"
      ]
     },
     "execution_count": 40,
     "metadata": {},
     "output_type": "execute_result"
    }
   ],
   "source": [
    "dX_t = Matrix([[diff(x1,t)],[diff(x2,t)]])\n",
    "dX_t"
   ]
  },
  {
   "cell_type": "code",
   "execution_count": 43,
   "id": "3aec18fb-afcc-41eb-aa9c-e7a342fafee5",
   "metadata": {},
   "outputs": [
    {
     "data": {
      "text/latex": [
       "$\\displaystyle - 2 t \\left(2 x_{1} x_{2}^{2} + x_{2}\\right) + 2 t \\left(2 x_{1}^{2} x_{2} + x_{1}\\right)$"
      ],
      "text/plain": [
       "-2*t*(2*x1*x2**2 + x2) + 2*t*(2*x1**2*x2 + x1)"
      ]
     },
     "execution_count": 43,
     "metadata": {},
     "output_type": "execute_result"
    }
   ],
   "source": [
    "df_X.dot(dX_t) "
   ]
  },
  {
   "cell_type": "code",
   "execution_count": 41,
   "id": "4acf4315-e4d5-489a-b39c-dab4a3f01f63",
   "metadata": {},
   "outputs": [
    {
     "data": {
      "text/latex": [
       "$\\displaystyle \\left[\\begin{matrix}- 2 t \\left(2 x_{1} x_{2}^{2} + x_{2}\\right) + 2 t \\left(2 x_{1}^{2} x_{2} + x_{1}\\right)\\end{matrix}\\right]$"
      ],
      "text/plain": [
       "Matrix([[-2*t*(2*x1*x2**2 + x2) + 2*t*(2*x1**2*x2 + x1)]])"
      ]
     },
     "execution_count": 41,
     "metadata": {},
     "output_type": "execute_result"
    }
   ],
   "source": [
    "df_X * dX_t"
   ]
  },
  {
   "cell_type": "code",
   "execution_count": null,
   "id": "54bd48f9-2e95-4cad-9df1-cf612b3a6ab8",
   "metadata": {},
   "outputs": [],
   "source": []
  },
  {
   "cell_type": "code",
   "execution_count": 44,
   "id": "185ecb06-7add-45c5-a278-190fd67fbadf",
   "metadata": {},
   "outputs": [],
   "source": [
    "t,x1,x2,x3= symbols(\"t,x1,x2,x3\")"
   ]
  },
  {
   "cell_type": "code",
   "execution_count": 46,
   "id": "2c131442-dbbf-43fe-9e67-ed543c74d224",
   "metadata": {},
   "outputs": [
    {
     "data": {
      "text/latex": [
       "$\\displaystyle x_{1}^{3} e^{x_{3}} \\cos{\\left(x_{2} \\right)}$"
      ],
      "text/plain": [
       "x1**3*exp(x3)*cos(x2)"
      ]
     },
     "execution_count": 46,
     "metadata": {},
     "output_type": "execute_result"
    }
   ],
   "source": [
    "f_X = x1**3*cos(x2)*exp(x3)\n",
    "f_X"
   ]
  },
  {
   "cell_type": "code",
   "execution_count": 64,
   "id": "b049e750-89a4-438b-9ffb-04448103425d",
   "metadata": {},
   "outputs": [
    {
     "data": {
      "text/latex": [
       "$\\displaystyle \\left[\\begin{matrix}3 x_{1}^{2} e^{x_{3}} \\cos{\\left(x_{2} \\right)} & - x_{1}^{3} e^{x_{3}} \\sin{\\left(x_{2} \\right)} & x_{1}^{3} e^{x_{3}} \\cos{\\left(x_{2} \\right)}\\end{matrix}\\right]$"
      ],
      "text/plain": [
       "Matrix([[3*x1**2*exp(x3)*cos(x2), -x1**3*exp(x3)*sin(x2), x1**3*exp(x3)*cos(x2)]])"
      ]
     },
     "execution_count": 64,
     "metadata": {},
     "output_type": "execute_result"
    }
   ],
   "source": [
    "dF_dX = Matrix([[diff(f_X,x1),diff(f_X,x2),diff(f_X,x3)]])\n",
    "dF_dX"
   ]
  },
  {
   "cell_type": "code",
   "execution_count": 66,
   "id": "c18f6f2e-5727-40f2-b1df-f8c1f3c3deaa",
   "metadata": {},
   "outputs": [
    {
     "data": {
      "text/latex": [
       "$\\displaystyle 2 t$"
      ],
      "text/plain": [
       "2*t"
      ]
     },
     "metadata": {},
     "output_type": "display_data"
    },
    {
     "data": {
      "text/latex": [
       "$\\displaystyle 1 - t^{2}$"
      ],
      "text/plain": [
       "1 - t**2"
      ]
     },
     "metadata": {},
     "output_type": "display_data"
    },
    {
     "data": {
      "text/latex": [
       "$\\displaystyle e^{t}$"
      ],
      "text/plain": [
       "exp(t)"
      ]
     },
     "metadata": {},
     "output_type": "display_data"
    }
   ],
   "source": [
    "x1 = 2*t\n",
    "x2 = 1- t**2\n",
    "x3 = exp(t)\n",
    "display(x1)\n",
    "display(x2)\n",
    "display(x3)"
   ]
  },
  {
   "cell_type": "code",
   "execution_count": 67,
   "id": "8e61bf32-757f-43ca-bd62-057be9943302",
   "metadata": {},
   "outputs": [
    {
     "data": {
      "text/latex": [
       "$\\displaystyle \\left[\\begin{matrix}2\\\\- 2 t\\\\e^{t}\\end{matrix}\\right]$"
      ],
      "text/plain": [
       "Matrix([\n",
       "[     2],\n",
       "[  -2*t],\n",
       "[exp(t)]])"
      ]
     },
     "execution_count": 67,
     "metadata": {},
     "output_type": "execute_result"
    }
   ],
   "source": [
    "dX_dt = Matrix([[diff(x1,t)],[diff(x2,t)],[diff(x3,t)]])\n",
    "dX_dt"
   ]
  },
  {
   "cell_type": "code",
   "execution_count": null,
   "id": "ed66bba5-a0f0-46fd-b5c3-d0db88fb7b0d",
   "metadata": {},
   "outputs": [],
   "source": []
  },
  {
   "cell_type": "code",
   "execution_count": 93,
   "id": "c859a1b1-fba4-4192-89fe-00949227ea3b",
   "metadata": {},
   "outputs": [],
   "source": [
    "t,x1,x2,u1,u2= symbols(\"t,x1,x2,u1,u2\")"
   ]
  },
  {
   "cell_type": "code",
   "execution_count": 94,
   "id": "4f4a797f-15d5-4872-b37c-4f484c661f2b",
   "metadata": {},
   "outputs": [
    {
     "data": {
      "text/latex": [
       "$\\displaystyle x_{1}^{2} - x_{2}^{2}$"
      ],
      "text/plain": [
       "x1**2 - x2**2"
      ]
     },
     "execution_count": 94,
     "metadata": {},
     "output_type": "execute_result"
    }
   ],
   "source": [
    "f_X = x1**2 - x2**2\n",
    "f_X"
   ]
  },
  {
   "cell_type": "code",
   "execution_count": 95,
   "id": "5bbd9c86-0cc0-45ec-957d-ef13c46addc4",
   "metadata": {},
   "outputs": [
    {
     "data": {
      "text/latex": [
       "$\\displaystyle \\left[\\begin{matrix}2 x_{1} & - 2 x_{2}\\end{matrix}\\right]$"
      ],
      "text/plain": [
       "Matrix([[2*x1, -2*x2]])"
      ]
     },
     "execution_count": 95,
     "metadata": {},
     "output_type": "execute_result"
    }
   ],
   "source": [
    "df_dX = Matrix([[diff(f_X,x1),diff(f_X,x2)]])\n",
    "df_dX"
   ]
  },
  {
   "cell_type": "code",
   "execution_count": 96,
   "id": "1a94eaf2-89d9-453b-865f-922b7b1b2a2a",
   "metadata": {},
   "outputs": [],
   "source": [
    "x1 = 2*u1 + 3*u2\n",
    "x2 = 2*u1 - 3*u2"
   ]
  },
  {
   "cell_type": "code",
   "execution_count": 97,
   "id": "3c776b42-73a7-48b1-90e1-071b67c6f60f",
   "metadata": {},
   "outputs": [
    {
     "data": {
      "text/latex": [
       "$\\displaystyle 2 u_{1} + 3 u_{2}$"
      ],
      "text/plain": [
       "2*u1 + 3*u2"
      ]
     },
     "execution_count": 97,
     "metadata": {},
     "output_type": "execute_result"
    }
   ],
   "source": [
    "x1"
   ]
  },
  {
   "cell_type": "code",
   "execution_count": 98,
   "id": "f90ee29c-448f-400d-80cb-5e72f7cae92a",
   "metadata": {},
   "outputs": [
    {
     "data": {
      "text/latex": [
       "$\\displaystyle 2 u_{1} - 3 u_{2}$"
      ],
      "text/plain": [
       "2*u1 - 3*u2"
      ]
     },
     "execution_count": 98,
     "metadata": {},
     "output_type": "execute_result"
    }
   ],
   "source": [
    "x2"
   ]
  },
  {
   "cell_type": "code",
   "execution_count": 99,
   "id": "3f4e8afd-4f50-4f01-9e72-aa809c24d250",
   "metadata": {},
   "outputs": [
    {
     "data": {
      "text/latex": [
       "$\\displaystyle \\left[\\begin{matrix}2 & 3\\\\2 & -3\\end{matrix}\\right]$"
      ],
      "text/plain": [
       "Matrix([\n",
       "[2,  3],\n",
       "[2, -3]])"
      ]
     },
     "execution_count": 99,
     "metadata": {},
     "output_type": "execute_result"
    }
   ],
   "source": [
    "dX_dU = Matrix([[diff(x1,u1),diff(x1,u2)],\n",
    "                [diff(x2,u1),diff(x2,u2)]])\n",
    "dX_dU"
   ]
  },
  {
   "cell_type": "code",
   "execution_count": 100,
   "id": "59972ae1-d8de-4e22-85a7-cd4578a8c714",
   "metadata": {},
   "outputs": [
    {
     "data": {
      "text/latex": [
       "$\\displaystyle \\cos{\\left(\\frac{t}{2} \\right)}$"
      ],
      "text/plain": [
       "cos(t/2)"
      ]
     },
     "execution_count": 100,
     "metadata": {},
     "output_type": "execute_result"
    }
   ],
   "source": [
    "u1 = cos(Rational(1,2)*t)\n",
    "u1"
   ]
  },
  {
   "cell_type": "code",
   "execution_count": 101,
   "id": "28fe6250-f8bd-44f5-aa06-407bf953a89d",
   "metadata": {},
   "outputs": [
    {
     "data": {
      "text/latex": [
       "$\\displaystyle \\sin{\\left(2 t \\right)}$"
      ],
      "text/plain": [
       "sin(2*t)"
      ]
     },
     "execution_count": 101,
     "metadata": {},
     "output_type": "execute_result"
    }
   ],
   "source": [
    "u2 = sin(2*t)\n",
    "u2"
   ]
  },
  {
   "cell_type": "code",
   "execution_count": 102,
   "id": "a09007d2-9927-4c6c-b029-beb3e85d7783",
   "metadata": {},
   "outputs": [
    {
     "data": {
      "text/latex": [
       "$\\displaystyle \\left[\\begin{matrix}- \\frac{\\sin{\\left(\\frac{t}{2} \\right)}}{2}\\\\2 \\cos{\\left(2 t \\right)}\\end{matrix}\\right]$"
      ],
      "text/plain": [
       "Matrix([\n",
       "[-sin(t/2)/2],\n",
       "[ 2*cos(2*t)]])"
      ]
     },
     "execution_count": 102,
     "metadata": {},
     "output_type": "execute_result"
    }
   ],
   "source": [
    "dU_dt = Matrix([[diff(u1,t)],[diff(u2,t)]])\n",
    "dU_dt"
   ]
  },
  {
   "cell_type": "code",
   "execution_count": null,
   "id": "98f84186-84e7-4219-8396-46da702fe79d",
   "metadata": {},
   "outputs": [],
   "source": []
  },
  {
   "cell_type": "code",
   "execution_count": 107,
   "id": "d48702d1-f711-48e1-8ad4-41b96071a038",
   "metadata": {},
   "outputs": [],
   "source": [
    "x1,x2,x3,u1,u2 = symbols(\"x1,x2,x3,u1,u2\")"
   ]
  },
  {
   "cell_type": "code",
   "execution_count": 108,
   "id": "23ac2011-2f9c-4467-978e-ca8b72034a73",
   "metadata": {},
   "outputs": [
    {
     "data": {
      "text/latex": [
       "$\\displaystyle e^{x_{3}} \\sin{\\left(x_{1} \\right)} \\cos{\\left(x_{2} \\right)}$"
      ],
      "text/plain": [
       "exp(x3)*sin(x1)*cos(x2)"
      ]
     },
     "execution_count": 108,
     "metadata": {},
     "output_type": "execute_result"
    }
   ],
   "source": [
    "f_x = sin(x1)*cos(x2)*exp(x3)\n",
    "f_x"
   ]
  },
  {
   "cell_type": "code",
   "execution_count": 110,
   "id": "bcf0287e-9e1f-4469-9331-6ccfd18183b4",
   "metadata": {},
   "outputs": [
    {
     "data": {
      "text/latex": [
       "$\\displaystyle \\left[\\begin{matrix}e^{x_{3}} \\cos{\\left(x_{1} \\right)} \\cos{\\left(x_{2} \\right)} & - e^{x_{3}} \\sin{\\left(x_{1} \\right)} \\sin{\\left(x_{2} \\right)} & e^{x_{3}} \\sin{\\left(x_{1} \\right)} \\cos{\\left(x_{2} \\right)}\\end{matrix}\\right]$"
      ],
      "text/plain": [
       "Matrix([[exp(x3)*cos(x1)*cos(x2), -exp(x3)*sin(x1)*sin(x2), exp(x3)*sin(x1)*cos(x2)]])"
      ]
     },
     "execution_count": 110,
     "metadata": {},
     "output_type": "execute_result"
    }
   ],
   "source": [
    "dF_dX = Matrix([[diff(f_x,x1),diff(f_x,x2),diff(f_x,x3)]])\n",
    "dF_dX"
   ]
  },
  {
   "cell_type": "code",
   "execution_count": 112,
   "id": "fb93f8f9-5978-4dac-bffb-2b987362f2cb",
   "metadata": {},
   "outputs": [
    {
     "data": {
      "text/latex": [
       "$\\displaystyle \\sin{\\left(u_{1} \\right)} + \\cos{\\left(u_{2} \\right)}$"
      ],
      "text/plain": [
       "sin(u1) + cos(u2)"
      ]
     },
     "metadata": {},
     "output_type": "display_data"
    },
    {
     "data": {
      "text/latex": [
       "$\\displaystyle - \\sin{\\left(u_{2} \\right)} + \\cos{\\left(u_{1} \\right)}$"
      ],
      "text/plain": [
       "-sin(u2) + cos(u1)"
      ]
     },
     "metadata": {},
     "output_type": "display_data"
    },
    {
     "data": {
      "text/latex": [
       "$\\displaystyle e^{u_{1} + u_{2}}$"
      ],
      "text/plain": [
       "exp(u1 + u2)"
      ]
     },
     "metadata": {},
     "output_type": "display_data"
    }
   ],
   "source": [
    "x1 = sin(u1) + cos(u2)\n",
    "x2 = -sin(u2) + cos(u1)\n",
    "x3 = exp(u1+u2)\n",
    "display(x1)\n",
    "display(x2)\n",
    "display(x3)"
   ]
  },
  {
   "cell_type": "code",
   "execution_count": 114,
   "id": "dfc6c9a5-d921-470f-b569-83f63a3c541a",
   "metadata": {},
   "outputs": [
    {
     "data": {
      "text/latex": [
       "$\\displaystyle \\left[\\begin{matrix}\\cos{\\left(u_{1} \\right)} & - \\sin{\\left(u_{2} \\right)}\\\\- \\sin{\\left(u_{1} \\right)} & - \\cos{\\left(u_{2} \\right)}\\\\e^{u_{1} + u_{2}} & e^{u_{1} + u_{2}}\\end{matrix}\\right]$"
      ],
      "text/plain": [
       "Matrix([\n",
       "[     cos(u1),     -sin(u2)],\n",
       "[    -sin(u1),     -cos(u2)],\n",
       "[exp(u1 + u2), exp(u1 + u2)]])"
      ]
     },
     "execution_count": 114,
     "metadata": {},
     "output_type": "execute_result"
    }
   ],
   "source": [
    "dX_dU = Matrix([[diff(x1,u1),diff(x1,u2)],\n",
    "                [diff(x2,u1),diff(x2,u2)],\n",
    "                [diff(x3,u1),diff(x3,u2)]])\n",
    "dX_dU"
   ]
  },
  {
   "cell_type": "code",
   "execution_count": 115,
   "id": "ba0d9478-9cb1-4689-bbcd-8160e29d3af5",
   "metadata": {},
   "outputs": [
    {
     "data": {
      "text/latex": [
       "$\\displaystyle \\frac{t}{2} + 1$"
      ],
      "text/plain": [
       "t/2 + 1"
      ]
     },
     "metadata": {},
     "output_type": "display_data"
    },
    {
     "data": {
      "text/latex": [
       "$\\displaystyle 1 - \\frac{t}{2}$"
      ],
      "text/plain": [
       "1 - t/2"
      ]
     },
     "metadata": {},
     "output_type": "display_data"
    }
   ],
   "source": [
    "u1 = 1 + Rational(1,2)*t\n",
    "u2 = 1 - Rational(1,2)*t\n",
    "display(u1)\n",
    "display(u2)"
   ]
  },
  {
   "cell_type": "code",
   "execution_count": 116,
   "id": "3b654296-b5c1-4ccd-80af-fcfae97f98b9",
   "metadata": {},
   "outputs": [
    {
     "data": {
      "text/latex": [
       "$\\displaystyle \\left[\\begin{matrix}\\frac{1}{2}\\\\- \\frac{1}{2}\\end{matrix}\\right]$"
      ],
      "text/plain": [
       "Matrix([\n",
       "[ 1/2],\n",
       "[-1/2]])"
      ]
     },
     "execution_count": 116,
     "metadata": {},
     "output_type": "execute_result"
    }
   ],
   "source": [
    "dU_dt = Matrix([[diff(u1,t)],[diff(u2,t)]])\n",
    "dU_dt"
   ]
  },
  {
   "cell_type": "code",
   "execution_count": 120,
   "id": "f099029b-d75e-4f17-9623-708255a9233d",
   "metadata": {},
   "outputs": [],
   "source": [
    "x1,x2,x3,u1,u2,t = symbols(\"x1,x2,x3,u1,u2,t\")"
   ]
  },
  {
   "cell_type": "code",
   "execution_count": 121,
   "id": "a3063a64-2003-4a3f-84b7-fb6b2ebf1c3c",
   "metadata": {},
   "outputs": [
    {
     "data": {
      "text/latex": [
       "$\\displaystyle \\sin{\\left(x_{2} \\right)} \\cos{\\left(x_{1} \\right)}$"
      ],
      "text/plain": [
       "sin(x2)*cos(x1)"
      ]
     },
     "execution_count": 121,
     "metadata": {},
     "output_type": "execute_result"
    }
   ],
   "source": [
    "f_x = sin(x2)*cos(x1)\n",
    "f_x"
   ]
  },
  {
   "cell_type": "code",
   "execution_count": 124,
   "id": "4b183b62-2d69-4655-b584-44717ae2694b",
   "metadata": {},
   "outputs": [
    {
     "data": {
      "text/latex": [
       "$\\displaystyle 2 u_{1}^{2} + 3 u_{2}^{2} - u_{2}$"
      ],
      "text/plain": [
       "2*u1**2 + 3*u2**2 - u2"
      ]
     },
     "metadata": {},
     "output_type": "display_data"
    },
    {
     "data": {
      "text/latex": [
       "$\\displaystyle 2 u_{1} - 5 u_{2}^{3}$"
      ],
      "text/plain": [
       "2*u1 - 5*u2**3"
      ]
     },
     "metadata": {},
     "output_type": "display_data"
    }
   ],
   "source": [
    "x1 = u1**2*2 +  3 *u2**2 - u2\n",
    "x2 = 2*u1 - 5 *u2**3\n",
    "display(x1)\n",
    "display(x2)"
   ]
  },
  {
   "cell_type": "code",
   "execution_count": 125,
   "id": "ae785701-ea5f-4c1b-852c-f4e405968f63",
   "metadata": {},
   "outputs": [
    {
     "data": {
      "text/latex": [
       "$\\displaystyle \\left[\\begin{matrix}4 u_{1} & 6 u_{2} - 1\\\\2 & - 15 u_{2}^{2}\\end{matrix}\\right]$"
      ],
      "text/plain": [
       "Matrix([\n",
       "[4*u1,  6*u2 - 1],\n",
       "[   2, -15*u2**2]])"
      ]
     },
     "execution_count": 125,
     "metadata": {},
     "output_type": "execute_result"
    }
   ],
   "source": [
    "dX_dU = Matrix([[diff(x1,u1),diff(x1,u2)],\n",
    "                [diff(x2,u1),diff(x2,u2)],\n",
    "                ])\n",
    "dX_dU"
   ]
  },
  {
   "cell_type": "code",
   "execution_count": 128,
   "id": "903e6902-e267-4ace-a94d-f200027f5e2b",
   "metadata": {},
   "outputs": [
    {
     "data": {
      "text/latex": [
       "$\\displaystyle e^{\\frac{t}{2}}$"
      ],
      "text/plain": [
       "exp(t/2)"
      ]
     },
     "metadata": {},
     "output_type": "display_data"
    },
    {
     "data": {
      "text/latex": [
       "$\\displaystyle e^{- 2 t}$"
      ],
      "text/plain": [
       "exp(-2*t)"
      ]
     },
     "metadata": {},
     "output_type": "display_data"
    }
   ],
   "source": [
    "u1 = exp(Rational(1,2)*t)\n",
    "u2 = exp(-t*2)\n",
    "display(u1)\n",
    "display(u2)"
   ]
  },
  {
   "cell_type": "code",
   "execution_count": 129,
   "id": "5dde2966-6f7f-4b93-af61-6c4fdb572873",
   "metadata": {},
   "outputs": [
    {
     "data": {
      "text/latex": [
       "$\\displaystyle \\left[\\begin{matrix}\\frac{e^{\\frac{t}{2}}}{2}\\\\- 2 e^{- 2 t}\\end{matrix}\\right]$"
      ],
      "text/plain": [
       "Matrix([\n",
       "[  exp(t/2)/2],\n",
       "[-2*exp(-2*t)]])"
      ]
     },
     "execution_count": 129,
     "metadata": {},
     "output_type": "execute_result"
    }
   ],
   "source": [
    "dU_dt = Matrix([[diff(u1,t)],[diff(u2,t)]])\n",
    "dU_dt"
   ]
  },
  {
   "cell_type": "code",
   "execution_count": 130,
   "id": "2add4164-c076-4e97-bd5b-7e2b5a881354",
   "metadata": {},
   "outputs": [],
   "source": [
    "import numpy as np"
   ]
  },
  {
   "cell_type": "code",
   "execution_count": 132,
   "id": "02c8f184-7b60-4009-a10b-1b7806b898f9",
   "metadata": {},
   "outputs": [
    {
     "data": {
      "text/plain": [
       "array([[-2,  4, -1],\n",
       "       [ 6,  0, -3]])"
      ]
     },
     "execution_count": 132,
     "metadata": {},
     "output_type": "execute_result"
    }
   ],
   "source": [
    "w= np.array([[-2,4,-1],\n",
    "             [6,0,-3]])\n",
    "w"
   ]
  },
  {
   "cell_type": "code",
   "execution_count": 133,
   "id": "ec355861-384b-460f-9c85-bd46b4fbc946",
   "metadata": {},
   "outputs": [
    {
     "data": {
      "text/plain": [
       "array([[0.3],\n",
       "       [0.4],\n",
       "       [0.1]])"
      ]
     },
     "execution_count": 133,
     "metadata": {},
     "output_type": "execute_result"
    }
   ],
   "source": [
    "x=np.array([[0.3,.4,.1]]).T\n",
    "x"
   ]
  },
  {
   "cell_type": "code",
   "execution_count": 140,
   "id": "fd25e0b4-2416-4db9-b184-910a95e9b14e",
   "metadata": {},
   "outputs": [
    {
     "data": {
      "text/plain": [
       "array([[ 0.76159416],\n",
       "       [-0.76159416]])"
      ]
     },
     "execution_count": 140,
     "metadata": {},
     "output_type": "execute_result"
    }
   ],
   "source": [
    "np.tanh(w.dot(x) + np.array([[0.1],[-2.5]]))"
   ]
  },
  {
   "cell_type": "code",
   "execution_count": 142,
   "id": "8a8e665e-5332-4224-b67f-9aeea303257e",
   "metadata": {},
   "outputs": [
    {
     "data": {
      "text/plain": [
       "1.209269698402472"
      ]
     },
     "execution_count": 142,
     "metadata": {},
     "output_type": "execute_result"
    }
   ],
   "source": [
    "# First we set the state of the network\n",
    "σ = np.tanh\n",
    "w1 = 1.3\n",
    "b1 = -0.1\n",
    "\n",
    "# Then we define the neuron activation.\n",
    "def a1(a0) :\n",
    "  z = w1 * a0 + b1\n",
    "  return σ(z)\n",
    "\n",
    "# Experiment with different values of x below.\n",
    "x = 0\n",
    "(a1(x)-1)**2\n"
   ]
  },
  {
   "cell_type": "code",
   "execution_count": 145,
   "id": "75182830-879b-48c2-acc6-189d3a7f13cf",
   "metadata": {},
   "outputs": [
    {
     "data": {
      "text/plain": [
       "1.8"
      ]
     },
     "execution_count": 145,
     "metadata": {},
     "output_type": "execute_result"
    }
   ],
   "source": [
    "sigma = np.tanh\n",
    "\n",
    "# Let's use a random initial weight and bias.\n",
    "W = np.array([[-0.94529712, -0.2667356 , -0.91219181],\n",
    "              [ 2.05529992,  1.21797092,  0.22914497]])\n",
    "b = np.array([ 0.61273249,  1.6422662 ])\n",
    "\n",
    "# define our feed forward function\n",
    "def a1 (a0) :\n",
    "  # Notice the next line is almost the same as previously,\n",
    "  # except we are using matrix multiplication rather than scalar multiplication\n",
    "  # hence the '@' operator, and not the '*' operator.\n",
    "  z = W @ a0 + b\n",
    "  # Everything else is the same though,\n",
    "  return sigma(z)\n",
    "\n",
    "# Next, if a training example is,\n",
    "x = np.array([0.7, 0.6, 0.2])\n",
    "y = np.array([0.9, 0.6])\n",
    "\n",
    "# Then the cost function is,\n",
    "d = a1(x) - y # Vector difference between observed and expected activation\n",
    "C = d @ d # Absolute value squared of the difference.\n",
    "round(C,1)"
   ]
  },
  {
   "cell_type": "code",
   "execution_count": null,
   "id": "b3f667a5-495f-40e3-a4ca-9e1cb38e02c7",
   "metadata": {},
   "outputs": [],
   "source": []
  }
 ],
 "metadata": {
  "kernelspec": {
   "display_name": "anaconda",
   "language": "python",
   "name": "anaconda"
  },
  "language_info": {
   "codemirror_mode": {
    "name": "ipython",
    "version": 3
   },
   "file_extension": ".py",
   "mimetype": "text/x-python",
   "name": "python",
   "nbconvert_exporter": "python",
   "pygments_lexer": "ipython3",
   "version": "3.9.13"
  }
 },
 "nbformat": 4,
 "nbformat_minor": 5
}
