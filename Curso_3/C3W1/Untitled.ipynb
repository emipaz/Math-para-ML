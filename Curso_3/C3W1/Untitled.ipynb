{
 "cells": [
  {
   "cell_type": "markdown",
   "id": "c1d9fe44-a3ed-4818-b03c-52ef256afc46",
   "metadata": {},
   "source": [
    "# Calculos semana1 estadistica"
   ]
  },
  {
   "cell_type": "code",
   "execution_count": 1,
   "id": "b71f5d2f-be7f-40c0-bba8-e2f8efbfb274",
   "metadata": {},
   "outputs": [],
   "source": [
    "def promedio (*args):\n",
    "    return sum(args)/len(args)\n",
    "\n",
    "def varianza(*args):\n",
    "    mu = promedio(*args)\n",
    "    va = 0\n",
    "    for i in args:\n",
    "        va += (i-mu)**2\n",
    "    return va/len(args)\n",
    "\n",
    "def std(*args):\n",
    "    va = varianza(*args)\n",
    "    return va ** (1/2)"
   ]
  },
  {
   "cell_type": "code",
   "execution_count": 2,
   "id": "3d8c3dc5-00d0-42ac-a4d2-2d7db2c0694b",
   "metadata": {},
   "outputs": [
    {
     "data": {
      "text/plain": [
       "2.0"
      ]
     },
     "execution_count": 2,
     "metadata": {},
     "output_type": "execute_result"
    }
   ],
   "source": [
    "promedio(1,2,3,2)"
   ]
  },
  {
   "cell_type": "code",
   "execution_count": 3,
   "id": "75471a47-2f2c-47cc-876c-30957a441216",
   "metadata": {},
   "outputs": [
    {
     "data": {
      "text/plain": [
       "0.5"
      ]
     },
     "execution_count": 3,
     "metadata": {},
     "output_type": "execute_result"
    }
   ],
   "source": [
    "varianza(1,2,3,2)"
   ]
  },
  {
   "cell_type": "code",
   "execution_count": 4,
   "id": "fb043711-f593-4280-a37e-a42c41ea76d9",
   "metadata": {},
   "outputs": [
    {
     "data": {
      "text/plain": [
       "0.7071067811865476"
      ]
     },
     "execution_count": 4,
     "metadata": {},
     "output_type": "execute_result"
    }
   ],
   "source": [
    "std(1,2,3,2)"
   ]
  },
  {
   "cell_type": "code",
   "execution_count": 5,
   "id": "9ef75907-7dda-4c28-8ae8-6431b7e58ec0",
   "metadata": {},
   "outputs": [
    {
     "data": {
      "text/plain": [
       "0.56"
      ]
     },
     "execution_count": 5,
     "metadata": {},
     "output_type": "execute_result"
    }
   ],
   "source": [
    "new = (1,2,3,2,1)\n",
    "varianza(*new)"
   ]
  },
  {
   "cell_type": "code",
   "execution_count": 6,
   "id": "954165f4-8e35-47fc-92f9-9c9cbef93c7b",
   "metadata": {},
   "outputs": [
    {
     "data": {
      "text/plain": [
       "2.0"
      ]
     },
     "execution_count": 6,
     "metadata": {},
     "output_type": "execute_result"
    }
   ],
   "source": [
    "# la varianza multiplicando por 2 cada elemento del dataset\n",
    "varianza(*(x*2 for x in (1,2,3,2)))"
   ]
  },
  {
   "cell_type": "markdown",
   "id": "ad3ede5f-8439-4672-8ae9-79d5eb65ab40",
   "metadata": {},
   "source": [
    "The covariance between two scalar random variables is \n",
    "\n",
    "$\\operatorname{cov}[x,y] = E[\\mathrm{(x-\\mu_x)(y-\\mu_y)}] \\approx \\frac{1}{N}\\sum_{i=1}^N \\mathrm{(x-\\mu_x)(y-\\mu_y)} $"
   ]
  },
  {
   "cell_type": "code",
   "execution_count": 7,
   "id": "3f3300e8-32e1-4e8a-9d53-cf8b876fa66a",
   "metadata": {},
   "outputs": [],
   "source": [
    "import numpy as np"
   ]
  },
  {
   "cell_type": "code",
   "execution_count": 8,
   "id": "e6f855f5-115e-4c19-9984-8931369281f8",
   "metadata": {},
   "outputs": [],
   "source": [
    "data = np.array([[1,2],[5,4]])"
   ]
  },
  {
   "cell_type": "code",
   "execution_count": 9,
   "id": "d56d6c41-127b-41c9-b90d-d794b7904f4c",
   "metadata": {},
   "outputs": [
    {
     "data": {
      "text/plain": [
       "array([3., 3.])"
      ]
     },
     "execution_count": 9,
     "metadata": {},
     "output_type": "execute_result"
    }
   ],
   "source": [
    "data.mean(axis=0)"
   ]
  },
  {
   "cell_type": "code",
   "execution_count": 10,
   "id": "3395908d-ba75-4858-8b31-8b6c39de0674",
   "metadata": {},
   "outputs": [
    {
     "data": {
      "text/plain": [
       "array([4., 1.])"
      ]
     },
     "execution_count": 10,
     "metadata": {},
     "output_type": "execute_result"
    }
   ],
   "source": [
    "data.var(axis=0)"
   ]
  },
  {
   "cell_type": "code",
   "execution_count": 11,
   "id": "4ceb9b3b-d166-48dd-9bbd-8f17fbc68f46",
   "metadata": {},
   "outputs": [],
   "source": [
    "cov_xy = (((1-3)*(2-3))+((5-3)*(4-3)))/2"
   ]
  },
  {
   "cell_type": "code",
   "execution_count": 12,
   "id": "564f0e71-d0f1-4020-a85b-5164790f692c",
   "metadata": {},
   "outputs": [
    {
     "data": {
      "text/plain": [
       "2.0"
      ]
     },
     "execution_count": 12,
     "metadata": {},
     "output_type": "execute_result"
    }
   ],
   "source": [
    "cov_xy"
   ]
  },
  {
   "cell_type": "code",
   "execution_count": null,
   "id": "6d3a24df-5547-48c3-a781-674c697a289b",
   "metadata": {},
   "outputs": [],
   "source": []
  },
  {
   "cell_type": "code",
   "execution_count": null,
   "id": "6f208678-e45e-4412-bac8-c18c222b746b",
   "metadata": {},
   "outputs": [],
   "source": []
  },
  {
   "cell_type": "code",
   "execution_count": 13,
   "id": "59e87d03-b15b-40f5-8a8f-a429b935f7a4",
   "metadata": {},
   "outputs": [
    {
     "data": {
      "text/plain": [
       "array([ 1, -1,  3])"
      ]
     },
     "execution_count": 13,
     "metadata": {},
     "output_type": "execute_result"
    }
   ],
   "source": [
    "ej1 = np.array([1,-1,3])\n",
    "ej1"
   ]
  },
  {
   "cell_type": "code",
   "execution_count": 14,
   "id": "bf334231-ef2b-4e49-9cf5-bc72bd326aeb",
   "metadata": {},
   "outputs": [
    {
     "data": {
      "text/plain": [
       "3.3166247903554"
      ]
     },
     "execution_count": 14,
     "metadata": {},
     "output_type": "execute_result"
    }
   ],
   "source": [
    "np.linalg.norm(ej1)"
   ]
  },
  {
   "cell_type": "code",
   "execution_count": 15,
   "id": "4487fd06-683b-4fff-8705-a15e9a237f0a",
   "metadata": {},
   "outputs": [
    {
     "data": {
      "text/plain": [
       "3.3166247903554"
      ]
     },
     "execution_count": 15,
     "metadata": {},
     "output_type": "execute_result"
    }
   ],
   "source": [
    "11**(1/2)"
   ]
  },
  {
   "cell_type": "markdown",
   "id": "0776acbf-d449-42d3-ae95-19457661ad96",
   "metadata": {},
   "source": [
    "# Calaculo de angulo entre vectores"
   ]
  },
  {
   "cell_type": "code",
   "execution_count": 28,
   "id": "8a93e9a3-31b4-4356-9cc6-cdc248361e25",
   "metadata": {},
   "outputs": [
    {
     "data": {
      "text/plain": [
       "array([[3, 4]])"
      ]
     },
     "execution_count": 28,
     "metadata": {},
     "output_type": "execute_result"
    }
   ],
   "source": [
    "x = np.array([[3,4]])\n",
    "x"
   ]
  },
  {
   "cell_type": "code",
   "execution_count": 29,
   "id": "fa0dac41-44bd-4b09-b706-665805a99c31",
   "metadata": {},
   "outputs": [
    {
     "data": {
      "text/plain": [
       "5.0"
      ]
     },
     "execution_count": 29,
     "metadata": {},
     "output_type": "execute_result"
    }
   ],
   "source": [
    "norm_x = np.linalg.norm(x)\n",
    "norm_x"
   ]
  },
  {
   "cell_type": "code",
   "execution_count": 30,
   "id": "f44737ce-42b6-46f7-aa80-97f1d78b4ad3",
   "metadata": {},
   "outputs": [
    {
     "data": {
      "text/plain": [
       "array([[-1, -1]])"
      ]
     },
     "execution_count": 30,
     "metadata": {},
     "output_type": "execute_result"
    }
   ],
   "source": [
    "y = np.array([[-1,-1]])\n",
    "y"
   ]
  },
  {
   "cell_type": "code",
   "execution_count": 31,
   "id": "4e855b57-d389-48cd-b852-75f28e77382b",
   "metadata": {},
   "outputs": [
    {
     "data": {
      "text/plain": [
       "1.4142135623730951"
      ]
     },
     "execution_count": 31,
     "metadata": {},
     "output_type": "execute_result"
    }
   ],
   "source": [
    "norm_y = np.linalg.norm(y)\n",
    "norm_y"
   ]
  },
  {
   "cell_type": "code",
   "execution_count": 34,
   "id": "180ca8b9-6b27-49c8-9364-7532eb9efd40",
   "metadata": {},
   "outputs": [
    {
     "data": {
      "text/plain": [
       "array([[-7]])"
      ]
     },
     "execution_count": 34,
     "metadata": {},
     "output_type": "execute_result"
    }
   ],
   "source": [
    "x.dot(y.T)"
   ]
  },
  {
   "cell_type": "code",
   "execution_count": 36,
   "id": "a0afe8ab-84c5-4875-a571-5f54c2d06923",
   "metadata": {},
   "outputs": [
    {
     "data": {
      "text/plain": [
       "array([[-0.98994949]])"
      ]
     },
     "execution_count": 36,
     "metadata": {},
     "output_type": "execute_result"
    }
   ],
   "source": [
    "x.dot(y.T)/(norm_x*norm_y)"
   ]
  },
  {
   "cell_type": "code",
   "execution_count": 38,
   "id": "7da00c6e-e84a-4228-9a99-c68aad74863a",
   "metadata": {},
   "outputs": [
    {
     "data": {
      "text/plain": [
       "array([[2.9996956]])"
      ]
     },
     "execution_count": 38,
     "metadata": {},
     "output_type": "execute_result"
    }
   ],
   "source": [
    "np.arccos(x.dot(y.T)/(norm_x*norm_y))"
   ]
  },
  {
   "cell_type": "code",
   "execution_count": 42,
   "id": "52c6f4a9-9af1-4696-86c3-c0d6f19bd50c",
   "metadata": {},
   "outputs": [],
   "source": [
    "def angulo(x,y):\n",
    "    return np.arccos(\n",
    "        (x.dot(y.T)/(np.linalg.norm(x)*np.linalg.norm(y))))\n",
    "    "
   ]
  },
  {
   "cell_type": "code",
   "execution_count": 60,
   "id": "ef913889-afc5-4829-9a77-f840033f3e8a",
   "metadata": {},
   "outputs": [
    {
     "data": {
      "text/plain": [
       "array([[2.00282936]])"
      ]
     },
     "execution_count": 60,
     "metadata": {},
     "output_type": "execute_result"
    }
   ],
   "source": [
    "angulo(np.array([[1,2,3]]),np.array([[1,2,3]])-np.array([[-1,0,8]]))"
   ]
  },
  {
   "cell_type": "code",
   "execution_count": null,
   "id": "42e9c686-313b-48f8-a1d1-10b03e7de46d",
   "metadata": {},
   "outputs": [],
   "source": [
    "angulo(x,y)"
   ]
  },
  {
   "cell_type": "code",
   "execution_count": 63,
   "id": "5bcfcd45-dd81-4057-b65a-158475023b32",
   "metadata": {},
   "outputs": [
    {
     "data": {
      "text/plain": [
       "2.9996955989856287"
      ]
     },
     "execution_count": 63,
     "metadata": {},
     "output_type": "execute_result"
    }
   ],
   "source": [
    "angulo(np.array([3,4]),np.array([-1,-1]))"
   ]
  },
  {
   "cell_type": "code",
   "execution_count": 44,
   "id": "2c172859-7144-4aa9-b752-3ee5eeefa075",
   "metadata": {},
   "outputs": [
    {
     "data": {
      "text/plain": [
       "5.0"
      ]
     },
     "execution_count": 44,
     "metadata": {},
     "output_type": "execute_result"
    }
   ],
   "source": [
    "norm_x = np.linalg.norm(np.array([3,4]))\n",
    "norm_x"
   ]
  },
  {
   "cell_type": "code",
   "execution_count": 45,
   "id": "2e7ffa05-5841-4bfe-a24d-cb010e306ccc",
   "metadata": {},
   "outputs": [
    {
     "data": {
      "text/plain": [
       "1.4142135623730951"
      ]
     },
     "execution_count": 45,
     "metadata": {},
     "output_type": "execute_result"
    }
   ],
   "source": [
    "norm_y = np.linalg.norm(np.array([1,1]))\n",
    "norm_y"
   ]
  },
  {
   "cell_type": "code",
   "execution_count": 46,
   "id": "a12dd5e1-cb46-4f2a-b282-635e374ec5ca",
   "metadata": {},
   "outputs": [
    {
     "data": {
      "text/plain": [
       "7"
      ]
     },
     "execution_count": 46,
     "metadata": {},
     "output_type": "execute_result"
    }
   ],
   "source": [
    "np.array([3,4]).dot(np.array([1,1]).T)"
   ]
  },
  {
   "cell_type": "code",
   "execution_count": 48,
   "id": "754b2820-e78c-4514-99c5-2ef6203803fa",
   "metadata": {},
   "outputs": [
    {
     "data": {
      "text/plain": [
       "0.14189705460416438"
      ]
     },
     "execution_count": 48,
     "metadata": {},
     "output_type": "execute_result"
    }
   ],
   "source": [
    "np.arccos(7/(5*2**0.5))"
   ]
  },
  {
   "cell_type": "code",
   "execution_count": 64,
   "id": "c5216810-3362-48fc-8187-5710c7f8e7f9",
   "metadata": {},
   "outputs": [
    {
     "data": {
      "text/plain": [
       "5.385164807134504"
      ]
     },
     "execution_count": 64,
     "metadata": {},
     "output_type": "execute_result"
    }
   ],
   "source": [
    "distancia = np.linalg.norm(np.array([3,4])-np.array([1,-1]))\n",
    "distancia"
   ]
  },
  {
   "cell_type": "code",
   "execution_count": 50,
   "id": "b40efe4c-983f-4917-b675-ee279e9873ca",
   "metadata": {},
   "outputs": [
    {
     "data": {
      "text/plain": [
       "array([2, 3])"
      ]
     },
     "execution_count": 50,
     "metadata": {},
     "output_type": "execute_result"
    }
   ],
   "source": [
    "np.array([3,4])-np.array([1,1])\n"
   ]
  },
  {
   "cell_type": "code",
   "execution_count": null,
   "id": "d636872e-11ea-4f86-bffa-63b61e8f20dc",
   "metadata": {},
   "outputs": [],
   "source": []
  }
 ],
 "metadata": {
  "kernelspec": {
   "display_name": "anaconda",
   "language": "python",
   "name": "anaconda"
  },
  "language_info": {
   "codemirror_mode": {
    "name": "ipython",
    "version": 3
   },
   "file_extension": ".py",
   "mimetype": "text/x-python",
   "name": "python",
   "nbconvert_exporter": "python",
   "pygments_lexer": "ipython3",
   "version": "3.9.13"
  }
 },
 "nbformat": 4,
 "nbformat_minor": 5
}
