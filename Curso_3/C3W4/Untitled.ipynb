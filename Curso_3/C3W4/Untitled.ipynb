{
 "cells": [
  {
   "cell_type": "code",
   "execution_count": 148,
   "id": "f549b583-0048-44dd-babc-e425b48fe291",
   "metadata": {},
   "outputs": [],
   "source": [
    "from sympy import symbols, diff, cos, sin, exp, Rational, Matrix"
   ]
  },
  {
   "cell_type": "markdown",
   "id": "7d431616-4397-4d8b-acc6-6171bceb5560",
   "metadata": {},
   "source": [
    "Consider the function $h:\\mathbb{R}\\to\\mathbb{R}$ h:R→R, where $h(t) = (f\\circ g)(t) =  f(g(t))h(t)=(f∘g)(t)=f(g(t))$ with\n",
    "\n",
    "$g(t) = \\mathbf{x} = \\begin{bmatrix}t \\cos t\\\\t \\sin t \\end{bmatrix}\\,,\\quad t \\in \\mathbb{R}$  \n",
    "$f(\\mathbf{x}) = \\exp(x_1x_2^2)\\,,\\quad \\mathbf{x} = \\begin{bmatrix}x_1 \\\\ x_2\\end{bmatrix}\\in\\mathbb{R}^2$"
   ]
  },
  {
   "cell_type": "code",
   "execution_count": 149,
   "id": "f49c47d5-c707-4b14-a1f1-21ec3ab6fdbf",
   "metadata": {},
   "outputs": [],
   "source": [
    "x,x1,x2,t = symbols(\"x,x1,x2,t\")"
   ]
  },
  {
   "cell_type": "code",
   "execution_count": 150,
   "id": "a02c7e43-af09-41fe-9a87-2c9b8625b4bb",
   "metadata": {},
   "outputs": [
    {
     "data": {
      "text/latex": [
       "$\\displaystyle x_{1}$"
      ],
      "text/plain": [
       "x1"
      ]
     },
     "execution_count": 150,
     "metadata": {},
     "output_type": "execute_result"
    }
   ],
   "source": [
    "x1"
   ]
  },
  {
   "cell_type": "code",
   "execution_count": 112,
   "id": "e0b5d145-b950-4651-9bd1-96bdec41d3a8",
   "metadata": {},
   "outputs": [
    {
     "data": {
      "text/latex": [
       "$\\displaystyle \\left[\\begin{matrix}x_{1}\\\\x_{2}\\end{matrix}\\right]$"
      ],
      "text/plain": [
       "Matrix([\n",
       "[x1],\n",
       "[x2]])"
      ]
     },
     "execution_count": 112,
     "metadata": {},
     "output_type": "execute_result"
    }
   ],
   "source": [
    "x = Matrix([[x1],[x2]])\n",
    "x"
   ]
  },
  {
   "cell_type": "code",
   "execution_count": 151,
   "id": "70260e1a-2037-4384-bf21-9db74af53ce4",
   "metadata": {},
   "outputs": [
    {
     "data": {
      "text/latex": [
       "$\\displaystyle e^{x_{1} x_{2}^{2}}$"
      ],
      "text/plain": [
       "exp(x1*x2**2)"
      ]
     },
     "execution_count": 151,
     "metadata": {},
     "output_type": "execute_result"
    }
   ],
   "source": [
    "f_x = exp(x1*x2**2)\n",
    "f_x"
   ]
  },
  {
   "cell_type": "code",
   "execution_count": 152,
   "id": "2da28f01-88b6-4b19-95df-98d89dd7c491",
   "metadata": {},
   "outputs": [
    {
     "data": {
      "text/latex": [
       "$\\displaystyle x_{2}^{2} e^{x_{1} x_{2}^{2}}$"
      ],
      "text/plain": [
       "x2**2*exp(x1*x2**2)"
      ]
     },
     "execution_count": 152,
     "metadata": {},
     "output_type": "execute_result"
    }
   ],
   "source": [
    "diff(f_x,x1)"
   ]
  },
  {
   "cell_type": "code",
   "execution_count": 153,
   "id": "610b933c-8b65-4b0b-9b36-0805c77df618",
   "metadata": {},
   "outputs": [
    {
     "data": {
      "text/latex": [
       "$\\displaystyle 2 x_{1} x_{2} e^{x_{1} x_{2}^{2}}$"
      ],
      "text/plain": [
       "2*x1*x2*exp(x1*x2**2)"
      ]
     },
     "execution_count": 153,
     "metadata": {},
     "output_type": "execute_result"
    }
   ],
   "source": [
    "diff(f_x,x2)"
   ]
  },
  {
   "cell_type": "code",
   "execution_count": 154,
   "id": "73bf871e-1ae0-43ed-bfc1-fa9e89d379a9",
   "metadata": {},
   "outputs": [
    {
     "data": {
      "text/latex": [
       "$\\displaystyle t \\cos{\\left(t \\right)}$"
      ],
      "text/plain": [
       "t*cos(t)"
      ]
     },
     "metadata": {},
     "output_type": "display_data"
    },
    {
     "data": {
      "text/latex": [
       "$\\displaystyle t \\sin{\\left(t \\right)}$"
      ],
      "text/plain": [
       "t*sin(t)"
      ]
     },
     "execution_count": 154,
     "metadata": {},
     "output_type": "execute_result"
    }
   ],
   "source": [
    "x1  = t * cos(t)\n",
    "x2  = t * sin(t)\n",
    "display(x1)\n",
    "x2"
   ]
  },
  {
   "cell_type": "code",
   "execution_count": 155,
   "id": "4cf14008-a321-4ebf-a0a5-c3a08713d2f2",
   "metadata": {},
   "outputs": [
    {
     "data": {
      "text/latex": [
       "$\\displaystyle - t \\sin{\\left(t \\right)} + \\cos{\\left(t \\right)}$"
      ],
      "text/plain": [
       "-t*sin(t) + cos(t)"
      ]
     },
     "execution_count": 155,
     "metadata": {},
     "output_type": "execute_result"
    }
   ],
   "source": [
    "diff(x1,t)"
   ]
  },
  {
   "cell_type": "code",
   "execution_count": 156,
   "id": "fc3d0b40-5fb5-45d4-9cfb-9872d4814619",
   "metadata": {},
   "outputs": [
    {
     "data": {
      "text/latex": [
       "$\\displaystyle t \\cos{\\left(t \\right)} + \\sin{\\left(t \\right)}$"
      ],
      "text/plain": [
       "t*cos(t) + sin(t)"
      ]
     },
     "execution_count": 156,
     "metadata": {},
     "output_type": "execute_result"
    }
   ],
   "source": [
    "diff(x2,t)"
   ]
  },
  {
   "cell_type": "code",
   "execution_count": null,
   "id": "a674ac55-2107-42c4-b61a-7654a0f12b48",
   "metadata": {},
   "outputs": [],
   "source": []
  },
  {
   "cell_type": "code",
   "execution_count": 157,
   "id": "19a9d069-d3d0-4aae-a374-b2f5d850627f",
   "metadata": {},
   "outputs": [
    {
     "data": {
      "text/latex": [
       "$\\displaystyle - t^{3} \\sin^{3}{\\left(t \\right)} + 2 t^{3} \\sin{\\left(t \\right)} \\cos^{2}{\\left(t \\right)} + 3 t^{2} \\sin^{2}{\\left(t \\right)} \\cos{\\left(t \\right)}$"
      ],
      "text/plain": [
       "-t**3*sin(t)**3 + 2*t**3*sin(t)*cos(t)**2 + 3*t**2*sin(t)**2*cos(t)"
      ]
     },
     "execution_count": 157,
     "metadata": {},
     "output_type": "execute_result"
    }
   ],
   "source": [
    "diff(x1*x2**2,t)"
   ]
  },
  {
   "cell_type": "code",
   "execution_count": 158,
   "id": "ddaa63c6-99a9-449a-80d2-b88df08968bf",
   "metadata": {},
   "outputs": [
    {
     "data": {
      "text/latex": [
       "$\\displaystyle e^{x_{1} x_{2}^{2}}$"
      ],
      "text/plain": [
       "exp(x1*x2**2)"
      ]
     },
     "execution_count": 158,
     "metadata": {},
     "output_type": "execute_result"
    }
   ],
   "source": [
    "f_x"
   ]
  },
  {
   "cell_type": "markdown",
   "id": "8fad1415-a456-4441-84ac-9adfbcf3f108",
   "metadata": {},
   "source": [
    "Compute $\\frac{df}{dx}$\n",
    "  of the following function using the chain rule.\n",
    "\n",
    "- $ a = x^2 $ \n",
    "- $ b = \\exp(a)$ \n",
    "- $ c = a + b$\n",
    "- $ d = \\log(c)$\n",
    "- $ e = \\sin(c)$\n",
    "- $ f = d + e$"
   ]
  },
  {
   "cell_type": "code",
   "execution_count": 129,
   "id": "26ce89a1-34ca-4a39-b39f-566b02fa321c",
   "metadata": {},
   "outputs": [],
   "source": [
    "a,b,c,d,e,f,x = symbols(\"a,b,c,d,e,f,x\")"
   ]
  },
  {
   "cell_type": "code",
   "execution_count": 130,
   "id": "24b1120f-a182-46cd-bce1-3a4447bf7fd9",
   "metadata": {},
   "outputs": [],
   "source": [
    "from sympy import log"
   ]
  },
  {
   "cell_type": "code",
   "execution_count": 131,
   "id": "005088d4-0d62-426c-b808-2d510ac3b1c1",
   "metadata": {},
   "outputs": [
    {
     "data": {
      "text/latex": [
       "$\\displaystyle x^{2}$"
      ],
      "text/plain": [
       "x**2"
      ]
     },
     "execution_count": 131,
     "metadata": {},
     "output_type": "execute_result"
    }
   ],
   "source": [
    "a = x**2\n",
    "a"
   ]
  },
  {
   "cell_type": "code",
   "execution_count": 132,
   "id": "6c6a24c8-67d7-43b4-a199-4d1e887646ad",
   "metadata": {},
   "outputs": [
    {
     "data": {
      "text/latex": [
       "$\\displaystyle 2 x$"
      ],
      "text/plain": [
       "2*x"
      ]
     },
     "execution_count": 132,
     "metadata": {},
     "output_type": "execute_result"
    }
   ],
   "source": [
    "diff(a,x)"
   ]
  },
  {
   "cell_type": "code",
   "execution_count": 133,
   "id": "a0b1b31a-8314-4cde-bfc1-ac612150a2b8",
   "metadata": {},
   "outputs": [
    {
     "data": {
      "text/latex": [
       "$\\displaystyle e^{x^{2}}$"
      ],
      "text/plain": [
       "exp(x**2)"
      ]
     },
     "execution_count": 133,
     "metadata": {},
     "output_type": "execute_result"
    }
   ],
   "source": [
    "b = exp(a)\n",
    "b"
   ]
  },
  {
   "cell_type": "code",
   "execution_count": 134,
   "id": "639b1eda-a4f3-4785-9f6c-0a9e385e023d",
   "metadata": {},
   "outputs": [
    {
     "data": {
      "text/latex": [
       "$\\displaystyle 2 x e^{x^{2}}$"
      ],
      "text/plain": [
       "2*x*exp(x**2)"
      ]
     },
     "execution_count": 134,
     "metadata": {},
     "output_type": "execute_result"
    }
   ],
   "source": [
    "diff(b,x)"
   ]
  },
  {
   "cell_type": "code",
   "execution_count": 135,
   "id": "7d8b175c-7d79-43d5-b3c6-cf150972637a",
   "metadata": {},
   "outputs": [
    {
     "data": {
      "text/latex": [
       "$\\displaystyle x^{2} + e^{x^{2}}$"
      ],
      "text/plain": [
       "x**2 + exp(x**2)"
      ]
     },
     "execution_count": 135,
     "metadata": {},
     "output_type": "execute_result"
    }
   ],
   "source": [
    "c = a + b\n",
    "c"
   ]
  },
  {
   "cell_type": "code",
   "execution_count": 136,
   "id": "c3dc558f-73c3-4ac7-bfdf-f6114e157195",
   "metadata": {},
   "outputs": [
    {
     "data": {
      "text/latex": [
       "$\\displaystyle 2 x e^{x^{2}} + 2 x$"
      ],
      "text/plain": [
       "2*x*exp(x**2) + 2*x"
      ]
     },
     "execution_count": 136,
     "metadata": {},
     "output_type": "execute_result"
    }
   ],
   "source": [
    "diff(c,x)"
   ]
  },
  {
   "cell_type": "code",
   "execution_count": 137,
   "id": "cf782075-2d63-4f86-aec5-c5b3d4dd2c48",
   "metadata": {},
   "outputs": [
    {
     "data": {
      "text/latex": [
       "$\\displaystyle \\log{\\left(x^{2} + e^{x^{2}} \\right)}$"
      ],
      "text/plain": [
       "log(x**2 + exp(x**2))"
      ]
     },
     "execution_count": 137,
     "metadata": {},
     "output_type": "execute_result"
    }
   ],
   "source": [
    "d = log(c)\n",
    "d"
   ]
  },
  {
   "cell_type": "code",
   "execution_count": 138,
   "id": "9cb5e733-a7df-4bfb-8726-8384bdf880da",
   "metadata": {},
   "outputs": [
    {
     "data": {
      "text/latex": [
       "$\\displaystyle \\frac{2 x e^{x^{2}} + 2 x}{x^{2} + e^{x^{2}}}$"
      ],
      "text/plain": [
       "(2*x*exp(x**2) + 2*x)/(x**2 + exp(x**2))"
      ]
     },
     "execution_count": 138,
     "metadata": {},
     "output_type": "execute_result"
    }
   ],
   "source": [
    "diff(d,x)"
   ]
  },
  {
   "cell_type": "code",
   "execution_count": 139,
   "id": "3a49b16f-a652-44cc-afb7-a2618611edb4",
   "metadata": {},
   "outputs": [
    {
     "data": {
      "text/latex": [
       "$\\displaystyle \\sin{\\left(x^{2} + e^{x^{2}} \\right)}$"
      ],
      "text/plain": [
       "sin(x**2 + exp(x**2))"
      ]
     },
     "execution_count": 139,
     "metadata": {},
     "output_type": "execute_result"
    }
   ],
   "source": [
    "e = sin(c)\n",
    "e"
   ]
  },
  {
   "cell_type": "code",
   "execution_count": 140,
   "id": "27b37aad-2b5d-4170-aab7-46d2b32b7d14",
   "metadata": {},
   "outputs": [
    {
     "data": {
      "text/latex": [
       "$\\displaystyle \\left(2 x e^{x^{2}} + 2 x\\right) \\cos{\\left(x^{2} + e^{x^{2}} \\right)}$"
      ],
      "text/plain": [
       "(2*x*exp(x**2) + 2*x)*cos(x**2 + exp(x**2))"
      ]
     },
     "execution_count": 140,
     "metadata": {},
     "output_type": "execute_result"
    }
   ],
   "source": [
    "diff(e,x)"
   ]
  },
  {
   "cell_type": "code",
   "execution_count": 141,
   "id": "8e3bd6a0-1d95-49a9-9525-4b364ef6f610",
   "metadata": {},
   "outputs": [
    {
     "data": {
      "text/latex": [
       "$\\displaystyle \\log{\\left(x^{2} + e^{x^{2}} \\right)} + \\sin{\\left(x^{2} + e^{x^{2}} \\right)}$"
      ],
      "text/plain": [
       "log(x**2 + exp(x**2)) + sin(x**2 + exp(x**2))"
      ]
     },
     "execution_count": 141,
     "metadata": {},
     "output_type": "execute_result"
    }
   ],
   "source": [
    "f = e + d\n",
    "f"
   ]
  },
  {
   "cell_type": "code",
   "execution_count": 142,
   "id": "b330dbfd-9d57-48de-9611-645d43f34292",
   "metadata": {},
   "outputs": [
    {
     "data": {
      "text/latex": [
       "$\\displaystyle \\left(2 x e^{x^{2}} + 2 x\\right) \\cos{\\left(x^{2} + e^{x^{2}} \\right)} + \\frac{2 x e^{x^{2}} + 2 x}{x^{2} + e^{x^{2}}}$"
      ],
      "text/plain": [
       "(2*x*exp(x**2) + 2*x)*cos(x**2 + exp(x**2)) + (2*x*exp(x**2) + 2*x)/(x**2 + exp(x**2))"
      ]
     },
     "execution_count": 142,
     "metadata": {},
     "output_type": "execute_result"
    }
   ],
   "source": [
    "diff(f,x)"
   ]
  },
  {
   "cell_type": "code",
   "execution_count": 143,
   "id": "b340562c-47c6-46bc-8b92-b1855b16e72f",
   "metadata": {},
   "outputs": [
    {
     "data": {
      "text/latex": [
       "$\\displaystyle \\frac{2 x \\left(e^{x^{2}} + 1\\right) \\left(x^{2} \\cos{\\left(x^{2} + e^{x^{2}} \\right)} + e^{x^{2}} \\cos{\\left(x^{2} + e^{x^{2}} \\right)} + 1\\right)}{x^{2} + e^{x^{2}}}$"
      ],
      "text/plain": [
       "2*x*(exp(x**2) + 1)*(x**2*cos(x**2 + exp(x**2)) + exp(x**2)*cos(x**2 + exp(x**2)) + 1)/(x**2 + exp(x**2))"
      ]
     },
     "execution_count": 143,
     "metadata": {},
     "output_type": "execute_result"
    }
   ],
   "source": [
    "diff(f,x).factor()"
   ]
  },
  {
   "cell_type": "code",
   "execution_count": 144,
   "id": "ab6da86f-d441-4b8c-b5e6-04bf63bacc98",
   "metadata": {},
   "outputs": [],
   "source": [
    "from sympy import plot"
   ]
  },
  {
   "cell_type": "code",
   "execution_count": 145,
   "id": "80a97b94-654f-4a94-86b9-1c8498daf17e",
   "metadata": {},
   "outputs": [
    {
     "data": {
      "image/png": "[encoded data removed]",
      "text/plain": [
       "<Figure size 640x480 with 1 Axes>"
      ]
     },
     "metadata": {},
     "output_type": "display_data"
    },
    {
     "data": {
      "text/plain": [
       "<sympy.plotting.plot.Plot at 0x7f890191a100>"
      ]
     },
     "execution_count": 145,
     "metadata": {},
     "output_type": "execute_result"
    }
   ],
   "source": [
    "plot(diff(f,x), f,(x,-1,1))"
   ]
  },
  {
   "cell_type": "code",
   "execution_count": 105,
   "id": "5c9a815f-a240-469e-bd0f-078358094044",
   "metadata": {},
   "outputs": [
    {
     "data": {
      "image/png": "[encoded data removed]",
      "text/plain": [
       "<Figure size 640x480 with 1 Axes>"
      ]
     },
     "metadata": {},
     "output_type": "display_data"
    },
    {
     "data": {
      "text/plain": [
       "<sympy.plotting.plot.Plot at 0x7f8901a50670>"
      ]
     },
     "execution_count": 105,
     "metadata": {},
     "output_type": "execute_result"
    }
   ],
   "source": [
    "plot(diff(f,x), f,(x,-1.5,1.5))"
   ]
  },
  {
   "cell_type": "markdown",
   "id": "77b8649f-58e9-43b7-8390-3e54aa346464",
   "metadata": {},
   "source": [
    "Pregunta 3\n",
    "What is $\\displaystyle\\frac{df}{dx}$\n",
    "  where \n",
    "\n",
    "- $f = \\cos(t^2)$\n",
    "- $t = x^3$"
   ]
  },
  {
   "cell_type": "code",
   "execution_count": 165,
   "id": "ae0cadef-d824-4cdf-860a-7e3f2de82dfe",
   "metadata": {},
   "outputs": [
    {
     "data": {
      "text/latex": [
       "$\\displaystyle \\cos{\\left(t^{2} \\right)}$"
      ],
      "text/plain": [
       "cos(t**2)"
      ]
     },
     "metadata": {},
     "output_type": "display_data"
    },
    {
     "data": {
      "text/latex": [
       "$\\displaystyle x^{3}$"
      ],
      "text/plain": [
       "x**3"
      ]
     },
     "execution_count": 165,
     "metadata": {},
     "output_type": "execute_result"
    }
   ],
   "source": [
    "x,t = symbols(\"x,t\")\n",
    "f = cos(t**2)\n",
    "t = x**3\n",
    "display(f)\n",
    "t"
   ]
  },
  {
   "cell_type": "code",
   "execution_count": 168,
   "id": "411ee098-596c-4149-8d25-31b04ae6e794",
   "metadata": {},
   "outputs": [
    {
     "data": {
      "text/latex": [
       "$\\displaystyle 3 x^{2}$"
      ],
      "text/plain": [
       "3*x**2"
      ]
     },
     "execution_count": 168,
     "metadata": {},
     "output_type": "execute_result"
    }
   ],
   "source": [
    "diff(t,x)"
   ]
  },
  {
   "cell_type": "code",
   "execution_count": 177,
   "id": "de0ef1a5-1803-40ea-bc74-989b248650ac",
   "metadata": {},
   "outputs": [
    {
     "data": {
      "text/latex": [
       "$\\displaystyle \\cos{\\left(x^{6} \\right)}$"
      ],
      "text/plain": [
       "cos(x**6)"
      ]
     },
     "execution_count": 177,
     "metadata": {},
     "output_type": "execute_result"
    }
   ],
   "source": [
    "cos(t**2)"
   ]
  },
  {
   "cell_type": "code",
   "execution_count": 180,
   "id": "bf44e23b-79cf-4ca7-84ac-cd6f5b744faf",
   "metadata": {},
   "outputs": [
    {
     "data": {
      "text/latex": [
       "$\\displaystyle \\cos{\\left(t^{2} \\right)}$"
      ],
      "text/plain": [
       "cos(t**2)"
      ]
     },
     "execution_count": 180,
     "metadata": {},
     "output_type": "execute_result"
    }
   ],
   "source": [
    "f.factor()"
   ]
  },
  {
   "cell_type": "code",
   "execution_count": 183,
   "id": "ac439c5a-2b40-4036-8f1d-c76803181401",
   "metadata": {},
   "outputs": [
    {
     "data": {
      "text/latex": [
       "$\\displaystyle - 6 x^{5} \\sin{\\left(x^{6} \\right)}$"
      ],
      "text/plain": [
       "-6*x**5*sin(x**6)"
      ]
     },
     "execution_count": 183,
     "metadata": {},
     "output_type": "execute_result"
    }
   ],
   "source": [
    "diff(cos(t**2),x)"
   ]
  },
  {
   "cell_type": "code",
   "execution_count": 185,
   "id": "848ebeb3-db62-4db6-a668-2b3ff8e8cf76",
   "metadata": {},
   "outputs": [
    {
     "data": {
      "image/png": "[encoded data removed]",
      "text/plain": [
       "<Figure size 640x480 with 1 Axes>"
      ]
     },
     "metadata": {},
     "output_type": "display_data"
    },
    {
     "data": {
      "text/plain": [
       "<sympy.plotting.plot.Plot at 0x7f890172d100>"
      ]
     },
     "execution_count": 185,
     "metadata": {},
     "output_type": "execute_result"
    }
   ],
   "source": [
    "plot(t,(x,-1,1))"
   ]
  },
  {
   "cell_type": "code",
   "execution_count": 189,
   "id": "0d747048-3206-4ba4-8972-e4e0fdd82328",
   "metadata": {},
   "outputs": [
    {
     "data": {
      "text/latex": [
       "$\\displaystyle - 6 x^{5} \\sin{\\left(x^{6} \\right)}$"
      ],
      "text/plain": [
       "-6*x**5*sin(x**6)"
      ]
     },
     "execution_count": 189,
     "metadata": {},
     "output_type": "execute_result"
    }
   ],
   "source": [
    "diff(cos(t**2),x)"
   ]
  },
  {
   "cell_type": "code",
   "execution_count": 193,
   "id": "12edc5f0-71a2-46c6-8a2b-545f13ed5d0e",
   "metadata": {},
   "outputs": [
    {
     "data": {
      "image/png": "[encoded data removed]",
      "text/plain": [
       "<Figure size 640x480 with 1 Axes>"
      ]
     },
     "metadata": {},
     "output_type": "display_data"
    },
    {
     "data": {
      "text/plain": [
       "<sympy.plotting.plot.Plot at 0x7f8901618070>"
      ]
     },
     "execution_count": 193,
     "metadata": {},
     "output_type": "execute_result"
    }
   ],
   "source": [
    "plot(diff(cos(t**2),x))"
   ]
  }
 ],
 "metadata": {
  "kernelspec": {
   "display_name": "anaconda",
   "language": "python",
   "name": "anaconda"
  },
  "language_info": {
   "codemirror_mode": {
    "name": "ipython",
    "version": 3
   },
   "file_extension": ".py",
   "mimetype": "text/x-python",
   "name": "python",
   "nbconvert_exporter": "python",
   "pygments_lexer": "ipython3",
   "version": "3.9.13"
  }
 },
 "nbformat": 4,
 "nbformat_minor": 5
}
