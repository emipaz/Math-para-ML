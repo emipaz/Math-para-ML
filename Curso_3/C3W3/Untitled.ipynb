{
 "cells": [
  {
   "cell_type": "code",
   "execution_count": 69,
   "id": "5defa540-9dae-45ca-a6e3-2d64c4ddc02f",
   "metadata": {},
   "outputs": [],
   "source": [
    "import numpy as np\n",
    "from sympy import Matrix, symbols, Rational"
   ]
  },
  {
   "cell_type": "markdown",
   "id": "8af1197a-7818-4fec-a4c2-fcdcab1b3297",
   "metadata": {},
   "source": [
    "Compute the projection matrix that allows us to project any vector \n",
    "\n",
    "$\\mathbf{x}\\in\\mathbb{R}^3x∈ R^3$  \n",
    "  onto the subspace spanned by the basis vector $\\mathbf{b} = \\begin{bmatrix}1\\\\2\\\\ 2\\end{bmatrix}$  \n",
    "\n",
    "Do the exercise using pen and paper. You can use the formula slide that comes with the corresponding lecture."
   ]
  },
  {
   "cell_type": "code",
   "execution_count": 77,
   "id": "2f127dd5-d88e-4547-aee7-42378fd07338",
   "metadata": {},
   "outputs": [
    {
     "data": {
      "text/plain": [
       "array([[1],\n",
       "       [2],\n",
       "       [2]])"
      ]
     },
     "execution_count": 77,
     "metadata": {},
     "output_type": "execute_result"
    }
   ],
   "source": [
    "b = np.array([[1],[2],[2]])\n",
    "b"
   ]
  },
  {
   "cell_type": "code",
   "execution_count": 78,
   "id": "0d70e83d-ef69-4509-9b92-99a69273f0d2",
   "metadata": {},
   "outputs": [],
   "source": [
    "pi_b=b @ b.T "
   ]
  },
  {
   "cell_type": "code",
   "execution_count": 79,
   "id": "ea75ccb5-6604-4e00-bda6-b750019217cc",
   "metadata": {},
   "outputs": [
    {
     "data": {
      "text/plain": [
       "array([[9]])"
      ]
     },
     "execution_count": 79,
     "metadata": {},
     "output_type": "execute_result"
    }
   ],
   "source": [
    "d = (b.T @ b)\n",
    "d"
   ]
  },
  {
   "cell_type": "code",
   "execution_count": 80,
   "id": "6075ba50-269d-42b9-9cee-70bd689e7b7a",
   "metadata": {},
   "outputs": [
    {
     "data": {
      "text/latex": [
       "$\\displaystyle \\left[\\begin{matrix}1 & 2 & 2\\\\2 & 4 & 4\\\\2 & 4 & 4\\end{matrix}\\right]$"
      ],
      "text/plain": [
       "Matrix([\n",
       "[1, 2, 2],\n",
       "[2, 4, 4],\n",
       "[2, 4, 4]])"
      ]
     },
     "execution_count": 80,
     "metadata": {},
     "output_type": "execute_result"
    }
   ],
   "source": [
    "Matrix(pi_b)"
   ]
  },
  {
   "cell_type": "code",
   "execution_count": 82,
   "id": "f0d5721d-9f51-4b1b-adf4-0c9a66530a4b",
   "metadata": {},
   "outputs": [
    {
     "data": {
      "text/plain": [
       "9.0"
      ]
     },
     "execution_count": 82,
     "metadata": {},
     "output_type": "execute_result"
    }
   ],
   "source": []
  },
  {
   "cell_type": "code",
   "execution_count": 74,
   "id": "c9ab4cd9-bc6f-48fd-bce1-d8d00eea198c",
   "metadata": {},
   "outputs": [
    {
     "data": {
      "text/plain": [
       "array([[3],\n",
       "       [0],\n",
       "       [4]])"
      ]
     },
     "execution_count": 74,
     "metadata": {},
     "output_type": "execute_result"
    }
   ],
   "source": [
    "b = np.array([[3],[0],[4]])\n",
    "b"
   ]
  },
  {
   "cell_type": "code",
   "execution_count": 75,
   "id": "7d0dd896-1813-46c8-8c26-4267b994c7b9",
   "metadata": {},
   "outputs": [
    {
     "data": {
      "text/plain": [
       "array([[ 9,  0, 12],\n",
       "       [ 0,  0,  0],\n",
       "       [12,  0, 16]])"
      ]
     },
     "execution_count": 75,
     "metadata": {},
     "output_type": "execute_result"
    }
   ],
   "source": [
    "pi_b=b @ b.T \n",
    "pi_b"
   ]
  },
  {
   "cell_type": "code",
   "execution_count": null,
   "id": "71370981-42f0-4ee6-a1f0-3095edd208e0",
   "metadata": {},
   "outputs": [],
   "source": []
  },
  {
   "cell_type": "markdown",
   "id": "12b9a3a5-d7d4-4235-8be4-73d81a092453",
   "metadata": {},
   "source": [
    "Given the projection matrix\n",
    "\n",
    "$\\displaystyle\\frac{1}{25}\\begin{bmatrix} 9 & 0 & 12\\\\ 0 & 0 & 0\\\\ 12 & 0 & 16 \\end{bmatrix} $\n",
    "\n",
    "project $\\begin{bmatrix}1\\\\1\\\\1 \\end{bmatrix}$ \n",
    "\n",
    "  onto the corresponding subspace, which is spanned by $\\mathbf{b} = \\begin{bmatrix} 3\\\\0\\\\4\\end{bmatrix}$"
   ]
  },
  {
   "cell_type": "code",
   "execution_count": 38,
   "id": "9ad1604b-cac6-4819-88a5-6a498a53220e",
   "metadata": {},
   "outputs": [
    {
     "data": {
      "text/plain": [
       "array([[0.36, 0.  , 0.48],\n",
       "       [0.  , 0.  , 0.  ],\n",
       "       [0.48, 0.  , 0.64]])"
      ]
     },
     "execution_count": 38,
     "metadata": {},
     "output_type": "execute_result"
    }
   ],
   "source": [
    "ma = np.array([[9,0,12],[0,0,0],[12,0,16]]) * (1/25)\n",
    "ma"
   ]
  },
  {
   "cell_type": "code",
   "execution_count": 45,
   "id": "5688efc7-5b75-43d3-8dcc-4b0917538683",
   "metadata": {},
   "outputs": [
    {
     "data": {
      "text/plain": [
       "array([[0.84],\n",
       "       [0.  ],\n",
       "       [1.12]])"
      ]
     },
     "execution_count": 45,
     "metadata": {},
     "output_type": "execute_result"
    }
   ],
   "source": [
    "proy = ma @ np.array([[1,1,1]]).T\n",
    "proy"
   ]
  },
  {
   "cell_type": "code",
   "execution_count": 46,
   "id": "118f3ada-6220-4621-8edc-d3eace812425",
   "metadata": {},
   "outputs": [
    {
     "data": {
      "text/plain": [
       "array([[3],\n",
       "       [0],\n",
       "       [4]])"
      ]
     },
     "execution_count": 46,
     "metadata": {},
     "output_type": "execute_result"
    }
   ],
   "source": [
    "b = np.array([[3,0,4]]).T\n",
    "b"
   ]
  },
  {
   "cell_type": "code",
   "execution_count": 47,
   "id": "477e2596-72a4-4609-a7c8-4ac0b17aeb85",
   "metadata": {},
   "outputs": [
    {
     "data": {
      "text/plain": [
       "array([[0.84],\n",
       "       [0.  ],\n",
       "       [1.12]])"
      ]
     },
     "execution_count": 47,
     "metadata": {},
     "output_type": "execute_result"
    }
   ],
   "source": [
    "proy @ b.T @ b / (b.T @ b)"
   ]
  },
  {
   "cell_type": "code",
   "execution_count": 49,
   "id": "7861e7c3-fd44-4d27-8386-ecf4ee5d153e",
   "metadata": {},
   "outputs": [
    {
     "data": {
      "text/plain": [
       "(0.84, 1.12)"
      ]
     },
     "execution_count": 49,
     "metadata": {},
     "output_type": "execute_result"
    }
   ],
   "source": [
    "21/25,28/25"
   ]
  },
  {
   "cell_type": "markdown",
   "id": "54873964-0b2d-4a32-ae83-5dba5e679e95",
   "metadata": {},
   "source": [
    "Now, we compute the reconstruction error, i.e., the distance between the original data point and its projection onto a lower-dimensional subspace.\n",
    "\n",
    "Assume our original data point is $\\begin{bmatrix} 1 \\\\ 1 \\\\ 1 \\end{bmatrix}$ \n",
    "\n",
    "  and its projection $\\frac{1}{9} \\begin{bmatrix} 5 \\\\ 10 \\\\ 10 \\end{bmatrix}$ \n",
    " . What is the reconstruction error?"
   ]
  },
  {
   "cell_type": "markdown",
   "id": "842a875f-8e3a-4527-856b-2395b256a48c",
   "metadata": {},
   "source": [
    "Asumiendo que el producto interno es el producto escalar, solo necesitas calcular: $sqrt(<x-Pi_u(x), x-Pi_u(x)>)$, para obtener la respuesta."
   ]
  },
  {
   "cell_type": "code",
   "execution_count": 57,
   "id": "28101590-f394-4597-9e23-cc89757d3015",
   "metadata": {},
   "outputs": [
    {
     "data": {
      "text/plain": [
       "(array([[1],\n",
       "        [1],\n",
       "        [1]]),\n",
       " array([[0.55555556, 1.11111111, 1.11111111]]))"
      ]
     },
     "execution_count": 57,
     "metadata": {},
     "output_type": "execute_result"
    }
   ],
   "source": [
    "x = np.array([[1,1,1]]).T\n",
    "pi_x = np.array([[5,10,10]])"
   ]
  },
  {
   "cell_type": "code",
   "execution_count": 76,
   "id": "e8d658ad-d646-4091-97e9-cbe2e80a4cbc",
   "metadata": {},
   "outputs": [
    {
     "data": {
      "text/plain": [
       "array([[-0.22222222],\n",
       "       [-0.22222222],\n",
       "       [-0.22222222]])"
      ]
     },
     "execution_count": 76,
     "metadata": {},
     "output_type": "execute_result"
    }
   ],
   "source": [
    "(pi_x -x).dot(x) "
   ]
  },
  {
   "cell_type": "code",
   "execution_count": 78,
   "id": "c0ce98c9-f98b-45b2-be9e-7e68d5b253dc",
   "metadata": {},
   "outputs": [
    {
     "data": {
      "text/plain": [
       "array([[-1.33333333],\n",
       "       [ 0.33333333],\n",
       "       [ 0.33333333]])"
      ]
     },
     "execution_count": 78,
     "metadata": {},
     "output_type": "execute_result"
    }
   ],
   "source": [
    "(pi_x -x).T.dot(x)"
   ]
  },
  {
   "cell_type": "code",
   "execution_count": 80,
   "id": "dbdc50d5-2c9d-4e84-8180-b180ce96d01a",
   "metadata": {},
   "outputs": [
    {
     "data": {
      "text/plain": [
       "array([[-0.22222222, -0.22222222, -0.22222222]])"
      ]
     },
     "execution_count": 80,
     "metadata": {},
     "output_type": "execute_result"
    }
   ],
   "source": [
    "(pi_x -x).dot(x).T   "
   ]
  },
  {
   "cell_type": "code",
   "execution_count": 86,
   "id": "a90b816c-eee8-4424-94d3-175e4ed77189",
   "metadata": {},
   "outputs": [
    {
     "data": {
      "text/plain": [
       "array([[0.14814815]])"
      ]
     },
     "execution_count": 86,
     "metadata": {},
     "output_type": "execute_result"
    }
   ],
   "source": [
    "((x-pi_x).dot(x).T @ (x-pi_x).dot(x) )"
   ]
  },
  {
   "cell_type": "code",
   "execution_count": 114,
   "id": "6db9cf8d-f994-45f2-ad4b-efc21319223a",
   "metadata": {},
   "outputs": [
    {
     "data": {
      "text/plain": [
       "array([[0.22222222, 0.22222222, 0.22222222],\n",
       "       [0.22222222, 0.22222222, 0.22222222],\n",
       "       [0.22222222, 0.22222222, 0.22222222]])"
      ]
     },
     "execution_count": 114,
     "metadata": {},
     "output_type": "execute_result"
    }
   ],
   "source": [
    "((x-pi_x) @ (x-pi_x).T)"
   ]
  },
  {
   "cell_type": "code",
   "execution_count": 111,
   "id": "633b9629-71d9-4136-8835-1d8d3d03e217",
   "metadata": {},
   "outputs": [
    {
     "data": {
      "text/plain": [
       "array([[0.55555556],\n",
       "       [1.11111111],\n",
       "       [1.11111111]])"
      ]
     },
     "execution_count": 111,
     "metadata": {},
     "output_type": "execute_result"
    }
   ],
   "source": [
    "pi_x.T"
   ]
  },
  {
   "cell_type": "code",
   "execution_count": 112,
   "id": "ed8aace0-1b9e-4046-8be2-a2c3babccaf5",
   "metadata": {},
   "outputs": [
    {
     "data": {
      "text/plain": [
       "array([[0.55555556, 1.11111111, 1.11111111]])"
      ]
     },
     "execution_count": 112,
     "metadata": {},
     "output_type": "execute_result"
    }
   ],
   "source": [
    "pi_x"
   ]
  },
  {
   "cell_type": "markdown",
   "id": "c586be33-8ddd-46c4-9254-9a92b29cf1de",
   "metadata": {},
   "source": [
    "The \"hint\" here is \"...With a basis vector b of U...etc\", so, we have to extract the basis vector b which is one of the components of the projection matrix. i.e : 1/9 [5, 10, 10] = 1/9 [5*1, 5*2, 5*2]. So, inside this matrix we have a scalar times vector, than : the basis vector b = [1, 2, 2]. Now we compute the distance x - b = [0, -1, -1]. \n",
    "\n",
    "||x - b|| = √(0)² + (-1)² + (-1)² = √2 = 1.414. we multiply by √λ = √1/9 = 1/3 then :\n",
    "\n",
    "1.414 / 3 = 0.471 = reconstruction error.\n",
    "\n"
   ]
  },
  {
   "cell_type": "markdown",
   "id": "872b265b-3693-4e1d-b67f-350909c181d1",
   "metadata": {},
   "source": [
    "La \"pista\" aquí es \"...Con un vector base b de U...etc\", por lo tanto, tenemos que extraer el vector base b que es uno de los componentes de la matriz de proyección. es decir : 1/9 [5, 10, 10] = 1/9 [5\\*1, 5\\*2, 5*2]. Por lo tanto, dentro de esta matriz tenemos un vector escalar veces, que : el vector base b = [1, 2, 2]. Ahora calculamos la distancia x - b = [0, -1, -1]. \n",
    "\n",
    "||x - b|| = √(0)² + (-1)² + (-1)² = √2 = 1.414. multiplicamos por √λ = √1/9 = 1/3 entonces :\n",
    "\n",
    "1,414 / 3 = 0,471 = error de reconstrucción.\n",
    "\n"
   ]
  },
  {
   "cell_type": "code",
   "execution_count": null,
   "id": "9ef9f413-3ec7-4553-8d75-2f2ecbcd571d",
   "metadata": {},
   "outputs": [],
   "source": []
  },
  {
   "cell_type": "code",
   "execution_count": 1,
   "id": "2c0b54e4-0294-494f-aa38-c0fb38bfe776",
   "metadata": {},
   "outputs": [],
   "source": [
    "import numpy as np"
   ]
  },
  {
   "cell_type": "markdown",
   "id": "b922d6ab-6dbe-41f8-a6ce-2f4e8f9ae54f",
   "metadata": {},
   "source": [
    "For a vector $\\mathbf{x} = \\begin{bmatrix} 6 \\\\0\\\\ 0\\end{bmatrix}$\n",
    "  and the subspace UU spanned by the basis vectors  $\\mathbf{b}_1=\\begin{bmatrix} 1\\\\1\\\\1\\end{bmatrix}$ \n",
    "  and $\\mathbf{b}_2=\\begin{bmatrix}0\\\\1\\\\2\\end{bmatrix}$ \n",
    " , which of the following statements are true?\n",
    "\n",
    "You can use the formula slide that comes with the corresponding lecture."
   ]
  },
  {
   "cell_type": "code",
   "execution_count": 48,
   "id": "01b37594-8803-43c9-a6b9-374d36a3afef",
   "metadata": {},
   "outputs": [],
   "source": [
    "# ejemplo del video\n",
    "\n",
    "x = np.array([[2,1,1]]).T\n",
    "b1 = np.array([[1,2,0]]).T\n",
    "b2 = np.array([[1,1,0]]).T\n",
    "B = np.hstack((b1,b2))"
   ]
  },
  {
   "cell_type": "code",
   "execution_count": 47,
   "id": "430fc730-c3bc-4d43-85cd-6b27b1717e1f",
   "metadata": {},
   "outputs": [
    {
     "data": {
      "text/plain": [
       "(array([[2],\n",
       "        [1],\n",
       "        [1]]),\n",
       " array([[1],\n",
       "        [2],\n",
       "        [0]]),\n",
       " array([[1],\n",
       "        [1],\n",
       "        [0]]))"
      ]
     },
     "execution_count": 47,
     "metadata": {},
     "output_type": "execute_result"
    }
   ],
   "source": [
    "x,b1,b2"
   ]
  },
  {
   "cell_type": "code",
   "execution_count": 49,
   "id": "9df00edd-39ae-479e-8501-4d10f67262c8",
   "metadata": {},
   "outputs": [
    {
     "data": {
      "text/plain": [
       "array([[1, 1],\n",
       "       [2, 1],\n",
       "       [0, 0]])"
      ]
     },
     "execution_count": 49,
     "metadata": {},
     "output_type": "execute_result"
    }
   ],
   "source": [
    "B"
   ]
  },
  {
   "cell_type": "code",
   "execution_count": 50,
   "id": "ff251113-0a4e-4d20-9ec6-6fada85ad506",
   "metadata": {},
   "outputs": [
    {
     "data": {
      "text/plain": [
       "array([[5, 3],\n",
       "       [3, 2]])"
      ]
     },
     "execution_count": 50,
     "metadata": {},
     "output_type": "execute_result"
    }
   ],
   "source": [
    "B.T @ B"
   ]
  },
  {
   "cell_type": "code",
   "execution_count": 51,
   "id": "f69e7070-65a3-445a-91c9-f0aa873a0a9d",
   "metadata": {},
   "outputs": [
    {
     "data": {
      "text/plain": [
       "array([[4],\n",
       "       [3]])"
      ]
     },
     "execution_count": 51,
     "metadata": {},
     "output_type": "execute_result"
    }
   ],
   "source": [
    "B.T @ x"
   ]
  },
  {
   "cell_type": "code",
   "execution_count": 52,
   "id": "e8f09bf1-c3dc-4795-a331-6f419cb4b7c1",
   "metadata": {},
   "outputs": [
    {
     "data": {
      "text/plain": [
       "array([[ 2., -3.],\n",
       "       [-3.,  5.]])"
      ]
     },
     "execution_count": 52,
     "metadata": {},
     "output_type": "execute_result"
    }
   ],
   "source": [
    "np.linalg.inv(B.T @ B)"
   ]
  },
  {
   "cell_type": "code",
   "execution_count": 54,
   "id": "cb7ffdc7-05fb-42ca-b625-bb4bf86b168f",
   "metadata": {},
   "outputs": [
    {
     "data": {
      "text/plain": [
       "array([[-1.],\n",
       "       [ 3.]])"
      ]
     },
     "execution_count": 54,
     "metadata": {},
     "output_type": "execute_result"
    }
   ],
   "source": [
    "l=np.linalg.inv(B.T @ B) @ (B.T @ x)\n",
    "l"
   ]
  },
  {
   "cell_type": "code",
   "execution_count": 55,
   "id": "42421085-64a3-4ba5-9d51-656f3f1d1867",
   "metadata": {},
   "outputs": [
    {
     "data": {
      "text/plain": [
       "array([[2.],\n",
       "       [1.],\n",
       "       [0.]])"
      ]
     },
     "execution_count": 55,
     "metadata": {},
     "output_type": "execute_result"
    }
   ],
   "source": [
    "pi_u = l[0] * b1 + l[1]*b2\n",
    "pi_u"
   ]
  },
  {
   "cell_type": "code",
   "execution_count": 107,
   "id": "40a37467-2cc2-43fc-b233-e5766615592b",
   "metadata": {},
   "outputs": [
    {
     "data": {
      "text/plain": [
       "(array([[6],\n",
       "        [0],\n",
       "        [0]]),\n",
       " array([[1],\n",
       "        [1],\n",
       "        [1]]),\n",
       " array([[0],\n",
       "        [1],\n",
       "        [2]]),\n",
       " array([[1, 0],\n",
       "        [1, 1],\n",
       "        [1, 2]]))"
      ]
     },
     "execution_count": 107,
     "metadata": {},
     "output_type": "execute_result"
    }
   ],
   "source": [
    "x = np.array([[6,0,0]]).T\n",
    "b1 = np.array([[1,1,1]]).T\n",
    "b2 = np.array([[0,1,2]]).T\n",
    "B = np.hstack((b1,b2))\n",
    "x,b1,b2,B"
   ]
  },
  {
   "cell_type": "code",
   "execution_count": 108,
   "id": "15b7f09f-c735-45ab-a5d7-0b57bdc3ce5a",
   "metadata": {},
   "outputs": [
    {
     "data": {
      "text/plain": [
       "array([[3, 3],\n",
       "       [3, 5]])"
      ]
     },
     "execution_count": 108,
     "metadata": {},
     "output_type": "execute_result"
    }
   ],
   "source": [
    "B.T @ B"
   ]
  },
  {
   "cell_type": "code",
   "execution_count": 109,
   "id": "d0a54de7-79d8-4148-9fd0-e2df63890e4c",
   "metadata": {},
   "outputs": [
    {
     "data": {
      "text/plain": [
       "array([[ 0.83333333, -0.5       ],\n",
       "       [-0.5       ,  0.5       ]])"
      ]
     },
     "execution_count": 109,
     "metadata": {},
     "output_type": "execute_result"
    }
   ],
   "source": [
    "np.linalg.inv(B.T @ B)"
   ]
  },
  {
   "cell_type": "code",
   "execution_count": 110,
   "id": "356f5f7a-9f4b-4896-a261-f75e5e25044c",
   "metadata": {},
   "outputs": [
    {
     "data": {
      "text/plain": [
       "array([[ 5.],\n",
       "       [-3.]])"
      ]
     },
     "execution_count": 110,
     "metadata": {},
     "output_type": "execute_result"
    }
   ],
   "source": [
    "l=np.linalg.inv(B.T @ B) @ (B.T @ x)\n",
    "l"
   ]
  },
  {
   "cell_type": "code",
   "execution_count": 111,
   "id": "fe01d476-4950-4f35-b2a9-4d17a96aecd1",
   "metadata": {},
   "outputs": [
    {
     "data": {
      "text/plain": [
       "array([[ 5.],\n",
       "       [ 2.],\n",
       "       [-1.]])"
      ]
     },
     "execution_count": 111,
     "metadata": {},
     "output_type": "execute_result"
    }
   ],
   "source": [
    "pi_u = l[0] * b1 + l[1]*b2\n",
    "pi_u"
   ]
  },
  {
   "cell_type": "code",
   "execution_count": 93,
   "id": "6f25d178-3f08-45dd-bb72-07dd2407945a",
   "metadata": {},
   "outputs": [
    {
     "data": {
      "text/plain": [
       "array([[1, 1, 1],\n",
       "       [1, 2, 3],\n",
       "       [1, 3, 5]])"
      ]
     },
     "execution_count": 93,
     "metadata": {},
     "output_type": "execute_result"
    }
   ],
   "source": [
    "pi_B = (B @ B.T)\n",
    "pi_B"
   ]
  },
  {
   "cell_type": "code",
   "execution_count": 116,
   "id": "15fa95e3-af25-468d-acbb-c6234f623e29",
   "metadata": {},
   "outputs": [
    {
     "data": {
      "text/plain": [
       "array([[ 5.,  2., -1.],\n",
       "       [ 2.,  2.,  2.],\n",
       "       [-1.,  2.,  5.]])"
      ]
     },
     "execution_count": 116,
     "metadata": {},
     "output_type": "execute_result"
    }
   ],
   "source": [
    "matrix_proj = B @ np.linalg.inv(B.T @ B) @ B.T \n",
    "matrix_proj * 6"
   ]
  },
  {
   "cell_type": "code",
   "execution_count": 117,
   "id": "e2f47b4e-3758-4877-9622-1180c3996844",
   "metadata": {},
   "outputs": [
    {
     "data": {
      "text/plain": [
       "array([[3.],\n",
       "       [2.],\n",
       "       [2.]])"
      ]
     },
     "execution_count": 117,
     "metadata": {},
     "output_type": "execute_result"
    }
   ],
   "source": [
    "x = np.array([[3,2,2]]).T\n",
    "b1 = np.array([[1,0,0]]).T\n",
    "b2 = np.array([[0,1,1]]).T\n",
    "B = np.hstack((b1,b2))\n",
    "l=np.linalg.inv(B.T @ B) @ (B.T @ x)\n",
    "pi_u = l[0] * b1 + l[1]*b2\n",
    "pi_u"
   ]
  },
  {
   "cell_type": "code",
   "execution_count": 104,
   "id": "b1cff8b0-1b7f-44ed-9b44-931dda9a7712",
   "metadata": {},
   "outputs": [
    {
     "data": {
      "text/plain": [
       "array([[1, 1, 1],\n",
       "       [1, 2, 3],\n",
       "       [1, 3, 5]])"
      ]
     },
     "execution_count": 104,
     "metadata": {},
     "output_type": "execute_result"
    }
   ],
   "source": [
    "x = np.array([[12,0,0]]).T\n",
    "b1 = np.array([[1,1,1]]).T\n",
    "b2 = np.array([[0,1,2]]).T\n",
    "B = np.hstack((b1,b2))\n",
    "pi_B= B @ B.T\n",
    "\n",
    "pi_B"
   ]
  },
  {
   "cell_type": "code",
   "execution_count": 105,
   "id": "d9035614-d4a8-4dbf-8fc4-feac7451611a",
   "metadata": {},
   "outputs": [
    {
     "ename": "ValueError",
     "evalue": "operands could not be broadcast together with shapes (3,3) (2,2) ",
     "output_type": "error",
     "traceback": [
      "\u001b[0;31m---------------------------------------------------------------------------\u001b[0m",
      "\u001b[0;31mValueError\u001b[0m                                Traceback (most recent call last)",
      "\u001b[0;32m/tmp/ipykernel_22292/1943965055.py\u001b[0m in \u001b[0;36m<module>\u001b[0;34m\u001b[0m\n\u001b[0;32m----> 1\u001b[0;31m \u001b[0mpi_B\u001b[0m \u001b[0;34m/\u001b[0m \u001b[0;34m(\u001b[0m\u001b[0mB\u001b[0m\u001b[0;34m.\u001b[0m\u001b[0mT\u001b[0m \u001b[0;34m@\u001b[0m \u001b[0mB\u001b[0m\u001b[0;34m)\u001b[0m\u001b[0;34m\u001b[0m\u001b[0;34m\u001b[0m\u001b[0m\n\u001b[0m",
      "\u001b[0;31mValueError\u001b[0m: operands could not be broadcast together with shapes (3,3) (2,2) "
     ]
    }
   ],
   "source": [
    "pi_B / (B.T @ B)"
   ]
  },
  {
   "cell_type": "code",
   "execution_count": 106,
   "id": "aca3acb2-f755-4040-b564-18537040b51f",
   "metadata": {},
   "outputs": [
    {
     "data": {
      "text/plain": [
       "array([[10.],\n",
       "       [ 4.],\n",
       "       [-2.]])"
      ]
     },
     "execution_count": 106,
     "metadata": {},
     "output_type": "execute_result"
    }
   ],
   "source": [
    "l=np.linalg.inv(B.T @ B) @ (B.T @ x)\n",
    "pi_u = l[0] * b1 + l[1]*b2\n",
    "pi_u"
   ]
  },
  {
   "cell_type": "code",
   "execution_count": null,
   "id": "d6ec4f3e-37be-4185-be06-4e698ab50293",
   "metadata": {},
   "outputs": [],
   "source": []
  }
 ],
 "metadata": {
  "kernelspec": {
   "display_name": "anaconda",
   "language": "python",
   "name": "anaconda"
  },
  "language_info": {
   "codemirror_mode": {
    "name": "ipython",
    "version": 3
   },
   "file_extension": ".py",
   "mimetype": "text/x-python",
   "name": "python",
   "nbconvert_exporter": "python",
   "pygments_lexer": "ipython3",
   "version": "3.9.13"
  }
 },
 "nbformat": 4,
 "nbformat_minor": 5
}
