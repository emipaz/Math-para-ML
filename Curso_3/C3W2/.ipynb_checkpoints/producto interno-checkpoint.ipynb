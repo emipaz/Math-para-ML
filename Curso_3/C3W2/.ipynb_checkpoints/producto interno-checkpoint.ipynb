{
 "cells": [
  {
   "cell_type": "code",
   "execution_count": 1,
   "id": "901413f6-431d-4e31-8e51-48242c1abcf3",
   "metadata": {},
   "outputs": [],
   "source": [
    "import numpy as np"
   ]
  },
  {
   "cell_type": "markdown",
   "id": "6f438dff-2e50-41d4-abb3-aa0225a8388b",
   "metadata": {},
   "source": [
    "\n",
    "Compute the length of\n",
    "\n",
    "$\\mathbf{x} = \\begin{bmatrix}1\\\\-1\\\\3\\end{bmatrix}$\n",
    "\n",
    "using the inner product defined\n",
    "\n",
    "$\\langle \\mathbf{a}, \\mathbf{b}\\rangle = \\mathbf{a}^T \\begin{bmatrix} 2 & 1 & 0\\\\1 & 2 & -1\\\\0 & -1 & 2\\end{bmatrix}\\mathbf{b}$"
   ]
  },
  {
   "cell_type": "code",
   "execution_count": null,
   "id": "01a8b6aa-9963-4a4b-9a19-1b54da64314c",
   "metadata": {},
   "outputs": [],
   "source": []
  },
  {
   "cell_type": "code",
   "execution_count": 2,
   "id": "7d28c39b-c957-47ce-97ea-deefeea258d4",
   "metadata": {},
   "outputs": [
    {
     "data": {
      "text/plain": [
       "array([[ 1, -1,  3]])"
      ]
     },
     "execution_count": 2,
     "metadata": {},
     "output_type": "execute_result"
    }
   ],
   "source": [
    "x = np.array([[1,-1,3]])\n",
    "x"
   ]
  },
  {
   "cell_type": "code",
   "execution_count": 3,
   "id": "ab3b2b69-d790-4796-a3fd-50b550d3eef9",
   "metadata": {},
   "outputs": [
    {
     "data": {
      "text/plain": [
       "array([[ 2,  1,  0],\n",
       "       [ 1,  2, -1],\n",
       "       [ 0, -1,  2]])"
      ]
     },
     "execution_count": 3,
     "metadata": {},
     "output_type": "execute_result"
    }
   ],
   "source": [
    "y = np.array([[2,1,0],[1,2,-1],[0,-1,2]])\n",
    "y"
   ]
  },
  {
   "cell_type": "code",
   "execution_count": 16,
   "id": "44236a14-ecd1-428a-978c-36b664652a96",
   "metadata": {},
   "outputs": [
    {
     "data": {
      "text/plain": [
       "array([[ 1],\n",
       "       [-4],\n",
       "       [ 7]])"
      ]
     },
     "execution_count": 16,
     "metadata": {},
     "output_type": "execute_result"
    }
   ],
   "source": [
    "a = y.dot(x.T)\n",
    "a"
   ]
  },
  {
   "cell_type": "code",
   "execution_count": 19,
   "id": "26487a92-28c0-4ea1-b35f-c36ab3874622",
   "metadata": {},
   "outputs": [
    {
     "data": {
      "text/plain": [
       "array([[26]])"
      ]
     },
     "execution_count": 19,
     "metadata": {},
     "output_type": "execute_result"
    }
   ],
   "source": [
    "ab = (x.dot(a))\n",
    "ab"
   ]
  },
  {
   "cell_type": "markdown",
   "id": "e89f1bc9-7dbd-4847-9e06-3efb5b2a656e",
   "metadata": {},
   "source": [
    "\n",
    "Compute the squared distance between\n",
    "\n",
    "$\\mathbf{x} = \\begin{bmatrix}\\frac{1}{2} \\\\-1 \\\\-\\frac{1}{2}\\end{bmatrix}$\n",
    " \n",
    "\n",
    "and \n",
    "\n",
    "$\\mathbf{y} = \\begin{bmatrix}0\\\\1\\\\0\\end{bmatrix}$\n",
    "\n",
    "using the inner product defined as\n",
    "\n",
    "$\\langle \\mathbf{a}, \\mathbf{b}\\rangle = \\mathbf{a}^T \\begin{bmatrix} 2 & 1 & 0\\\\1 & 2 & -1\\\\0 & -1 & 2\\end{bmatrix}\\mathbf{b}$"
   ]
  },
  {
   "cell_type": "code",
   "execution_count": 86,
   "id": "4a49e53c-7c25-402d-93b4-0b0cb6e15150",
   "metadata": {},
   "outputs": [
    {
     "data": {
      "text/plain": [
       "(array([[ 0.5, -1. , -0.5]]),\n",
       " array([[0, 1, 0]]),\n",
       " array([[ 2,  1,  0],\n",
       "        [ 1,  2, -1],\n",
       "        [ 0, -1,  2]]))"
      ]
     },
     "execution_count": 86,
     "metadata": {},
     "output_type": "execute_result"
    }
   ],
   "source": [
    "y = np.array([[0,1,0]])\n",
    "x = np.array([[1/2,-1,-1/2]])\n",
    "A = np.array([[2,1,0],[1,2,-1],[0,-1,2]])\n",
    "x,y,A"
   ]
  },
  {
   "cell_type": "code",
   "execution_count": 87,
   "id": "7bb99c15-89e7-47c4-b18a-8e8523ea167e",
   "metadata": {},
   "outputs": [
    {
     "data": {
      "text/plain": [
       "array([[5.]])"
      ]
     },
     "execution_count": 87,
     "metadata": {},
     "output_type": "execute_result"
    }
   ],
   "source": [
    "(y-x).dot(A).dot((y-x).T)"
   ]
  },
  {
   "cell_type": "markdown",
   "id": "e67f3f89-f0f1-4a1a-aee7-d8c924f61c89",
   "metadata": {},
   "source": [
    "Compute the length of $\\mathbf{x} = \\begin{bmatrix}-1\\\\1\\end{bmatrix}$\n",
    "\n",
    "using the inner product defined by \n",
    "\n",
    "$\\langle\\mathbf{a}, \\mathbf{b}\\rangle = \\mathbf{a}^T\\frac{1}{2}\\begin{bmatrix}5 & -1\\\\ -1 & 5\\end{bmatrix}\\mathbf{b}$"
   ]
  },
  {
   "cell_type": "code",
   "execution_count": 89,
   "id": "b4a4d993-2c4d-48f6-8d00-77234e0f6bdb",
   "metadata": {},
   "outputs": [
    {
     "data": {
      "text/plain": [
       "array([[-1],\n",
       "       [ 1]])"
      ]
     },
     "execution_count": 89,
     "metadata": {},
     "output_type": "execute_result"
    }
   ],
   "source": [
    "x = np.array([[-1],[1]])\n",
    "x"
   ]
  },
  {
   "cell_type": "code",
   "execution_count": 90,
   "id": "e49f8bb7-f75b-4045-9089-dc52c8e95956",
   "metadata": {},
   "outputs": [
    {
     "data": {
      "text/plain": [
       "array([[ 5, -1],\n",
       "       [-1,  5]])"
      ]
     },
     "execution_count": 90,
     "metadata": {},
     "output_type": "execute_result"
    }
   ],
   "source": [
    "A = np.array([[5,-1],[-1,5]])\n",
    "A"
   ]
  },
  {
   "cell_type": "code",
   "execution_count": 91,
   "id": "f5368f44-2fc6-4b0d-b35f-9bc88e0425f1",
   "metadata": {},
   "outputs": [
    {
     "data": {
      "text/plain": [
       "array([[6.]])"
      ]
     },
     "execution_count": 91,
     "metadata": {},
     "output_type": "execute_result"
    }
   ],
   "source": [
    "x.T.dot(A*(1/2)).dot(x)"
   ]
  },
  {
   "cell_type": "markdown",
   "id": "7b64a2c8-3777-463b-87ae-5fe8c1bac466",
   "metadata": {},
   "source": [
    "Compute the distance (not squared) between\n",
    "\n",
    "$\\mathbf{x} = \\begin{bmatrix}4 \\\\2 \\\\1\\end{bmatrix}$\n",
    "\n",
    "and\n",
    "\n",
    "$\\mathbf{y} = \\begin{bmatrix}0\\\\1\\\\0\\end{bmatrix}$\n",
    " \n",
    "\n",
    "using the inner product defined as\n",
    "\n",
    "$\\langle \\mathbf{a}, \\mathbf{b}\\rangle = \\mathbf{a}^T \\begin{bmatrix} 2 & 1 & 0\\\\1 & 2 & -1\\\\0 & -1 & 2\\end{bmatrix}\\mathbf{b}$"
   ]
  },
  {
   "cell_type": "code",
   "execution_count": 92,
   "id": "737ed443-f461-4875-8cc1-3f156f70eec3",
   "metadata": {},
   "outputs": [
    {
     "data": {
      "text/plain": [
       "(array([[4],\n",
       "        [2],\n",
       "        [1]]),\n",
       " array([[0],\n",
       "        [1],\n",
       "        [0]]),\n",
       " array([[ 2,  1,  0],\n",
       "        [ 1,  2, -1],\n",
       "        [ 0, -1,  2]]))"
      ]
     },
     "execution_count": 92,
     "metadata": {},
     "output_type": "execute_result"
    }
   ],
   "source": [
    "x = np.array([[4],[2],[1]])\n",
    "y = np.array([[0],[1],[0]])\n",
    "A = np.array([[2,1,0],[1,2,-1],[0,-1,2]])\n",
    "x,y,A"
   ]
  },
  {
   "cell_type": "code",
   "execution_count": 94,
   "id": "2d030081-24a5-4e27-9f3a-bf7feaa02c61",
   "metadata": {},
   "outputs": [
    {
     "data": {
      "text/plain": [
       "array([[6.4807407]])"
      ]
     },
     "execution_count": 94,
     "metadata": {},
     "output_type": "execute_result"
    }
   ],
   "source": [
    "np.sqrt((x-y).T.dot(A).dot((x-y)))"
   ]
  },
  {
   "cell_type": "code",
   "execution_count": null,
   "id": "6e81ee38-a95b-420d-8662-87cffa99fdc0",
   "metadata": {},
   "outputs": [],
   "source": []
  }
 ],
 "metadata": {
  "kernelspec": {
   "display_name": "anaconda",
   "language": "python",
   "name": "anaconda"
  },
  "language_info": {
   "codemirror_mode": {
    "name": "ipython",
    "version": 3
   },
   "file_extension": ".py",
   "mimetype": "text/x-python",
   "name": "python",
   "nbconvert_exporter": "python",
   "pygments_lexer": "ipython3",
   "version": "3.9.13"
  }
 },
 "nbformat": 4,
 "nbformat_minor": 5
}
