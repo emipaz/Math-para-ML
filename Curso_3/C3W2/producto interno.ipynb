{
 "cells": [
  {
   "cell_type": "code",
   "execution_count": 1,
   "id": "901413f6-431d-4e31-8e51-48242c1abcf3",
   "metadata": {},
   "outputs": [],
   "source": [
    "import numpy as np"
   ]
  },
  {
   "cell_type": "markdown",
   "id": "6f438dff-2e50-41d4-abb3-aa0225a8388b",
   "metadata": {},
   "source": [
    "\n",
    "Compute the length of\n",
    "\n",
    "$\\mathbf{x} = \\begin{bmatrix}1\\\\-1\\\\3\\end{bmatrix}$\n",
    "\n",
    "using the inner product defined\n",
    "\n",
    "$\\langle \\mathbf{a}, \\mathbf{b}\\rangle = \\mathbf{a}^T \\begin{bmatrix} 2 & 1 & 0\\\\1 & 2 & -1\\\\0 & -1 & 2\\end{bmatrix}\\mathbf{b}$"
   ]
  },
  {
   "cell_type": "code",
   "execution_count": null,
   "id": "01a8b6aa-9963-4a4b-9a19-1b54da64314c",
   "metadata": {},
   "outputs": [],
   "source": []
  },
  {
   "cell_type": "code",
   "execution_count": 2,
   "id": "7d28c39b-c957-47ce-97ea-deefeea258d4",
   "metadata": {},
   "outputs": [
    {
     "data": {
      "text/plain": [
       "array([[ 1, -1,  3]])"
      ]
     },
     "execution_count": 2,
     "metadata": {},
     "output_type": "execute_result"
    }
   ],
   "source": [
    "x = np.array([[1,-1,3]])\n",
    "x"
   ]
  },
  {
   "cell_type": "code",
   "execution_count": 3,
   "id": "ab3b2b69-d790-4796-a3fd-50b550d3eef9",
   "metadata": {},
   "outputs": [
    {
     "data": {
      "text/plain": [
       "array([[ 2,  1,  0],\n",
       "       [ 1,  2, -1],\n",
       "       [ 0, -1,  2]])"
      ]
     },
     "execution_count": 3,
     "metadata": {},
     "output_type": "execute_result"
    }
   ],
   "source": [
    "y = np.array([[2,1,0],[1,2,-1],[0,-1,2]])\n",
    "y"
   ]
  },
  {
   "cell_type": "code",
   "execution_count": 16,
   "id": "44236a14-ecd1-428a-978c-36b664652a96",
   "metadata": {},
   "outputs": [
    {
     "data": {
      "text/plain": [
       "array([[ 1],\n",
       "       [-4],\n",
       "       [ 7]])"
      ]
     },
     "execution_count": 16,
     "metadata": {},
     "output_type": "execute_result"
    }
   ],
   "source": [
    "a = y.dot(x.T)\n",
    "a"
   ]
  },
  {
   "cell_type": "code",
   "execution_count": 19,
   "id": "26487a92-28c0-4ea1-b35f-c36ab3874622",
   "metadata": {},
   "outputs": [
    {
     "data": {
      "text/plain": [
       "array([[26]])"
      ]
     },
     "execution_count": 19,
     "metadata": {},
     "output_type": "execute_result"
    }
   ],
   "source": [
    "ab = (x.dot(a))\n",
    "ab"
   ]
  },
  {
   "cell_type": "markdown",
   "id": "e89f1bc9-7dbd-4847-9e06-3efb5b2a656e",
   "metadata": {},
   "source": [
    "\n",
    "Compute the squared distance between\n",
    "\n",
    "$\\mathbf{x} = \\begin{bmatrix}\\frac{1}{2} \\\\-1 \\\\-\\frac{1}{2}\\end{bmatrix}$\n",
    " \n",
    "\n",
    "and \n",
    "\n",
    "$\\mathbf{y} = \\begin{bmatrix}0\\\\1\\\\0\\end{bmatrix}$\n",
    "\n",
    "using the inner product defined as\n",
    "\n",
    "$\\langle \\mathbf{a}, \\mathbf{b}\\rangle = \\mathbf{a}^T \\begin{bmatrix} 2 & 1 & 0\\\\1 & 2 & -1\\\\0 & -1 & 2\\end{bmatrix}\\mathbf{b}$"
   ]
  },
  {
   "cell_type": "code",
   "execution_count": 86,
   "id": "4a49e53c-7c25-402d-93b4-0b0cb6e15150",
   "metadata": {},
   "outputs": [
    {
     "data": {
      "text/plain": [
       "(array([[ 0.5, -1. , -0.5]]),\n",
       " array([[0, 1, 0]]),\n",
       " array([[ 2,  1,  0],\n",
       "        [ 1,  2, -1],\n",
       "        [ 0, -1,  2]]))"
      ]
     },
     "execution_count": 86,
     "metadata": {},
     "output_type": "execute_result"
    }
   ],
   "source": [
    "y = np.array([[0,1,0]])\n",
    "x = np.array([[1/2,-1,-1/2]])\n",
    "A = np.array([[2,1,0],[1,2,-1],[0,-1,2]])\n",
    "x,y,A"
   ]
  },
  {
   "cell_type": "code",
   "execution_count": 87,
   "id": "7bb99c15-89e7-47c4-b18a-8e8523ea167e",
   "metadata": {},
   "outputs": [
    {
     "data": {
      "text/plain": [
       "array([[5.]])"
      ]
     },
     "execution_count": 87,
     "metadata": {},
     "output_type": "execute_result"
    }
   ],
   "source": [
    "(y-x).dot(A).dot((y-x).T)"
   ]
  },
  {
   "cell_type": "markdown",
   "id": "e67f3f89-f0f1-4a1a-aee7-d8c924f61c89",
   "metadata": {},
   "source": [
    "Compute the length of $\\mathbf{x} = \\begin{bmatrix}-1\\\\1\\end{bmatrix}$\n",
    "\n",
    "using the inner product defined by \n",
    "\n",
    "$\\langle\\mathbf{a}, \\mathbf{b}\\rangle = \\mathbf{a}^T\\frac{1}{2}\\begin{bmatrix}5 & -1\\\\ -1 & 5\\end{bmatrix}\\mathbf{b}$"
   ]
  },
  {
   "cell_type": "code",
   "execution_count": 89,
   "id": "b4a4d993-2c4d-48f6-8d00-77234e0f6bdb",
   "metadata": {},
   "outputs": [
    {
     "data": {
      "text/plain": [
       "array([[-1],\n",
       "       [ 1]])"
      ]
     },
     "execution_count": 89,
     "metadata": {},
     "output_type": "execute_result"
    }
   ],
   "source": [
    "x = np.array([[-1],[1]])\n",
    "x"
   ]
  },
  {
   "cell_type": "code",
   "execution_count": 90,
   "id": "e49f8bb7-f75b-4045-9089-dc52c8e95956",
   "metadata": {},
   "outputs": [
    {
     "data": {
      "text/plain": [
       "array([[ 5, -1],\n",
       "       [-1,  5]])"
      ]
     },
     "execution_count": 90,
     "metadata": {},
     "output_type": "execute_result"
    }
   ],
   "source": [
    "A = np.array([[5,-1],[-1,5]])\n",
    "A"
   ]
  },
  {
   "cell_type": "code",
   "execution_count": 91,
   "id": "f5368f44-2fc6-4b0d-b35f-9bc88e0425f1",
   "metadata": {},
   "outputs": [
    {
     "data": {
      "text/plain": [
       "array([[6.]])"
      ]
     },
     "execution_count": 91,
     "metadata": {},
     "output_type": "execute_result"
    }
   ],
   "source": [
    "x.T.dot(A*(1/2)).dot(x)"
   ]
  },
  {
   "cell_type": "markdown",
   "id": "7b64a2c8-3777-463b-87ae-5fe8c1bac466",
   "metadata": {},
   "source": [
    "Compute the distance (not squared) between\n",
    "\n",
    "$\\mathbf{x} = \\begin{bmatrix}4 \\\\2 \\\\1\\end{bmatrix}$\n",
    "\n",
    "and\n",
    "\n",
    "$\\mathbf{y} = \\begin{bmatrix}0\\\\1\\\\0\\end{bmatrix}$\n",
    " \n",
    "\n",
    "using the inner product defined as\n",
    "\n",
    "$\\langle \\mathbf{a}, \\mathbf{b}\\rangle = \\mathbf{a}^T \\begin{bmatrix} 2 & 1 & 0\\\\1 & 2 & -1\\\\0 & -1 & 2\\end{bmatrix}\\mathbf{b}$"
   ]
  },
  {
   "cell_type": "code",
   "execution_count": 92,
   "id": "737ed443-f461-4875-8cc1-3f156f70eec3",
   "metadata": {},
   "outputs": [
    {
     "data": {
      "text/plain": [
       "(array([[4],\n",
       "        [2],\n",
       "        [1]]),\n",
       " array([[0],\n",
       "        [1],\n",
       "        [0]]),\n",
       " array([[ 2,  1,  0],\n",
       "        [ 1,  2, -1],\n",
       "        [ 0, -1,  2]]))"
      ]
     },
     "execution_count": 92,
     "metadata": {},
     "output_type": "execute_result"
    }
   ],
   "source": [
    "x = np.array([[4],[2],[1]])\n",
    "y = np.array([[0],[1],[0]])\n",
    "A = np.array([[2,1,0],[1,2,-1],[0,-1,2]])\n",
    "x,y,A"
   ]
  },
  {
   "cell_type": "code",
   "execution_count": 94,
   "id": "2d030081-24a5-4e27-9f3a-bf7feaa02c61",
   "metadata": {},
   "outputs": [
    {
     "data": {
      "text/plain": [
       "array([[6.4807407]])"
      ]
     },
     "execution_count": 94,
     "metadata": {},
     "output_type": "execute_result"
    }
   ],
   "source": [
    "np.sqrt((x-y).T.dot(A).dot((x-y)))"
   ]
  },
  {
   "cell_type": "code",
   "execution_count": 216,
   "id": "6e81ee38-a95b-420d-8662-87cffa99fdc0",
   "metadata": {},
   "outputs": [
    {
     "data": {
      "text/plain": [
       "(array([[1],\n",
       "        [1]]),\n",
       " array([[-1],\n",
       "        [ 1]]),\n",
       " array([[2, 0],\n",
       "        [0, 1]]))"
      ]
     },
     "execution_count": 216,
     "metadata": {},
     "output_type": "execute_result"
    }
   ],
   "source": [
    "x = np.array([[1],[1]])\n",
    "y = np.array([[-1],[1]])\n",
    "A = np.array([[2,0],[0,1]])\n",
    "x,y,A"
   ]
  },
  {
   "cell_type": "code",
   "execution_count": 217,
   "id": "d6ee18db-0977-4bbb-ad14-b69951e4d5dd",
   "metadata": {},
   "outputs": [
    {
     "data": {
      "text/plain": [
       "array([[-1]])"
      ]
     },
     "execution_count": 217,
     "metadata": {},
     "output_type": "execute_result"
    }
   ],
   "source": [
    "x.T.dot(A).dot(y)"
   ]
  },
  {
   "cell_type": "code",
   "execution_count": 222,
   "id": "ff5ba435-6a0f-4811-8ac2-4d16b37cdcf9",
   "metadata": {},
   "outputs": [
    {
     "data": {
      "text/plain": [
       "array([[180.]])"
      ]
     },
     "execution_count": 222,
     "metadata": {},
     "output_type": "execute_result"
    }
   ],
   "source": [
    "np.rad2deg(np.arccos(x.T.dot(A).dot(y)))"
   ]
  },
  {
   "cell_type": "code",
   "execution_count": 211,
   "id": "64602961-3df9-45da-98c3-1510dc025a5e",
   "metadata": {},
   "outputs": [
    {
     "data": {
      "text/plain": [
       "0.0"
      ]
     },
     "execution_count": 211,
     "metadata": {},
     "output_type": "execute_result"
    }
   ],
   "source": [
    "np.radians(0)"
   ]
  },
  {
   "cell_type": "code",
   "execution_count": 212,
   "id": "61326808-99f5-4337-b8a1-7b0f2a6469fe",
   "metadata": {},
   "outputs": [
    {
     "data": {
      "text/plain": [
       "0.0"
      ]
     },
     "execution_count": 212,
     "metadata": {},
     "output_type": "execute_result"
    }
   ],
   "source": [
    "np.deg2rad(0.0)"
   ]
  },
  {
   "cell_type": "code",
   "execution_count": 213,
   "id": "07c3c488-6f44-4337-a998-6ce79e6fff1f",
   "metadata": {},
   "outputs": [
    {
     "data": {
      "text/plain": [
       "1.5707963267948966"
      ]
     },
     "execution_count": 213,
     "metadata": {},
     "output_type": "execute_result"
    }
   ],
   "source": [
    "np.radians(90)"
   ]
  },
  {
   "cell_type": "code",
   "execution_count": 141,
   "id": "94580bc3-dc74-43b4-ba12-a17b52940941",
   "metadata": {},
   "outputs": [
    {
     "data": {
      "text/plain": [
       "180.0"
      ]
     },
     "execution_count": 141,
     "metadata": {},
     "output_type": "execute_result"
    }
   ],
   "source": [
    "np.rad2deg(np.pi)"
   ]
  },
  {
   "cell_type": "code",
   "execution_count": 143,
   "id": "b83a65ec-0f01-47d9-a8f8-6d3d547650d0",
   "metadata": {},
   "outputs": [
    {
     "data": {
      "text/plain": [
       "array([[0]])"
      ]
     },
     "execution_count": 143,
     "metadata": {},
     "output_type": "execute_result"
    }
   ],
   "source": [
    "x.T.dot(y)"
   ]
  },
  {
   "cell_type": "markdown",
   "id": "67b5bea8-b3b0-4540-8d31-ce34f7bae1bf",
   "metadata": {},
   "source": [
    "Compute the angle between $\\mathbf{x} = \\begin{bmatrix}1\\\\1\\end{bmatrix}$  \n",
    "and   \n",
    "$\\mathbf{y} = \\begin{bmatrix}-1\\\\1\\end{bmatrix}$\n",
    "\n",
    "using the inner product defined by\n",
    "\n",
    "$\\langle \\mathbf{x},\\mathbf{y}\\rangle = \\mathbf{x}^T\\begin{bmatrix}2& -1 \\\\ -1 &  4\\end{bmatrix}\\mathbf{y}$"
   ]
  },
  {
   "cell_type": "code",
   "execution_count": 223,
   "id": "b5741537-b837-41ce-817d-7c18495502f1",
   "metadata": {},
   "outputs": [
    {
     "data": {
      "text/plain": [
       "(array([[1],\n",
       "        [1]]),\n",
       " array([[-1],\n",
       "        [ 1]]),\n",
       " array([[ 2, -1],\n",
       "        [-1,  4]]))"
      ]
     },
     "execution_count": 223,
     "metadata": {},
     "output_type": "execute_result"
    }
   ],
   "source": [
    "x = np.array([[1],[1]])\n",
    "y = np.array([[-1],[1]])\n",
    "A = np.array([[2,-1],[-1,4]])\n",
    "x,y,A"
   ]
  },
  {
   "cell_type": "code",
   "execution_count": 226,
   "id": "a191b143-2bef-415b-8b33-cf5c42d5bb65",
   "metadata": {},
   "outputs": [
    {
     "data": {
      "text/plain": [
       "array([[2]])"
      ]
     },
     "execution_count": 226,
     "metadata": {},
     "output_type": "execute_result"
    }
   ],
   "source": [
    "x.T.dot(A).dot(y)"
   ]
  },
  {
   "cell_type": "code",
   "execution_count": 234,
   "id": "ed933d89-41b8-454a-bc05-8830f01fa1b2",
   "metadata": {},
   "outputs": [
    {
     "data": {
      "text/plain": [
       "array([[5.65685425]])"
      ]
     },
     "execution_count": 234,
     "metadata": {},
     "output_type": "execute_result"
    }
   ],
   "source": [
    "np.sqrt((x.T @ A @ x)*(y.T @ A @ y)) "
   ]
  },
  {
   "cell_type": "code",
   "execution_count": 231,
   "id": "b414d4cd-fa10-41fe-a1bb-27fb832e0371",
   "metadata": {},
   "outputs": [],
   "source": [
    "cosW = (x.T.dot(A) @ y) / np.sqrt((x.T @ A @ x)*(y.T @ A @ y))"
   ]
  },
  {
   "cell_type": "code",
   "execution_count": 232,
   "id": "c41222e7-8a48-4a8a-bc4b-823a4a7ef6b1",
   "metadata": {},
   "outputs": [
    {
     "data": {
      "text/plain": [
       "array([[0.35355339]])"
      ]
     },
     "execution_count": 232,
     "metadata": {},
     "output_type": "execute_result"
    }
   ],
   "source": [
    "cosW"
   ]
  },
  {
   "cell_type": "code",
   "execution_count": 233,
   "id": "85466b9c-b9c3-4953-8bd1-33badf97781d",
   "metadata": {},
   "outputs": [
    {
     "data": {
      "text/plain": [
       "array([[1.2094292]])"
      ]
     },
     "execution_count": 233,
     "metadata": {},
     "output_type": "execute_result"
    }
   ],
   "source": [
    "np.arccos(cosW)"
   ]
  },
  {
   "cell_type": "markdown",
   "id": "7d6f6918-af3f-486b-beaa-6c0d7bfd3a8e",
   "metadata": {},
   "source": [
    "Compute the angle between $\\mathbf{x} = \\begin{bmatrix}0\\\\-1\\end{bmatrix}$\n",
    "and $\\mathbf{y} = \\begin{bmatrix}1\\\\1\\end{bmatrix}$\n",
    "using the inner product defined by\n",
    "\n",
    "$\\langle \\mathbf{x},\\mathbf{y}\\rangle = \\mathbf{x}^T\\begin{bmatrix}1 & -\\tfrac{1}{2}\\\\ -\\tfrac{1}{2} & 5\\end{bmatrix}\\mathbf{y}$\n",
    "To aid in computing this angle and the next ones in this quiz, let's write an expression in Python for the angle between two vectors using a non-standard inner product.\n",
    "\n",
    "Remember $\\cos{\\alpha} = \\frac{\\langle x,y\\rangle}{\\|x\\|\\cdot\\|y\\|} = \\frac{\\langle x,y\\rangle}{\\sqrt{\\langle x,x\\rangle}\\cdot\\sqrt{\\langle y,y\\rangle}}$\n",
    " \n",
    "\n",
    "Complete the expressions for norm_x and norm_y and then run the code. You might find the NumPy function np.sqrt useful."
   ]
  },
  {
   "cell_type": "code",
   "execution_count": 239,
   "id": "1ed301a0-b17e-4261-ae86-ad0a61a9d844",
   "metadata": {},
   "outputs": [],
   "source": [
    "def find_angle(A, x, y):\n",
    "    \"\"\"Compute the angle\"\"\"\n",
    "    inner_prod = x.T @ A @ y\n",
    "    # Fill in the expression for norm_x and norm_y below\n",
    "    norm_x = x.T @ A @ x\n",
    "    norm_y = y.T @ A @ y\n",
    "    alpha = inner_prod/ np.sqrt((norm_x*norm_y))\n",
    "    angle = np.arccos(alpha)\n",
    "    return np.round(angle,2) "
   ]
  },
  {
   "cell_type": "code",
   "execution_count": 240,
   "id": "70c48ece-fee6-4dcd-8783-0a19bb3397df",
   "metadata": {},
   "outputs": [],
   "source": [
    "# the matrix A defines the inner product\n",
    "A = np.array([[1, -1/2],[-1/2,5]])\n",
    "x = np.array([0,-1])\n",
    "y = np.array([1,1])"
   ]
  },
  {
   "cell_type": "code",
   "execution_count": 241,
   "id": "8ce0326a-6fef-4523-a350-f089995ae8b9",
   "metadata": {},
   "outputs": [
    {
     "data": {
      "text/plain": [
       "2.69"
      ]
     },
     "execution_count": 241,
     "metadata": {},
     "output_type": "execute_result"
    }
   ],
   "source": [
    "find_angle(A, x, y)"
   ]
  },
  {
   "cell_type": "code",
   "execution_count": 242,
   "id": "66fe4e0b-968c-4687-8422-58d78e128478",
   "metadata": {},
   "outputs": [
    {
     "data": {
      "text/plain": [
       "array([2, 2])"
      ]
     },
     "metadata": {},
     "output_type": "display_data"
    },
    {
     "data": {
      "text/plain": [
       "array([-2, -2])"
      ]
     },
     "metadata": {},
     "output_type": "display_data"
    },
    {
     "data": {
      "text/plain": [
       "array([[2, 1],\n",
       "       [1, 4]])"
      ]
     },
     "metadata": {},
     "output_type": "display_data"
    },
    {
     "data": {
      "text/plain": [
       "3.14"
      ]
     },
     "execution_count": 242,
     "metadata": {},
     "output_type": "execute_result"
    }
   ],
   "source": [
    "# the matrix A defines the inner product\n",
    "A = np.array([[2, 1],[1,4]])\n",
    "x = np.array([2,2])\n",
    "y = np.array([-2,-2])\n",
    "display(x)\n",
    "display(y)\n",
    "display(A)\n",
    "find_angle(A, x, y)"
   ]
  },
  {
   "cell_type": "code",
   "execution_count": 243,
   "id": "8aa47fbf-453c-412d-90f0-2adaee376a3e",
   "metadata": {},
   "outputs": [
    {
     "data": {
      "text/plain": [
       "array([[2.3]])"
      ]
     },
     "execution_count": 243,
     "metadata": {},
     "output_type": "execute_result"
    }
   ],
   "source": [
    "# Fill in the arrays and use the function `find_angle` defined for you to aid in your calculation\n",
    "A = np.array([ [1,0],[0,5]])\n",
    "x = np.array([[1],[1]])\n",
    "y = np.array([[1],[-1]])\n",
    "\n",
    "find_angle(A, x, y)"
   ]
  },
  {
   "cell_type": "code",
   "execution_count": null,
   "id": "67a962b9-c9d7-4b0a-9ea7-7dfc9a75469c",
   "metadata": {},
   "outputs": [],
   "source": []
  }
 ],
 "metadata": {
  "kernelspec": {
   "display_name": "anaconda",
   "language": "python",
   "name": "anaconda"
  },
  "language_info": {
   "codemirror_mode": {
    "name": "ipython",
    "version": 3
   },
   "file_extension": ".py",
   "mimetype": "text/x-python",
   "name": "python",
   "nbconvert_exporter": "python",
   "pygments_lexer": "ipython3",
   "version": "3.9.13"
  }
 },
 "nbformat": 4,
 "nbformat_minor": 5
}
